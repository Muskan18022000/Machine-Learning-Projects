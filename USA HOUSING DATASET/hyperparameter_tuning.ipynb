{
  "cells": [
    {
      "cell_type": "markdown",
      "id": "I1E0DVKFHz0k",
      "metadata": {
        "id": "I1E0DVKFHz0k"
      },
      "source": [
        "1. Undestanding the problem\n",
        "2. EDA\n",
        "3. Data Preprocessing\n",
        "4. Feature Selection  \n",
        "5. Modeling\n",
        "6. Evaluation."
      ]
    },
    {
      "cell_type": "code",
      "execution_count": null,
      "id": "63b2cb90",
      "metadata": {
        "colab": {
          "background_save": true
        },
        "id": "63b2cb90"
      },
      "outputs": [],
      "source": [
        "import numpy as np\n",
        "import pandas as pd\n",
        "import matplotlib.pyplot as plt\n",
        "import seaborn as sns\n",
        "import warnings"
      ]
    },
    {
      "cell_type": "code",
      "execution_count": null,
      "id": "2ce5c7b5",
      "metadata": {
        "id": "2ce5c7b5"
      },
      "outputs": [],
      "source": [
        "#Data sourcing\n",
        "data=pd.read_csv('/content/USA_Housing.csv')"
      ]
    },
    {
      "cell_type": "code",
      "execution_count": null,
      "id": "47cc1f8b",
      "metadata": {
        "colab": {
          "base_uri": "https://localhost:8080/",
          "height": 790
        },
        "id": "47cc1f8b",
        "outputId": "a1d4be08-4bfc-42d7-dc85-2923d1f76081"
      },
      "outputs": [
        {
          "data": {
            "application/vnd.google.colaboratory.intrinsic+json": {
              "summary": "{\n  \"name\": \"data\",\n  \"rows\": 5000,\n  \"fields\": [\n    {\n      \"column\": \"Avg. Area Income\",\n      \"properties\": {\n        \"dtype\": \"number\",\n        \"std\": 10657.99121383037,\n        \"min\": 17796.631189543397,\n        \"max\": 107701.74837763936,\n        \"num_unique_values\": 5000,\n        \"samples\": [\n          61907.59334528668,\n          57160.20224330715,\n          70190.79644494488\n        ],\n        \"semantic_type\": \"\",\n        \"description\": \"\"\n      }\n    },\n    {\n      \"column\": \"Avg. Area House Age\",\n      \"properties\": {\n        \"dtype\": \"number\",\n        \"std\": 0.9914561798281721,\n        \"min\": 2.644304186036705,\n        \"max\": 9.51908806613594,\n        \"num_unique_values\": 5000,\n        \"samples\": [\n          7.017837824742983,\n          6.893260095195835,\n          6.745053761849909\n        ],\n        \"semantic_type\": \"\",\n        \"description\": \"\"\n      }\n    },\n    {\n      \"column\": \"Avg. Area Number of Rooms\",\n      \"properties\": {\n        \"dtype\": \"number\",\n        \"std\": 1.0058332312773866,\n        \"min\": 3.2361940234262048,\n        \"max\": 10.759588335938624,\n        \"num_unique_values\": 5000,\n        \"samples\": [\n          6.440255754985625,\n          6.921532164642504,\n          6.6625667327280365\n        ],\n        \"semantic_type\": \"\",\n        \"description\": \"\"\n      }\n    },\n    {\n      \"column\": \"Avg. Area Number of Bedrooms\",\n      \"properties\": {\n        \"dtype\": \"number\",\n        \"std\": 1.2341372654846832,\n        \"min\": 2.0,\n        \"max\": 6.5,\n        \"num_unique_values\": 255,\n        \"samples\": [\n          3.5,\n          3.41,\n          3.33\n        ],\n        \"semantic_type\": \"\",\n        \"description\": \"\"\n      }\n    },\n    {\n      \"column\": \"Area Population\",\n      \"properties\": {\n        \"dtype\": \"number\",\n        \"std\": 9925.650113501235,\n        \"min\": 172.61068627290044,\n        \"max\": 69621.7133777904,\n        \"num_unique_values\": 5000,\n        \"samples\": [\n          43828.947207425765,\n          43467.14703549413,\n          29215.13611183857\n        ],\n        \"semantic_type\": \"\",\n        \"description\": \"\"\n      }\n    },\n    {\n      \"column\": \"Price\",\n      \"properties\": {\n        \"dtype\": \"number\",\n        \"std\": 353117.62658106093,\n        \"min\": 15938.657923287848,\n        \"max\": 2469065.5941747027,\n        \"num_unique_values\": 5000,\n        \"samples\": [\n          1339096.0772451318,\n          1251794.178836864,\n          1340094.9662054193\n        ],\n        \"semantic_type\": \"\",\n        \"description\": \"\"\n      }\n    },\n    {\n      \"column\": \"Address\",\n      \"properties\": {\n        \"dtype\": \"string\",\n        \"num_unique_values\": 5000,\n        \"samples\": [\n          \"7521 Gregory Meadows\\nEast Johntown, CO 93230-5255\",\n          \"15828 Marshall Stravenue Suite 199\\nEast Matthewmouth, TN 71861-6319\",\n          \"USNS Brandt\\nFPO AE 72594\"\n        ],\n        \"semantic_type\": \"\",\n        \"description\": \"\"\n      }\n    }\n  ]\n}",
              "type": "dataframe",
              "variable_name": "data"
            },
            "text/html": [
              "\n",
              "  <div id=\"df-5d726b79-dac4-423a-8d26-2d673013a56a\" class=\"colab-df-container\">\n",
              "    <div>\n",
              "<style scoped>\n",
              "    .dataframe tbody tr th:only-of-type {\n",
              "        vertical-align: middle;\n",
              "    }\n",
              "\n",
              "    .dataframe tbody tr th {\n",
              "        vertical-align: top;\n",
              "    }\n",
              "\n",
              "    .dataframe thead th {\n",
              "        text-align: right;\n",
              "    }\n",
              "</style>\n",
              "<table border=\"1\" class=\"dataframe\">\n",
              "  <thead>\n",
              "    <tr style=\"text-align: right;\">\n",
              "      <th></th>\n",
              "      <th>Avg. Area Income</th>\n",
              "      <th>Avg. Area House Age</th>\n",
              "      <th>Avg. Area Number of Rooms</th>\n",
              "      <th>Avg. Area Number of Bedrooms</th>\n",
              "      <th>Area Population</th>\n",
              "      <th>Price</th>\n",
              "      <th>Address</th>\n",
              "    </tr>\n",
              "  </thead>\n",
              "  <tbody>\n",
              "    <tr>\n",
              "      <th>0</th>\n",
              "      <td>79545.458574</td>\n",
              "      <td>5.682861</td>\n",
              "      <td>7.009188</td>\n",
              "      <td>4.09</td>\n",
              "      <td>23086.800503</td>\n",
              "      <td>1.059034e+06</td>\n",
              "      <td>208 Michael Ferry Apt. 674\\nLaurabury, NE 3701...</td>\n",
              "    </tr>\n",
              "    <tr>\n",
              "      <th>1</th>\n",
              "      <td>79248.642455</td>\n",
              "      <td>6.002900</td>\n",
              "      <td>6.730821</td>\n",
              "      <td>3.09</td>\n",
              "      <td>40173.072174</td>\n",
              "      <td>1.505891e+06</td>\n",
              "      <td>188 Johnson Views Suite 079\\nLake Kathleen, CA...</td>\n",
              "    </tr>\n",
              "    <tr>\n",
              "      <th>2</th>\n",
              "      <td>61287.067179</td>\n",
              "      <td>5.865890</td>\n",
              "      <td>8.512727</td>\n",
              "      <td>5.13</td>\n",
              "      <td>36882.159400</td>\n",
              "      <td>1.058988e+06</td>\n",
              "      <td>9127 Elizabeth Stravenue\\nDanieltown, WI 06482...</td>\n",
              "    </tr>\n",
              "    <tr>\n",
              "      <th>3</th>\n",
              "      <td>63345.240046</td>\n",
              "      <td>7.188236</td>\n",
              "      <td>5.586729</td>\n",
              "      <td>3.26</td>\n",
              "      <td>34310.242831</td>\n",
              "      <td>1.260617e+06</td>\n",
              "      <td>USS Barnett\\nFPO AP 44820</td>\n",
              "    </tr>\n",
              "    <tr>\n",
              "      <th>4</th>\n",
              "      <td>59982.197226</td>\n",
              "      <td>5.040555</td>\n",
              "      <td>7.839388</td>\n",
              "      <td>4.23</td>\n",
              "      <td>26354.109472</td>\n",
              "      <td>6.309435e+05</td>\n",
              "      <td>USNS Raymond\\nFPO AE 09386</td>\n",
              "    </tr>\n",
              "    <tr>\n",
              "      <th>...</th>\n",
              "      <td>...</td>\n",
              "      <td>...</td>\n",
              "      <td>...</td>\n",
              "      <td>...</td>\n",
              "      <td>...</td>\n",
              "      <td>...</td>\n",
              "      <td>...</td>\n",
              "    </tr>\n",
              "    <tr>\n",
              "      <th>4995</th>\n",
              "      <td>60567.944140</td>\n",
              "      <td>7.830362</td>\n",
              "      <td>6.137356</td>\n",
              "      <td>3.46</td>\n",
              "      <td>22837.361035</td>\n",
              "      <td>1.060194e+06</td>\n",
              "      <td>USNS Williams\\nFPO AP 30153-7653</td>\n",
              "    </tr>\n",
              "    <tr>\n",
              "      <th>4996</th>\n",
              "      <td>78491.275435</td>\n",
              "      <td>6.999135</td>\n",
              "      <td>6.576763</td>\n",
              "      <td>4.02</td>\n",
              "      <td>25616.115489</td>\n",
              "      <td>1.482618e+06</td>\n",
              "      <td>PSC 9258, Box 8489\\nAPO AA 42991-3352</td>\n",
              "    </tr>\n",
              "    <tr>\n",
              "      <th>4997</th>\n",
              "      <td>63390.686886</td>\n",
              "      <td>7.250591</td>\n",
              "      <td>4.805081</td>\n",
              "      <td>2.13</td>\n",
              "      <td>33266.145490</td>\n",
              "      <td>1.030730e+06</td>\n",
              "      <td>4215 Tracy Garden Suite 076\\nJoshualand, VA 01...</td>\n",
              "    </tr>\n",
              "    <tr>\n",
              "      <th>4998</th>\n",
              "      <td>68001.331235</td>\n",
              "      <td>5.534388</td>\n",
              "      <td>7.130144</td>\n",
              "      <td>5.44</td>\n",
              "      <td>42625.620156</td>\n",
              "      <td>1.198657e+06</td>\n",
              "      <td>USS Wallace\\nFPO AE 73316</td>\n",
              "    </tr>\n",
              "    <tr>\n",
              "      <th>4999</th>\n",
              "      <td>65510.581804</td>\n",
              "      <td>5.992305</td>\n",
              "      <td>6.792336</td>\n",
              "      <td>4.07</td>\n",
              "      <td>46501.283803</td>\n",
              "      <td>1.298950e+06</td>\n",
              "      <td>37778 George Ridges Apt. 509\\nEast Holly, NV 2...</td>\n",
              "    </tr>\n",
              "  </tbody>\n",
              "</table>\n",
              "<p>5000 rows × 7 columns</p>\n",
              "</div>\n",
              "    <div class=\"colab-df-buttons\">\n",
              "\n",
              "  <div class=\"colab-df-container\">\n",
              "    <button class=\"colab-df-convert\" onclick=\"convertToInteractive('df-5d726b79-dac4-423a-8d26-2d673013a56a')\"\n",
              "            title=\"Convert this dataframe to an interactive table.\"\n",
              "            style=\"display:none;\">\n",
              "\n",
              "  <svg xmlns=\"http://www.w3.org/2000/svg\" height=\"24px\" viewBox=\"0 -960 960 960\">\n",
              "    <path d=\"M120-120v-720h720v720H120Zm60-500h600v-160H180v160Zm220 220h160v-160H400v160Zm0 220h160v-160H400v160ZM180-400h160v-160H180v160Zm440 0h160v-160H620v160ZM180-180h160v-160H180v160Zm440 0h160v-160H620v160Z\"/>\n",
              "  </svg>\n",
              "    </button>\n",
              "\n",
              "  <style>\n",
              "    .colab-df-container {\n",
              "      display:flex;\n",
              "      gap: 12px;\n",
              "    }\n",
              "\n",
              "    .colab-df-convert {\n",
              "      background-color: #E8F0FE;\n",
              "      border: none;\n",
              "      border-radius: 50%;\n",
              "      cursor: pointer;\n",
              "      display: none;\n",
              "      fill: #1967D2;\n",
              "      height: 32px;\n",
              "      padding: 0 0 0 0;\n",
              "      width: 32px;\n",
              "    }\n",
              "\n",
              "    .colab-df-convert:hover {\n",
              "      background-color: #E2EBFA;\n",
              "      box-shadow: 0px 1px 2px rgba(60, 64, 67, 0.3), 0px 1px 3px 1px rgba(60, 64, 67, 0.15);\n",
              "      fill: #174EA6;\n",
              "    }\n",
              "\n",
              "    .colab-df-buttons div {\n",
              "      margin-bottom: 4px;\n",
              "    }\n",
              "\n",
              "    [theme=dark] .colab-df-convert {\n",
              "      background-color: #3B4455;\n",
              "      fill: #D2E3FC;\n",
              "    }\n",
              "\n",
              "    [theme=dark] .colab-df-convert:hover {\n",
              "      background-color: #434B5C;\n",
              "      box-shadow: 0px 1px 3px 1px rgba(0, 0, 0, 0.15);\n",
              "      filter: drop-shadow(0px 1px 2px rgba(0, 0, 0, 0.3));\n",
              "      fill: #FFFFFF;\n",
              "    }\n",
              "  </style>\n",
              "\n",
              "    <script>\n",
              "      const buttonEl =\n",
              "        document.querySelector('#df-5d726b79-dac4-423a-8d26-2d673013a56a button.colab-df-convert');\n",
              "      buttonEl.style.display =\n",
              "        google.colab.kernel.accessAllowed ? 'block' : 'none';\n",
              "\n",
              "      async function convertToInteractive(key) {\n",
              "        const element = document.querySelector('#df-5d726b79-dac4-423a-8d26-2d673013a56a');\n",
              "        const dataTable =\n",
              "          await google.colab.kernel.invokeFunction('convertToInteractive',\n",
              "                                                    [key], {});\n",
              "        if (!dataTable) return;\n",
              "\n",
              "        const docLinkHtml = 'Like what you see? Visit the ' +\n",
              "          '<a target=\"_blank\" href=https://colab.research.google.com/notebooks/data_table.ipynb>data table notebook</a>'\n",
              "          + ' to learn more about interactive tables.';\n",
              "        element.innerHTML = '';\n",
              "        dataTable['output_type'] = 'display_data';\n",
              "        await google.colab.output.renderOutput(dataTable, element);\n",
              "        const docLink = document.createElement('div');\n",
              "        docLink.innerHTML = docLinkHtml;\n",
              "        element.appendChild(docLink);\n",
              "      }\n",
              "    </script>\n",
              "  </div>\n",
              "\n",
              "\n",
              "<div id=\"df-eebbe504-16c5-4234-a33d-92ace00a8b65\">\n",
              "  <button class=\"colab-df-quickchart\" onclick=\"quickchart('df-eebbe504-16c5-4234-a33d-92ace00a8b65')\"\n",
              "            title=\"Suggest charts\"\n",
              "            style=\"display:none;\">\n",
              "\n",
              "<svg xmlns=\"http://www.w3.org/2000/svg\" height=\"24px\"viewBox=\"0 0 24 24\"\n",
              "     width=\"24px\">\n",
              "    <g>\n",
              "        <path d=\"M19 3H5c-1.1 0-2 .9-2 2v14c0 1.1.9 2 2 2h14c1.1 0 2-.9 2-2V5c0-1.1-.9-2-2-2zM9 17H7v-7h2v7zm4 0h-2V7h2v10zm4 0h-2v-4h2v4z\"/>\n",
              "    </g>\n",
              "</svg>\n",
              "  </button>\n",
              "\n",
              "<style>\n",
              "  .colab-df-quickchart {\n",
              "      --bg-color: #E8F0FE;\n",
              "      --fill-color: #1967D2;\n",
              "      --hover-bg-color: #E2EBFA;\n",
              "      --hover-fill-color: #174EA6;\n",
              "      --disabled-fill-color: #AAA;\n",
              "      --disabled-bg-color: #DDD;\n",
              "  }\n",
              "\n",
              "  [theme=dark] .colab-df-quickchart {\n",
              "      --bg-color: #3B4455;\n",
              "      --fill-color: #D2E3FC;\n",
              "      --hover-bg-color: #434B5C;\n",
              "      --hover-fill-color: #FFFFFF;\n",
              "      --disabled-bg-color: #3B4455;\n",
              "      --disabled-fill-color: #666;\n",
              "  }\n",
              "\n",
              "  .colab-df-quickchart {\n",
              "    background-color: var(--bg-color);\n",
              "    border: none;\n",
              "    border-radius: 50%;\n",
              "    cursor: pointer;\n",
              "    display: none;\n",
              "    fill: var(--fill-color);\n",
              "    height: 32px;\n",
              "    padding: 0;\n",
              "    width: 32px;\n",
              "  }\n",
              "\n",
              "  .colab-df-quickchart:hover {\n",
              "    background-color: var(--hover-bg-color);\n",
              "    box-shadow: 0 1px 2px rgba(60, 64, 67, 0.3), 0 1px 3px 1px rgba(60, 64, 67, 0.15);\n",
              "    fill: var(--button-hover-fill-color);\n",
              "  }\n",
              "\n",
              "  .colab-df-quickchart-complete:disabled,\n",
              "  .colab-df-quickchart-complete:disabled:hover {\n",
              "    background-color: var(--disabled-bg-color);\n",
              "    fill: var(--disabled-fill-color);\n",
              "    box-shadow: none;\n",
              "  }\n",
              "\n",
              "  .colab-df-spinner {\n",
              "    border: 2px solid var(--fill-color);\n",
              "    border-color: transparent;\n",
              "    border-bottom-color: var(--fill-color);\n",
              "    animation:\n",
              "      spin 1s steps(1) infinite;\n",
              "  }\n",
              "\n",
              "  @keyframes spin {\n",
              "    0% {\n",
              "      border-color: transparent;\n",
              "      border-bottom-color: var(--fill-color);\n",
              "      border-left-color: var(--fill-color);\n",
              "    }\n",
              "    20% {\n",
              "      border-color: transparent;\n",
              "      border-left-color: var(--fill-color);\n",
              "      border-top-color: var(--fill-color);\n",
              "    }\n",
              "    30% {\n",
              "      border-color: transparent;\n",
              "      border-left-color: var(--fill-color);\n",
              "      border-top-color: var(--fill-color);\n",
              "      border-right-color: var(--fill-color);\n",
              "    }\n",
              "    40% {\n",
              "      border-color: transparent;\n",
              "      border-right-color: var(--fill-color);\n",
              "      border-top-color: var(--fill-color);\n",
              "    }\n",
              "    60% {\n",
              "      border-color: transparent;\n",
              "      border-right-color: var(--fill-color);\n",
              "    }\n",
              "    80% {\n",
              "      border-color: transparent;\n",
              "      border-right-color: var(--fill-color);\n",
              "      border-bottom-color: var(--fill-color);\n",
              "    }\n",
              "    90% {\n",
              "      border-color: transparent;\n",
              "      border-bottom-color: var(--fill-color);\n",
              "    }\n",
              "  }\n",
              "</style>\n",
              "\n",
              "  <script>\n",
              "    async function quickchart(key) {\n",
              "      const quickchartButtonEl =\n",
              "        document.querySelector('#' + key + ' button');\n",
              "      quickchartButtonEl.disabled = true;  // To prevent multiple clicks.\n",
              "      quickchartButtonEl.classList.add('colab-df-spinner');\n",
              "      try {\n",
              "        const charts = await google.colab.kernel.invokeFunction(\n",
              "            'suggestCharts', [key], {});\n",
              "      } catch (error) {\n",
              "        console.error('Error during call to suggestCharts:', error);\n",
              "      }\n",
              "      quickchartButtonEl.classList.remove('colab-df-spinner');\n",
              "      quickchartButtonEl.classList.add('colab-df-quickchart-complete');\n",
              "    }\n",
              "    (() => {\n",
              "      let quickchartButtonEl =\n",
              "        document.querySelector('#df-eebbe504-16c5-4234-a33d-92ace00a8b65 button');\n",
              "      quickchartButtonEl.style.display =\n",
              "        google.colab.kernel.accessAllowed ? 'block' : 'none';\n",
              "    })();\n",
              "  </script>\n",
              "</div>\n",
              "    </div>\n",
              "  </div>\n"
            ],
            "text/plain": [
              "      Avg. Area Income  Avg. Area House Age  Avg. Area Number of Rooms  \\\n",
              "0         79545.458574             5.682861                   7.009188   \n",
              "1         79248.642455             6.002900                   6.730821   \n",
              "2         61287.067179             5.865890                   8.512727   \n",
              "3         63345.240046             7.188236                   5.586729   \n",
              "4         59982.197226             5.040555                   7.839388   \n",
              "...                ...                  ...                        ...   \n",
              "4995      60567.944140             7.830362                   6.137356   \n",
              "4996      78491.275435             6.999135                   6.576763   \n",
              "4997      63390.686886             7.250591                   4.805081   \n",
              "4998      68001.331235             5.534388                   7.130144   \n",
              "4999      65510.581804             5.992305                   6.792336   \n",
              "\n",
              "      Avg. Area Number of Bedrooms  Area Population         Price  \\\n",
              "0                             4.09     23086.800503  1.059034e+06   \n",
              "1                             3.09     40173.072174  1.505891e+06   \n",
              "2                             5.13     36882.159400  1.058988e+06   \n",
              "3                             3.26     34310.242831  1.260617e+06   \n",
              "4                             4.23     26354.109472  6.309435e+05   \n",
              "...                            ...              ...           ...   \n",
              "4995                          3.46     22837.361035  1.060194e+06   \n",
              "4996                          4.02     25616.115489  1.482618e+06   \n",
              "4997                          2.13     33266.145490  1.030730e+06   \n",
              "4998                          5.44     42625.620156  1.198657e+06   \n",
              "4999                          4.07     46501.283803  1.298950e+06   \n",
              "\n",
              "                                                Address  \n",
              "0     208 Michael Ferry Apt. 674\\nLaurabury, NE 3701...  \n",
              "1     188 Johnson Views Suite 079\\nLake Kathleen, CA...  \n",
              "2     9127 Elizabeth Stravenue\\nDanieltown, WI 06482...  \n",
              "3                             USS Barnett\\nFPO AP 44820  \n",
              "4                            USNS Raymond\\nFPO AE 09386  \n",
              "...                                                 ...  \n",
              "4995                   USNS Williams\\nFPO AP 30153-7653  \n",
              "4996              PSC 9258, Box 8489\\nAPO AA 42991-3352  \n",
              "4997  4215 Tracy Garden Suite 076\\nJoshualand, VA 01...  \n",
              "4998                          USS Wallace\\nFPO AE 73316  \n",
              "4999  37778 George Ridges Apt. 509\\nEast Holly, NV 2...  \n",
              "\n",
              "[5000 rows x 7 columns]"
            ]
          },
          "execution_count": 5,
          "metadata": {},
          "output_type": "execute_result"
        }
      ],
      "source": [
        "data"
      ]
    },
    {
      "cell_type": "code",
      "execution_count": null,
      "id": "eada88c8",
      "metadata": {
        "colab": {
          "base_uri": "https://localhost:8080/"
        },
        "id": "eada88c8",
        "outputId": "cb0c5e19-d589-47a3-e62e-b45043a8470f"
      },
      "outputs": [
        {
          "name": "stdout",
          "output_type": "stream",
          "text": [
            "Index(['Avg. Area Income', 'Avg. Area House Age', 'Avg. Area Number of Rooms',\n",
            "       'Avg. Area Number of Bedrooms', 'Area Population', 'Price', 'Address'],\n",
            "      dtype='object')\n",
            "<class 'pandas.core.frame.DataFrame'>\n",
            "RangeIndex: 5000 entries, 0 to 4999\n",
            "Data columns (total 7 columns):\n",
            " #   Column                        Non-Null Count  Dtype  \n",
            "---  ------                        --------------  -----  \n",
            " 0   Avg. Area Income              5000 non-null   float64\n",
            " 1   Avg. Area House Age           5000 non-null   float64\n",
            " 2   Avg. Area Number of Rooms     5000 non-null   float64\n",
            " 3   Avg. Area Number of Bedrooms  5000 non-null   float64\n",
            " 4   Area Population               5000 non-null   float64\n",
            " 5   Price                         5000 non-null   float64\n",
            " 6   Address                       5000 non-null   object \n",
            "dtypes: float64(6), object(1)\n",
            "memory usage: 273.6+ KB\n"
          ]
        },
        {
          "data": {
            "text/plain": [
              "(5000, 7)"
            ]
          },
          "execution_count": 6,
          "metadata": {},
          "output_type": "execute_result"
        }
      ],
      "source": [
        "#EDA\n",
        "print(data.columns)\n",
        "data.info()\n",
        "data.shape"
      ]
    },
    {
      "cell_type": "code",
      "execution_count": null,
      "id": "6llAreN2CgX1",
      "metadata": {
        "id": "6llAreN2CgX1"
      },
      "outputs": [],
      "source": []
    },
    {
      "cell_type": "code",
      "execution_count": null,
      "id": "af43c18f",
      "metadata": {
        "colab": {
          "base_uri": "https://localhost:8080/"
        },
        "id": "af43c18f",
        "outputId": "0dae813d-5b68-403e-fc54-ba65760433a6"
      },
      "outputs": [
        {
          "data": {
            "text/plain": [
              "Avg. Area Income                0\n",
              "Avg. Area House Age             0\n",
              "Avg. Area Number of Rooms       0\n",
              "Avg. Area Number of Bedrooms    0\n",
              "Area Population                 0\n",
              "Price                           0\n",
              "Address                         0\n",
              "dtype: int64"
            ]
          },
          "execution_count": 7,
          "metadata": {},
          "output_type": "execute_result"
        }
      ],
      "source": [
        "#checking any null value\n",
        "data.isnull().sum()"
      ]
    },
    {
      "cell_type": "code",
      "execution_count": null,
      "id": "219a61f0",
      "metadata": {
        "colab": {
          "base_uri": "https://localhost:8080/"
        },
        "id": "219a61f0",
        "outputId": "e9027e78-be20-4a0c-f92e-df6f0efb8292"
      },
      "outputs": [
        {
          "data": {
            "text/plain": [
              "0"
            ]
          },
          "execution_count": 8,
          "metadata": {},
          "output_type": "execute_result"
        }
      ],
      "source": [
        "#checking duplicate value\n",
        "data.duplicated().sum()"
      ]
    },
    {
      "cell_type": "code",
      "execution_count": null,
      "id": "f77480a4",
      "metadata": {
        "colab": {
          "base_uri": "https://localhost:8080/",
          "height": 396
        },
        "id": "f77480a4",
        "outputId": "6bc9f2b9-78ba-4966-a78f-fdc9e7835a40"
      },
      "outputs": [
        {
          "data": {
            "application/vnd.google.colaboratory.intrinsic+json": {
              "summary": "{\n  \"name\": \"data\",\n  \"rows\": 6,\n  \"fields\": [\n    {\n      \"column\": \"count\",\n      \"properties\": {\n        \"dtype\": \"number\",\n        \"std\": 0.0,\n        \"min\": 5000.0,\n        \"max\": 5000.0,\n        \"num_unique_values\": 1,\n        \"samples\": [\n          5000.0\n        ],\n        \"semantic_type\": \"\",\n        \"description\": \"\"\n      }\n    },\n    {\n      \"column\": \"mean\",\n      \"properties\": {\n        \"dtype\": \"number\",\n        \"std\": 495208.90250692214,\n        \"min\": 3.9813300000000003,\n        \"max\": 1232072.654142357,\n        \"num_unique_values\": 6,\n        \"samples\": [\n          68583.10898395974\n        ],\n        \"semantic_type\": \"\",\n        \"description\": \"\"\n      }\n    },\n    {\n      \"column\": \"std\",\n      \"properties\": {\n        \"dtype\": \"number\",\n        \"std\": 142568.10819775696,\n        \"min\": 0.9914561798281721,\n        \"max\": 353117.62658106093,\n        \"num_unique_values\": 6,\n        \"samples\": [\n          10657.99121383037\n        ],\n        \"semantic_type\": \"\",\n        \"description\": \"\"\n      }\n    },\n    {\n      \"column\": \"min\",\n      \"properties\": {\n        \"dtype\": \"number\",\n        \"std\": 8707.207992737049,\n        \"min\": 2.0,\n        \"max\": 17796.631189543397,\n        \"num_unique_values\": 6,\n        \"samples\": [\n          17796.631189543397\n        ],\n        \"semantic_type\": \"\",\n        \"description\": \"\"\n      }\n    },\n    {\n      \"column\": \"25%\",\n      \"properties\": {\n        \"dtype\": \"number\",\n        \"std\": 400584.8515869654,\n        \"min\": 3.14,\n        \"max\": 997577.1350487601,\n        \"num_unique_values\": 6,\n        \"samples\": [\n          61480.562388460974\n        ],\n        \"semantic_type\": \"\",\n        \"description\": \"\"\n      }\n    },\n    {\n      \"column\": \"50%\",\n      \"properties\": {\n        \"dtype\": \"number\",\n        \"std\": 495435.65157205175,\n        \"min\": 4.05,\n        \"max\": 1232669.3779657914,\n        \"num_unique_values\": 6,\n        \"samples\": [\n          68804.28640371616\n        ],\n        \"semantic_type\": \"\",\n        \"description\": \"\"\n      }\n    },\n    {\n      \"column\": \"75%\",\n      \"properties\": {\n        \"dtype\": \"number\",\n        \"std\": 591735.8596081414,\n        \"min\": 4.49,\n        \"max\": 1471210.2042115545,\n        \"num_unique_values\": 6,\n        \"samples\": [\n          75783.33866615265\n        ],\n        \"semantic_type\": \"\",\n        \"description\": \"\"\n      }\n    },\n    {\n      \"column\": \"max\",\n      \"properties\": {\n        \"dtype\": \"number\",\n        \"std\": 994532.9520152129,\n        \"min\": 6.5,\n        \"max\": 2469065.5941747027,\n        \"num_unique_values\": 6,\n        \"samples\": [\n          107701.74837763936\n        ],\n        \"semantic_type\": \"\",\n        \"description\": \"\"\n      }\n    }\n  ]\n}",
              "type": "dataframe"
            },
            "text/html": [
              "\n",
              "  <div id=\"df-0fffa3a6-65e5-4a04-87e1-d403b2acfc96\" class=\"colab-df-container\">\n",
              "    <div>\n",
              "<style scoped>\n",
              "    .dataframe tbody tr th:only-of-type {\n",
              "        vertical-align: middle;\n",
              "    }\n",
              "\n",
              "    .dataframe tbody tr th {\n",
              "        vertical-align: top;\n",
              "    }\n",
              "\n",
              "    .dataframe thead th {\n",
              "        text-align: right;\n",
              "    }\n",
              "</style>\n",
              "<table border=\"1\" class=\"dataframe\">\n",
              "  <thead>\n",
              "    <tr style=\"text-align: right;\">\n",
              "      <th></th>\n",
              "      <th>count</th>\n",
              "      <th>mean</th>\n",
              "      <th>std</th>\n",
              "      <th>min</th>\n",
              "      <th>25%</th>\n",
              "      <th>50%</th>\n",
              "      <th>75%</th>\n",
              "      <th>max</th>\n",
              "    </tr>\n",
              "  </thead>\n",
              "  <tbody>\n",
              "    <tr>\n",
              "      <th>Avg. Area Income</th>\n",
              "      <td>5000.0</td>\n",
              "      <td>6.858311e+04</td>\n",
              "      <td>10657.991214</td>\n",
              "      <td>17796.631190</td>\n",
              "      <td>61480.562388</td>\n",
              "      <td>6.880429e+04</td>\n",
              "      <td>7.578334e+04</td>\n",
              "      <td>1.077017e+05</td>\n",
              "    </tr>\n",
              "    <tr>\n",
              "      <th>Avg. Area House Age</th>\n",
              "      <td>5000.0</td>\n",
              "      <td>5.977222e+00</td>\n",
              "      <td>0.991456</td>\n",
              "      <td>2.644304</td>\n",
              "      <td>5.322283</td>\n",
              "      <td>5.970429e+00</td>\n",
              "      <td>6.650808e+00</td>\n",
              "      <td>9.519088e+00</td>\n",
              "    </tr>\n",
              "    <tr>\n",
              "      <th>Avg. Area Number of Rooms</th>\n",
              "      <td>5000.0</td>\n",
              "      <td>6.987792e+00</td>\n",
              "      <td>1.005833</td>\n",
              "      <td>3.236194</td>\n",
              "      <td>6.299250</td>\n",
              "      <td>7.002902e+00</td>\n",
              "      <td>7.665871e+00</td>\n",
              "      <td>1.075959e+01</td>\n",
              "    </tr>\n",
              "    <tr>\n",
              "      <th>Avg. Area Number of Bedrooms</th>\n",
              "      <td>5000.0</td>\n",
              "      <td>3.981330e+00</td>\n",
              "      <td>1.234137</td>\n",
              "      <td>2.000000</td>\n",
              "      <td>3.140000</td>\n",
              "      <td>4.050000e+00</td>\n",
              "      <td>4.490000e+00</td>\n",
              "      <td>6.500000e+00</td>\n",
              "    </tr>\n",
              "    <tr>\n",
              "      <th>Area Population</th>\n",
              "      <td>5000.0</td>\n",
              "      <td>3.616352e+04</td>\n",
              "      <td>9925.650114</td>\n",
              "      <td>172.610686</td>\n",
              "      <td>29403.928702</td>\n",
              "      <td>3.619941e+04</td>\n",
              "      <td>4.286129e+04</td>\n",
              "      <td>6.962171e+04</td>\n",
              "    </tr>\n",
              "    <tr>\n",
              "      <th>Price</th>\n",
              "      <td>5000.0</td>\n",
              "      <td>1.232073e+06</td>\n",
              "      <td>353117.626581</td>\n",
              "      <td>15938.657923</td>\n",
              "      <td>997577.135049</td>\n",
              "      <td>1.232669e+06</td>\n",
              "      <td>1.471210e+06</td>\n",
              "      <td>2.469066e+06</td>\n",
              "    </tr>\n",
              "  </tbody>\n",
              "</table>\n",
              "</div>\n",
              "    <div class=\"colab-df-buttons\">\n",
              "\n",
              "  <div class=\"colab-df-container\">\n",
              "    <button class=\"colab-df-convert\" onclick=\"convertToInteractive('df-0fffa3a6-65e5-4a04-87e1-d403b2acfc96')\"\n",
              "            title=\"Convert this dataframe to an interactive table.\"\n",
              "            style=\"display:none;\">\n",
              "\n",
              "  <svg xmlns=\"http://www.w3.org/2000/svg\" height=\"24px\" viewBox=\"0 -960 960 960\">\n",
              "    <path d=\"M120-120v-720h720v720H120Zm60-500h600v-160H180v160Zm220 220h160v-160H400v160Zm0 220h160v-160H400v160ZM180-400h160v-160H180v160Zm440 0h160v-160H620v160ZM180-180h160v-160H180v160Zm440 0h160v-160H620v160Z\"/>\n",
              "  </svg>\n",
              "    </button>\n",
              "\n",
              "  <style>\n",
              "    .colab-df-container {\n",
              "      display:flex;\n",
              "      gap: 12px;\n",
              "    }\n",
              "\n",
              "    .colab-df-convert {\n",
              "      background-color: #E8F0FE;\n",
              "      border: none;\n",
              "      border-radius: 50%;\n",
              "      cursor: pointer;\n",
              "      display: none;\n",
              "      fill: #1967D2;\n",
              "      height: 32px;\n",
              "      padding: 0 0 0 0;\n",
              "      width: 32px;\n",
              "    }\n",
              "\n",
              "    .colab-df-convert:hover {\n",
              "      background-color: #E2EBFA;\n",
              "      box-shadow: 0px 1px 2px rgba(60, 64, 67, 0.3), 0px 1px 3px 1px rgba(60, 64, 67, 0.15);\n",
              "      fill: #174EA6;\n",
              "    }\n",
              "\n",
              "    .colab-df-buttons div {\n",
              "      margin-bottom: 4px;\n",
              "    }\n",
              "\n",
              "    [theme=dark] .colab-df-convert {\n",
              "      background-color: #3B4455;\n",
              "      fill: #D2E3FC;\n",
              "    }\n",
              "\n",
              "    [theme=dark] .colab-df-convert:hover {\n",
              "      background-color: #434B5C;\n",
              "      box-shadow: 0px 1px 3px 1px rgba(0, 0, 0, 0.15);\n",
              "      filter: drop-shadow(0px 1px 2px rgba(0, 0, 0, 0.3));\n",
              "      fill: #FFFFFF;\n",
              "    }\n",
              "  </style>\n",
              "\n",
              "    <script>\n",
              "      const buttonEl =\n",
              "        document.querySelector('#df-0fffa3a6-65e5-4a04-87e1-d403b2acfc96 button.colab-df-convert');\n",
              "      buttonEl.style.display =\n",
              "        google.colab.kernel.accessAllowed ? 'block' : 'none';\n",
              "\n",
              "      async function convertToInteractive(key) {\n",
              "        const element = document.querySelector('#df-0fffa3a6-65e5-4a04-87e1-d403b2acfc96');\n",
              "        const dataTable =\n",
              "          await google.colab.kernel.invokeFunction('convertToInteractive',\n",
              "                                                    [key], {});\n",
              "        if (!dataTable) return;\n",
              "\n",
              "        const docLinkHtml = 'Like what you see? Visit the ' +\n",
              "          '<a target=\"_blank\" href=https://colab.research.google.com/notebooks/data_table.ipynb>data table notebook</a>'\n",
              "          + ' to learn more about interactive tables.';\n",
              "        element.innerHTML = '';\n",
              "        dataTable['output_type'] = 'display_data';\n",
              "        await google.colab.output.renderOutput(dataTable, element);\n",
              "        const docLink = document.createElement('div');\n",
              "        docLink.innerHTML = docLinkHtml;\n",
              "        element.appendChild(docLink);\n",
              "      }\n",
              "    </script>\n",
              "  </div>\n",
              "\n",
              "\n",
              "<div id=\"df-8336f045-f5f2-4641-a960-cd23ef2c6e71\">\n",
              "  <button class=\"colab-df-quickchart\" onclick=\"quickchart('df-8336f045-f5f2-4641-a960-cd23ef2c6e71')\"\n",
              "            title=\"Suggest charts\"\n",
              "            style=\"display:none;\">\n",
              "\n",
              "<svg xmlns=\"http://www.w3.org/2000/svg\" height=\"24px\"viewBox=\"0 0 24 24\"\n",
              "     width=\"24px\">\n",
              "    <g>\n",
              "        <path d=\"M19 3H5c-1.1 0-2 .9-2 2v14c0 1.1.9 2 2 2h14c1.1 0 2-.9 2-2V5c0-1.1-.9-2-2-2zM9 17H7v-7h2v7zm4 0h-2V7h2v10zm4 0h-2v-4h2v4z\"/>\n",
              "    </g>\n",
              "</svg>\n",
              "  </button>\n",
              "\n",
              "<style>\n",
              "  .colab-df-quickchart {\n",
              "      --bg-color: #E8F0FE;\n",
              "      --fill-color: #1967D2;\n",
              "      --hover-bg-color: #E2EBFA;\n",
              "      --hover-fill-color: #174EA6;\n",
              "      --disabled-fill-color: #AAA;\n",
              "      --disabled-bg-color: #DDD;\n",
              "  }\n",
              "\n",
              "  [theme=dark] .colab-df-quickchart {\n",
              "      --bg-color: #3B4455;\n",
              "      --fill-color: #D2E3FC;\n",
              "      --hover-bg-color: #434B5C;\n",
              "      --hover-fill-color: #FFFFFF;\n",
              "      --disabled-bg-color: #3B4455;\n",
              "      --disabled-fill-color: #666;\n",
              "  }\n",
              "\n",
              "  .colab-df-quickchart {\n",
              "    background-color: var(--bg-color);\n",
              "    border: none;\n",
              "    border-radius: 50%;\n",
              "    cursor: pointer;\n",
              "    display: none;\n",
              "    fill: var(--fill-color);\n",
              "    height: 32px;\n",
              "    padding: 0;\n",
              "    width: 32px;\n",
              "  }\n",
              "\n",
              "  .colab-df-quickchart:hover {\n",
              "    background-color: var(--hover-bg-color);\n",
              "    box-shadow: 0 1px 2px rgba(60, 64, 67, 0.3), 0 1px 3px 1px rgba(60, 64, 67, 0.15);\n",
              "    fill: var(--button-hover-fill-color);\n",
              "  }\n",
              "\n",
              "  .colab-df-quickchart-complete:disabled,\n",
              "  .colab-df-quickchart-complete:disabled:hover {\n",
              "    background-color: var(--disabled-bg-color);\n",
              "    fill: var(--disabled-fill-color);\n",
              "    box-shadow: none;\n",
              "  }\n",
              "\n",
              "  .colab-df-spinner {\n",
              "    border: 2px solid var(--fill-color);\n",
              "    border-color: transparent;\n",
              "    border-bottom-color: var(--fill-color);\n",
              "    animation:\n",
              "      spin 1s steps(1) infinite;\n",
              "  }\n",
              "\n",
              "  @keyframes spin {\n",
              "    0% {\n",
              "      border-color: transparent;\n",
              "      border-bottom-color: var(--fill-color);\n",
              "      border-left-color: var(--fill-color);\n",
              "    }\n",
              "    20% {\n",
              "      border-color: transparent;\n",
              "      border-left-color: var(--fill-color);\n",
              "      border-top-color: var(--fill-color);\n",
              "    }\n",
              "    30% {\n",
              "      border-color: transparent;\n",
              "      border-left-color: var(--fill-color);\n",
              "      border-top-color: var(--fill-color);\n",
              "      border-right-color: var(--fill-color);\n",
              "    }\n",
              "    40% {\n",
              "      border-color: transparent;\n",
              "      border-right-color: var(--fill-color);\n",
              "      border-top-color: var(--fill-color);\n",
              "    }\n",
              "    60% {\n",
              "      border-color: transparent;\n",
              "      border-right-color: var(--fill-color);\n",
              "    }\n",
              "    80% {\n",
              "      border-color: transparent;\n",
              "      border-right-color: var(--fill-color);\n",
              "      border-bottom-color: var(--fill-color);\n",
              "    }\n",
              "    90% {\n",
              "      border-color: transparent;\n",
              "      border-bottom-color: var(--fill-color);\n",
              "    }\n",
              "  }\n",
              "</style>\n",
              "\n",
              "  <script>\n",
              "    async function quickchart(key) {\n",
              "      const quickchartButtonEl =\n",
              "        document.querySelector('#' + key + ' button');\n",
              "      quickchartButtonEl.disabled = true;  // To prevent multiple clicks.\n",
              "      quickchartButtonEl.classList.add('colab-df-spinner');\n",
              "      try {\n",
              "        const charts = await google.colab.kernel.invokeFunction(\n",
              "            'suggestCharts', [key], {});\n",
              "      } catch (error) {\n",
              "        console.error('Error during call to suggestCharts:', error);\n",
              "      }\n",
              "      quickchartButtonEl.classList.remove('colab-df-spinner');\n",
              "      quickchartButtonEl.classList.add('colab-df-quickchart-complete');\n",
              "    }\n",
              "    (() => {\n",
              "      let quickchartButtonEl =\n",
              "        document.querySelector('#df-8336f045-f5f2-4641-a960-cd23ef2c6e71 button');\n",
              "      quickchartButtonEl.style.display =\n",
              "        google.colab.kernel.accessAllowed ? 'block' : 'none';\n",
              "    })();\n",
              "  </script>\n",
              "</div>\n",
              "    </div>\n",
              "  </div>\n"
            ],
            "text/plain": [
              "                               count          mean            std  \\\n",
              "Avg. Area Income              5000.0  6.858311e+04   10657.991214   \n",
              "Avg. Area House Age           5000.0  5.977222e+00       0.991456   \n",
              "Avg. Area Number of Rooms     5000.0  6.987792e+00       1.005833   \n",
              "Avg. Area Number of Bedrooms  5000.0  3.981330e+00       1.234137   \n",
              "Area Population               5000.0  3.616352e+04    9925.650114   \n",
              "Price                         5000.0  1.232073e+06  353117.626581   \n",
              "\n",
              "                                       min            25%           50%  \\\n",
              "Avg. Area Income              17796.631190   61480.562388  6.880429e+04   \n",
              "Avg. Area House Age               2.644304       5.322283  5.970429e+00   \n",
              "Avg. Area Number of Rooms         3.236194       6.299250  7.002902e+00   \n",
              "Avg. Area Number of Bedrooms      2.000000       3.140000  4.050000e+00   \n",
              "Area Population                 172.610686   29403.928702  3.619941e+04   \n",
              "Price                         15938.657923  997577.135049  1.232669e+06   \n",
              "\n",
              "                                       75%           max  \n",
              "Avg. Area Income              7.578334e+04  1.077017e+05  \n",
              "Avg. Area House Age           6.650808e+00  9.519088e+00  \n",
              "Avg. Area Number of Rooms     7.665871e+00  1.075959e+01  \n",
              "Avg. Area Number of Bedrooms  4.490000e+00  6.500000e+00  \n",
              "Area Population               4.286129e+04  6.962171e+04  \n",
              "Price                         1.471210e+06  2.469066e+06  "
            ]
          },
          "execution_count": 9,
          "metadata": {},
          "output_type": "execute_result"
        }
      ],
      "source": [
        "#statical analysis\n",
        "data.describe().T"
      ]
    },
    {
      "cell_type": "code",
      "execution_count": null,
      "id": "11ec07b4",
      "metadata": {
        "id": "11ec07b4"
      },
      "outputs": [],
      "source": [
        "#segreagte numerical or categorial\n",
        "numeric_data = data.select_dtypes(exclude=['object'])\n",
        "categorical_data = data.select_dtypes(include=['object'])"
      ]
    },
    {
      "cell_type": "code",
      "execution_count": null,
      "id": "07e0b695",
      "metadata": {
        "colab": {
          "base_uri": "https://localhost:8080/",
          "height": 493
        },
        "id": "07e0b695",
        "outputId": "9a63c220-9403-48e0-c475-a5d790255888"
      },
      "outputs": [
        {
          "data": {
            "application/vnd.google.colaboratory.intrinsic+json": {
              "summary": "{\n  \"name\": \"numeric_data\",\n  \"rows\": 5000,\n  \"fields\": [\n    {\n      \"column\": \"Avg. Area Income\",\n      \"properties\": {\n        \"dtype\": \"number\",\n        \"std\": 10657.99121383037,\n        \"min\": 17796.631189543397,\n        \"max\": 107701.74837763936,\n        \"num_unique_values\": 5000,\n        \"samples\": [\n          61907.59334528668,\n          57160.20224330715,\n          70190.79644494488\n        ],\n        \"semantic_type\": \"\",\n        \"description\": \"\"\n      }\n    },\n    {\n      \"column\": \"Avg. Area House Age\",\n      \"properties\": {\n        \"dtype\": \"number\",\n        \"std\": 0.9914561798281721,\n        \"min\": 2.644304186036705,\n        \"max\": 9.51908806613594,\n        \"num_unique_values\": 5000,\n        \"samples\": [\n          7.017837824742983,\n          6.893260095195835,\n          6.745053761849909\n        ],\n        \"semantic_type\": \"\",\n        \"description\": \"\"\n      }\n    },\n    {\n      \"column\": \"Avg. Area Number of Rooms\",\n      \"properties\": {\n        \"dtype\": \"number\",\n        \"std\": 1.0058332312773866,\n        \"min\": 3.2361940234262048,\n        \"max\": 10.759588335938624,\n        \"num_unique_values\": 5000,\n        \"samples\": [\n          6.440255754985625,\n          6.921532164642504,\n          6.6625667327280365\n        ],\n        \"semantic_type\": \"\",\n        \"description\": \"\"\n      }\n    },\n    {\n      \"column\": \"Avg. Area Number of Bedrooms\",\n      \"properties\": {\n        \"dtype\": \"number\",\n        \"std\": 1.2341372654846832,\n        \"min\": 2.0,\n        \"max\": 6.5,\n        \"num_unique_values\": 255,\n        \"samples\": [\n          3.5,\n          3.41,\n          3.33\n        ],\n        \"semantic_type\": \"\",\n        \"description\": \"\"\n      }\n    },\n    {\n      \"column\": \"Area Population\",\n      \"properties\": {\n        \"dtype\": \"number\",\n        \"std\": 9925.650113501235,\n        \"min\": 172.61068627290044,\n        \"max\": 69621.7133777904,\n        \"num_unique_values\": 5000,\n        \"samples\": [\n          43828.947207425765,\n          43467.14703549413,\n          29215.13611183857\n        ],\n        \"semantic_type\": \"\",\n        \"description\": \"\"\n      }\n    },\n    {\n      \"column\": \"Price\",\n      \"properties\": {\n        \"dtype\": \"number\",\n        \"std\": 353117.62658106093,\n        \"min\": 15938.657923287848,\n        \"max\": 2469065.5941747027,\n        \"num_unique_values\": 5000,\n        \"samples\": [\n          1339096.0772451318,\n          1251794.178836864,\n          1340094.9662054193\n        ],\n        \"semantic_type\": \"\",\n        \"description\": \"\"\n      }\n    }\n  ]\n}",
              "type": "dataframe",
              "variable_name": "numeric_data"
            },
            "text/html": [
              "\n",
              "  <div id=\"df-4dad057a-f601-48a9-a7dc-aa4cb3d1c0f8\" class=\"colab-df-container\">\n",
              "    <div>\n",
              "<style scoped>\n",
              "    .dataframe tbody tr th:only-of-type {\n",
              "        vertical-align: middle;\n",
              "    }\n",
              "\n",
              "    .dataframe tbody tr th {\n",
              "        vertical-align: top;\n",
              "    }\n",
              "\n",
              "    .dataframe thead th {\n",
              "        text-align: right;\n",
              "    }\n",
              "</style>\n",
              "<table border=\"1\" class=\"dataframe\">\n",
              "  <thead>\n",
              "    <tr style=\"text-align: right;\">\n",
              "      <th></th>\n",
              "      <th>Avg. Area Income</th>\n",
              "      <th>Avg. Area House Age</th>\n",
              "      <th>Avg. Area Number of Rooms</th>\n",
              "      <th>Avg. Area Number of Bedrooms</th>\n",
              "      <th>Area Population</th>\n",
              "      <th>Price</th>\n",
              "    </tr>\n",
              "  </thead>\n",
              "  <tbody>\n",
              "    <tr>\n",
              "      <th>0</th>\n",
              "      <td>79545.458574</td>\n",
              "      <td>5.682861</td>\n",
              "      <td>7.009188</td>\n",
              "      <td>4.09</td>\n",
              "      <td>23086.800503</td>\n",
              "      <td>1.059034e+06</td>\n",
              "    </tr>\n",
              "    <tr>\n",
              "      <th>1</th>\n",
              "      <td>79248.642455</td>\n",
              "      <td>6.002900</td>\n",
              "      <td>6.730821</td>\n",
              "      <td>3.09</td>\n",
              "      <td>40173.072174</td>\n",
              "      <td>1.505891e+06</td>\n",
              "    </tr>\n",
              "    <tr>\n",
              "      <th>2</th>\n",
              "      <td>61287.067179</td>\n",
              "      <td>5.865890</td>\n",
              "      <td>8.512727</td>\n",
              "      <td>5.13</td>\n",
              "      <td>36882.159400</td>\n",
              "      <td>1.058988e+06</td>\n",
              "    </tr>\n",
              "    <tr>\n",
              "      <th>3</th>\n",
              "      <td>63345.240046</td>\n",
              "      <td>7.188236</td>\n",
              "      <td>5.586729</td>\n",
              "      <td>3.26</td>\n",
              "      <td>34310.242831</td>\n",
              "      <td>1.260617e+06</td>\n",
              "    </tr>\n",
              "    <tr>\n",
              "      <th>4</th>\n",
              "      <td>59982.197226</td>\n",
              "      <td>5.040555</td>\n",
              "      <td>7.839388</td>\n",
              "      <td>4.23</td>\n",
              "      <td>26354.109472</td>\n",
              "      <td>6.309435e+05</td>\n",
              "    </tr>\n",
              "    <tr>\n",
              "      <th>...</th>\n",
              "      <td>...</td>\n",
              "      <td>...</td>\n",
              "      <td>...</td>\n",
              "      <td>...</td>\n",
              "      <td>...</td>\n",
              "      <td>...</td>\n",
              "    </tr>\n",
              "    <tr>\n",
              "      <th>4995</th>\n",
              "      <td>60567.944140</td>\n",
              "      <td>7.830362</td>\n",
              "      <td>6.137356</td>\n",
              "      <td>3.46</td>\n",
              "      <td>22837.361035</td>\n",
              "      <td>1.060194e+06</td>\n",
              "    </tr>\n",
              "    <tr>\n",
              "      <th>4996</th>\n",
              "      <td>78491.275435</td>\n",
              "      <td>6.999135</td>\n",
              "      <td>6.576763</td>\n",
              "      <td>4.02</td>\n",
              "      <td>25616.115489</td>\n",
              "      <td>1.482618e+06</td>\n",
              "    </tr>\n",
              "    <tr>\n",
              "      <th>4997</th>\n",
              "      <td>63390.686886</td>\n",
              "      <td>7.250591</td>\n",
              "      <td>4.805081</td>\n",
              "      <td>2.13</td>\n",
              "      <td>33266.145490</td>\n",
              "      <td>1.030730e+06</td>\n",
              "    </tr>\n",
              "    <tr>\n",
              "      <th>4998</th>\n",
              "      <td>68001.331235</td>\n",
              "      <td>5.534388</td>\n",
              "      <td>7.130144</td>\n",
              "      <td>5.44</td>\n",
              "      <td>42625.620156</td>\n",
              "      <td>1.198657e+06</td>\n",
              "    </tr>\n",
              "    <tr>\n",
              "      <th>4999</th>\n",
              "      <td>65510.581804</td>\n",
              "      <td>5.992305</td>\n",
              "      <td>6.792336</td>\n",
              "      <td>4.07</td>\n",
              "      <td>46501.283803</td>\n",
              "      <td>1.298950e+06</td>\n",
              "    </tr>\n",
              "  </tbody>\n",
              "</table>\n",
              "<p>5000 rows × 6 columns</p>\n",
              "</div>\n",
              "    <div class=\"colab-df-buttons\">\n",
              "\n",
              "  <div class=\"colab-df-container\">\n",
              "    <button class=\"colab-df-convert\" onclick=\"convertToInteractive('df-4dad057a-f601-48a9-a7dc-aa4cb3d1c0f8')\"\n",
              "            title=\"Convert this dataframe to an interactive table.\"\n",
              "            style=\"display:none;\">\n",
              "\n",
              "  <svg xmlns=\"http://www.w3.org/2000/svg\" height=\"24px\" viewBox=\"0 -960 960 960\">\n",
              "    <path d=\"M120-120v-720h720v720H120Zm60-500h600v-160H180v160Zm220 220h160v-160H400v160Zm0 220h160v-160H400v160ZM180-400h160v-160H180v160Zm440 0h160v-160H620v160ZM180-180h160v-160H180v160Zm440 0h160v-160H620v160Z\"/>\n",
              "  </svg>\n",
              "    </button>\n",
              "\n",
              "  <style>\n",
              "    .colab-df-container {\n",
              "      display:flex;\n",
              "      gap: 12px;\n",
              "    }\n",
              "\n",
              "    .colab-df-convert {\n",
              "      background-color: #E8F0FE;\n",
              "      border: none;\n",
              "      border-radius: 50%;\n",
              "      cursor: pointer;\n",
              "      display: none;\n",
              "      fill: #1967D2;\n",
              "      height: 32px;\n",
              "      padding: 0 0 0 0;\n",
              "      width: 32px;\n",
              "    }\n",
              "\n",
              "    .colab-df-convert:hover {\n",
              "      background-color: #E2EBFA;\n",
              "      box-shadow: 0px 1px 2px rgba(60, 64, 67, 0.3), 0px 1px 3px 1px rgba(60, 64, 67, 0.15);\n",
              "      fill: #174EA6;\n",
              "    }\n",
              "\n",
              "    .colab-df-buttons div {\n",
              "      margin-bottom: 4px;\n",
              "    }\n",
              "\n",
              "    [theme=dark] .colab-df-convert {\n",
              "      background-color: #3B4455;\n",
              "      fill: #D2E3FC;\n",
              "    }\n",
              "\n",
              "    [theme=dark] .colab-df-convert:hover {\n",
              "      background-color: #434B5C;\n",
              "      box-shadow: 0px 1px 3px 1px rgba(0, 0, 0, 0.15);\n",
              "      filter: drop-shadow(0px 1px 2px rgba(0, 0, 0, 0.3));\n",
              "      fill: #FFFFFF;\n",
              "    }\n",
              "  </style>\n",
              "\n",
              "    <script>\n",
              "      const buttonEl =\n",
              "        document.querySelector('#df-4dad057a-f601-48a9-a7dc-aa4cb3d1c0f8 button.colab-df-convert');\n",
              "      buttonEl.style.display =\n",
              "        google.colab.kernel.accessAllowed ? 'block' : 'none';\n",
              "\n",
              "      async function convertToInteractive(key) {\n",
              "        const element = document.querySelector('#df-4dad057a-f601-48a9-a7dc-aa4cb3d1c0f8');\n",
              "        const dataTable =\n",
              "          await google.colab.kernel.invokeFunction('convertToInteractive',\n",
              "                                                    [key], {});\n",
              "        if (!dataTable) return;\n",
              "\n",
              "        const docLinkHtml = 'Like what you see? Visit the ' +\n",
              "          '<a target=\"_blank\" href=https://colab.research.google.com/notebooks/data_table.ipynb>data table notebook</a>'\n",
              "          + ' to learn more about interactive tables.';\n",
              "        element.innerHTML = '';\n",
              "        dataTable['output_type'] = 'display_data';\n",
              "        await google.colab.output.renderOutput(dataTable, element);\n",
              "        const docLink = document.createElement('div');\n",
              "        docLink.innerHTML = docLinkHtml;\n",
              "        element.appendChild(docLink);\n",
              "      }\n",
              "    </script>\n",
              "  </div>\n",
              "\n",
              "\n",
              "<div id=\"df-40408b18-9f17-427f-b02b-1a5e5b3dbe4b\">\n",
              "  <button class=\"colab-df-quickchart\" onclick=\"quickchart('df-40408b18-9f17-427f-b02b-1a5e5b3dbe4b')\"\n",
              "            title=\"Suggest charts\"\n",
              "            style=\"display:none;\">\n",
              "\n",
              "<svg xmlns=\"http://www.w3.org/2000/svg\" height=\"24px\"viewBox=\"0 0 24 24\"\n",
              "     width=\"24px\">\n",
              "    <g>\n",
              "        <path d=\"M19 3H5c-1.1 0-2 .9-2 2v14c0 1.1.9 2 2 2h14c1.1 0 2-.9 2-2V5c0-1.1-.9-2-2-2zM9 17H7v-7h2v7zm4 0h-2V7h2v10zm4 0h-2v-4h2v4z\"/>\n",
              "    </g>\n",
              "</svg>\n",
              "  </button>\n",
              "\n",
              "<style>\n",
              "  .colab-df-quickchart {\n",
              "      --bg-color: #E8F0FE;\n",
              "      --fill-color: #1967D2;\n",
              "      --hover-bg-color: #E2EBFA;\n",
              "      --hover-fill-color: #174EA6;\n",
              "      --disabled-fill-color: #AAA;\n",
              "      --disabled-bg-color: #DDD;\n",
              "  }\n",
              "\n",
              "  [theme=dark] .colab-df-quickchart {\n",
              "      --bg-color: #3B4455;\n",
              "      --fill-color: #D2E3FC;\n",
              "      --hover-bg-color: #434B5C;\n",
              "      --hover-fill-color: #FFFFFF;\n",
              "      --disabled-bg-color: #3B4455;\n",
              "      --disabled-fill-color: #666;\n",
              "  }\n",
              "\n",
              "  .colab-df-quickchart {\n",
              "    background-color: var(--bg-color);\n",
              "    border: none;\n",
              "    border-radius: 50%;\n",
              "    cursor: pointer;\n",
              "    display: none;\n",
              "    fill: var(--fill-color);\n",
              "    height: 32px;\n",
              "    padding: 0;\n",
              "    width: 32px;\n",
              "  }\n",
              "\n",
              "  .colab-df-quickchart:hover {\n",
              "    background-color: var(--hover-bg-color);\n",
              "    box-shadow: 0 1px 2px rgba(60, 64, 67, 0.3), 0 1px 3px 1px rgba(60, 64, 67, 0.15);\n",
              "    fill: var(--button-hover-fill-color);\n",
              "  }\n",
              "\n",
              "  .colab-df-quickchart-complete:disabled,\n",
              "  .colab-df-quickchart-complete:disabled:hover {\n",
              "    background-color: var(--disabled-bg-color);\n",
              "    fill: var(--disabled-fill-color);\n",
              "    box-shadow: none;\n",
              "  }\n",
              "\n",
              "  .colab-df-spinner {\n",
              "    border: 2px solid var(--fill-color);\n",
              "    border-color: transparent;\n",
              "    border-bottom-color: var(--fill-color);\n",
              "    animation:\n",
              "      spin 1s steps(1) infinite;\n",
              "  }\n",
              "\n",
              "  @keyframes spin {\n",
              "    0% {\n",
              "      border-color: transparent;\n",
              "      border-bottom-color: var(--fill-color);\n",
              "      border-left-color: var(--fill-color);\n",
              "    }\n",
              "    20% {\n",
              "      border-color: transparent;\n",
              "      border-left-color: var(--fill-color);\n",
              "      border-top-color: var(--fill-color);\n",
              "    }\n",
              "    30% {\n",
              "      border-color: transparent;\n",
              "      border-left-color: var(--fill-color);\n",
              "      border-top-color: var(--fill-color);\n",
              "      border-right-color: var(--fill-color);\n",
              "    }\n",
              "    40% {\n",
              "      border-color: transparent;\n",
              "      border-right-color: var(--fill-color);\n",
              "      border-top-color: var(--fill-color);\n",
              "    }\n",
              "    60% {\n",
              "      border-color: transparent;\n",
              "      border-right-color: var(--fill-color);\n",
              "    }\n",
              "    80% {\n",
              "      border-color: transparent;\n",
              "      border-right-color: var(--fill-color);\n",
              "      border-bottom-color: var(--fill-color);\n",
              "    }\n",
              "    90% {\n",
              "      border-color: transparent;\n",
              "      border-bottom-color: var(--fill-color);\n",
              "    }\n",
              "  }\n",
              "</style>\n",
              "\n",
              "  <script>\n",
              "    async function quickchart(key) {\n",
              "      const quickchartButtonEl =\n",
              "        document.querySelector('#' + key + ' button');\n",
              "      quickchartButtonEl.disabled = true;  // To prevent multiple clicks.\n",
              "      quickchartButtonEl.classList.add('colab-df-spinner');\n",
              "      try {\n",
              "        const charts = await google.colab.kernel.invokeFunction(\n",
              "            'suggestCharts', [key], {});\n",
              "      } catch (error) {\n",
              "        console.error('Error during call to suggestCharts:', error);\n",
              "      }\n",
              "      quickchartButtonEl.classList.remove('colab-df-spinner');\n",
              "      quickchartButtonEl.classList.add('colab-df-quickchart-complete');\n",
              "    }\n",
              "    (() => {\n",
              "      let quickchartButtonEl =\n",
              "        document.querySelector('#df-40408b18-9f17-427f-b02b-1a5e5b3dbe4b button');\n",
              "      quickchartButtonEl.style.display =\n",
              "        google.colab.kernel.accessAllowed ? 'block' : 'none';\n",
              "    })();\n",
              "  </script>\n",
              "</div>\n",
              "    </div>\n",
              "  </div>\n"
            ],
            "text/plain": [
              "      Avg. Area Income  Avg. Area House Age  Avg. Area Number of Rooms  \\\n",
              "0         79545.458574             5.682861                   7.009188   \n",
              "1         79248.642455             6.002900                   6.730821   \n",
              "2         61287.067179             5.865890                   8.512727   \n",
              "3         63345.240046             7.188236                   5.586729   \n",
              "4         59982.197226             5.040555                   7.839388   \n",
              "...                ...                  ...                        ...   \n",
              "4995      60567.944140             7.830362                   6.137356   \n",
              "4996      78491.275435             6.999135                   6.576763   \n",
              "4997      63390.686886             7.250591                   4.805081   \n",
              "4998      68001.331235             5.534388                   7.130144   \n",
              "4999      65510.581804             5.992305                   6.792336   \n",
              "\n",
              "      Avg. Area Number of Bedrooms  Area Population         Price  \n",
              "0                             4.09     23086.800503  1.059034e+06  \n",
              "1                             3.09     40173.072174  1.505891e+06  \n",
              "2                             5.13     36882.159400  1.058988e+06  \n",
              "3                             3.26     34310.242831  1.260617e+06  \n",
              "4                             4.23     26354.109472  6.309435e+05  \n",
              "...                            ...              ...           ...  \n",
              "4995                          3.46     22837.361035  1.060194e+06  \n",
              "4996                          4.02     25616.115489  1.482618e+06  \n",
              "4997                          2.13     33266.145490  1.030730e+06  \n",
              "4998                          5.44     42625.620156  1.198657e+06  \n",
              "4999                          4.07     46501.283803  1.298950e+06  \n",
              "\n",
              "[5000 rows x 6 columns]"
            ]
          },
          "execution_count": 11,
          "metadata": {},
          "output_type": "execute_result"
        }
      ],
      "source": [
        "numeric_data"
      ]
    },
    {
      "cell_type": "code",
      "execution_count": null,
      "id": "d04be542",
      "metadata": {
        "colab": {
          "base_uri": "https://localhost:8080/",
          "height": 423
        },
        "id": "d04be542",
        "outputId": "11294b07-41f0-4d8d-a22a-99d6f94303da"
      },
      "outputs": [
        {
          "data": {
            "application/vnd.google.colaboratory.intrinsic+json": {
              "summary": "{\n  \"name\": \"categorical_data\",\n  \"rows\": 5000,\n  \"fields\": [\n    {\n      \"column\": \"Address\",\n      \"properties\": {\n        \"dtype\": \"string\",\n        \"num_unique_values\": 5000,\n        \"samples\": [\n          \"7521 Gregory Meadows\\nEast Johntown, CO 93230-5255\",\n          \"15828 Marshall Stravenue Suite 199\\nEast Matthewmouth, TN 71861-6319\",\n          \"USNS Brandt\\nFPO AE 72594\"\n        ],\n        \"semantic_type\": \"\",\n        \"description\": \"\"\n      }\n    }\n  ]\n}",
              "type": "dataframe",
              "variable_name": "categorical_data"
            },
            "text/html": [
              "\n",
              "  <div id=\"df-ec560196-8a51-47fb-89d0-32c13600ccc7\" class=\"colab-df-container\">\n",
              "    <div>\n",
              "<style scoped>\n",
              "    .dataframe tbody tr th:only-of-type {\n",
              "        vertical-align: middle;\n",
              "    }\n",
              "\n",
              "    .dataframe tbody tr th {\n",
              "        vertical-align: top;\n",
              "    }\n",
              "\n",
              "    .dataframe thead th {\n",
              "        text-align: right;\n",
              "    }\n",
              "</style>\n",
              "<table border=\"1\" class=\"dataframe\">\n",
              "  <thead>\n",
              "    <tr style=\"text-align: right;\">\n",
              "      <th></th>\n",
              "      <th>Address</th>\n",
              "    </tr>\n",
              "  </thead>\n",
              "  <tbody>\n",
              "    <tr>\n",
              "      <th>0</th>\n",
              "      <td>208 Michael Ferry Apt. 674\\nLaurabury, NE 3701...</td>\n",
              "    </tr>\n",
              "    <tr>\n",
              "      <th>1</th>\n",
              "      <td>188 Johnson Views Suite 079\\nLake Kathleen, CA...</td>\n",
              "    </tr>\n",
              "    <tr>\n",
              "      <th>2</th>\n",
              "      <td>9127 Elizabeth Stravenue\\nDanieltown, WI 06482...</td>\n",
              "    </tr>\n",
              "    <tr>\n",
              "      <th>3</th>\n",
              "      <td>USS Barnett\\nFPO AP 44820</td>\n",
              "    </tr>\n",
              "    <tr>\n",
              "      <th>4</th>\n",
              "      <td>USNS Raymond\\nFPO AE 09386</td>\n",
              "    </tr>\n",
              "    <tr>\n",
              "      <th>...</th>\n",
              "      <td>...</td>\n",
              "    </tr>\n",
              "    <tr>\n",
              "      <th>4995</th>\n",
              "      <td>USNS Williams\\nFPO AP 30153-7653</td>\n",
              "    </tr>\n",
              "    <tr>\n",
              "      <th>4996</th>\n",
              "      <td>PSC 9258, Box 8489\\nAPO AA 42991-3352</td>\n",
              "    </tr>\n",
              "    <tr>\n",
              "      <th>4997</th>\n",
              "      <td>4215 Tracy Garden Suite 076\\nJoshualand, VA 01...</td>\n",
              "    </tr>\n",
              "    <tr>\n",
              "      <th>4998</th>\n",
              "      <td>USS Wallace\\nFPO AE 73316</td>\n",
              "    </tr>\n",
              "    <tr>\n",
              "      <th>4999</th>\n",
              "      <td>37778 George Ridges Apt. 509\\nEast Holly, NV 2...</td>\n",
              "    </tr>\n",
              "  </tbody>\n",
              "</table>\n",
              "<p>5000 rows × 1 columns</p>\n",
              "</div>\n",
              "    <div class=\"colab-df-buttons\">\n",
              "\n",
              "  <div class=\"colab-df-container\">\n",
              "    <button class=\"colab-df-convert\" onclick=\"convertToInteractive('df-ec560196-8a51-47fb-89d0-32c13600ccc7')\"\n",
              "            title=\"Convert this dataframe to an interactive table.\"\n",
              "            style=\"display:none;\">\n",
              "\n",
              "  <svg xmlns=\"http://www.w3.org/2000/svg\" height=\"24px\" viewBox=\"0 -960 960 960\">\n",
              "    <path d=\"M120-120v-720h720v720H120Zm60-500h600v-160H180v160Zm220 220h160v-160H400v160Zm0 220h160v-160H400v160ZM180-400h160v-160H180v160Zm440 0h160v-160H620v160ZM180-180h160v-160H180v160Zm440 0h160v-160H620v160Z\"/>\n",
              "  </svg>\n",
              "    </button>\n",
              "\n",
              "  <style>\n",
              "    .colab-df-container {\n",
              "      display:flex;\n",
              "      gap: 12px;\n",
              "    }\n",
              "\n",
              "    .colab-df-convert {\n",
              "      background-color: #E8F0FE;\n",
              "      border: none;\n",
              "      border-radius: 50%;\n",
              "      cursor: pointer;\n",
              "      display: none;\n",
              "      fill: #1967D2;\n",
              "      height: 32px;\n",
              "      padding: 0 0 0 0;\n",
              "      width: 32px;\n",
              "    }\n",
              "\n",
              "    .colab-df-convert:hover {\n",
              "      background-color: #E2EBFA;\n",
              "      box-shadow: 0px 1px 2px rgba(60, 64, 67, 0.3), 0px 1px 3px 1px rgba(60, 64, 67, 0.15);\n",
              "      fill: #174EA6;\n",
              "    }\n",
              "\n",
              "    .colab-df-buttons div {\n",
              "      margin-bottom: 4px;\n",
              "    }\n",
              "\n",
              "    [theme=dark] .colab-df-convert {\n",
              "      background-color: #3B4455;\n",
              "      fill: #D2E3FC;\n",
              "    }\n",
              "\n",
              "    [theme=dark] .colab-df-convert:hover {\n",
              "      background-color: #434B5C;\n",
              "      box-shadow: 0px 1px 3px 1px rgba(0, 0, 0, 0.15);\n",
              "      filter: drop-shadow(0px 1px 2px rgba(0, 0, 0, 0.3));\n",
              "      fill: #FFFFFF;\n",
              "    }\n",
              "  </style>\n",
              "\n",
              "    <script>\n",
              "      const buttonEl =\n",
              "        document.querySelector('#df-ec560196-8a51-47fb-89d0-32c13600ccc7 button.colab-df-convert');\n",
              "      buttonEl.style.display =\n",
              "        google.colab.kernel.accessAllowed ? 'block' : 'none';\n",
              "\n",
              "      async function convertToInteractive(key) {\n",
              "        const element = document.querySelector('#df-ec560196-8a51-47fb-89d0-32c13600ccc7');\n",
              "        const dataTable =\n",
              "          await google.colab.kernel.invokeFunction('convertToInteractive',\n",
              "                                                    [key], {});\n",
              "        if (!dataTable) return;\n",
              "\n",
              "        const docLinkHtml = 'Like what you see? Visit the ' +\n",
              "          '<a target=\"_blank\" href=https://colab.research.google.com/notebooks/data_table.ipynb>data table notebook</a>'\n",
              "          + ' to learn more about interactive tables.';\n",
              "        element.innerHTML = '';\n",
              "        dataTable['output_type'] = 'display_data';\n",
              "        await google.colab.output.renderOutput(dataTable, element);\n",
              "        const docLink = document.createElement('div');\n",
              "        docLink.innerHTML = docLinkHtml;\n",
              "        element.appendChild(docLink);\n",
              "      }\n",
              "    </script>\n",
              "  </div>\n",
              "\n",
              "\n",
              "<div id=\"df-cde81fe4-0dbe-44e2-8e25-9d8e6de039bf\">\n",
              "  <button class=\"colab-df-quickchart\" onclick=\"quickchart('df-cde81fe4-0dbe-44e2-8e25-9d8e6de039bf')\"\n",
              "            title=\"Suggest charts\"\n",
              "            style=\"display:none;\">\n",
              "\n",
              "<svg xmlns=\"http://www.w3.org/2000/svg\" height=\"24px\"viewBox=\"0 0 24 24\"\n",
              "     width=\"24px\">\n",
              "    <g>\n",
              "        <path d=\"M19 3H5c-1.1 0-2 .9-2 2v14c0 1.1.9 2 2 2h14c1.1 0 2-.9 2-2V5c0-1.1-.9-2-2-2zM9 17H7v-7h2v7zm4 0h-2V7h2v10zm4 0h-2v-4h2v4z\"/>\n",
              "    </g>\n",
              "</svg>\n",
              "  </button>\n",
              "\n",
              "<style>\n",
              "  .colab-df-quickchart {\n",
              "      --bg-color: #E8F0FE;\n",
              "      --fill-color: #1967D2;\n",
              "      --hover-bg-color: #E2EBFA;\n",
              "      --hover-fill-color: #174EA6;\n",
              "      --disabled-fill-color: #AAA;\n",
              "      --disabled-bg-color: #DDD;\n",
              "  }\n",
              "\n",
              "  [theme=dark] .colab-df-quickchart {\n",
              "      --bg-color: #3B4455;\n",
              "      --fill-color: #D2E3FC;\n",
              "      --hover-bg-color: #434B5C;\n",
              "      --hover-fill-color: #FFFFFF;\n",
              "      --disabled-bg-color: #3B4455;\n",
              "      --disabled-fill-color: #666;\n",
              "  }\n",
              "\n",
              "  .colab-df-quickchart {\n",
              "    background-color: var(--bg-color);\n",
              "    border: none;\n",
              "    border-radius: 50%;\n",
              "    cursor: pointer;\n",
              "    display: none;\n",
              "    fill: var(--fill-color);\n",
              "    height: 32px;\n",
              "    padding: 0;\n",
              "    width: 32px;\n",
              "  }\n",
              "\n",
              "  .colab-df-quickchart:hover {\n",
              "    background-color: var(--hover-bg-color);\n",
              "    box-shadow: 0 1px 2px rgba(60, 64, 67, 0.3), 0 1px 3px 1px rgba(60, 64, 67, 0.15);\n",
              "    fill: var(--button-hover-fill-color);\n",
              "  }\n",
              "\n",
              "  .colab-df-quickchart-complete:disabled,\n",
              "  .colab-df-quickchart-complete:disabled:hover {\n",
              "    background-color: var(--disabled-bg-color);\n",
              "    fill: var(--disabled-fill-color);\n",
              "    box-shadow: none;\n",
              "  }\n",
              "\n",
              "  .colab-df-spinner {\n",
              "    border: 2px solid var(--fill-color);\n",
              "    border-color: transparent;\n",
              "    border-bottom-color: var(--fill-color);\n",
              "    animation:\n",
              "      spin 1s steps(1) infinite;\n",
              "  }\n",
              "\n",
              "  @keyframes spin {\n",
              "    0% {\n",
              "      border-color: transparent;\n",
              "      border-bottom-color: var(--fill-color);\n",
              "      border-left-color: var(--fill-color);\n",
              "    }\n",
              "    20% {\n",
              "      border-color: transparent;\n",
              "      border-left-color: var(--fill-color);\n",
              "      border-top-color: var(--fill-color);\n",
              "    }\n",
              "    30% {\n",
              "      border-color: transparent;\n",
              "      border-left-color: var(--fill-color);\n",
              "      border-top-color: var(--fill-color);\n",
              "      border-right-color: var(--fill-color);\n",
              "    }\n",
              "    40% {\n",
              "      border-color: transparent;\n",
              "      border-right-color: var(--fill-color);\n",
              "      border-top-color: var(--fill-color);\n",
              "    }\n",
              "    60% {\n",
              "      border-color: transparent;\n",
              "      border-right-color: var(--fill-color);\n",
              "    }\n",
              "    80% {\n",
              "      border-color: transparent;\n",
              "      border-right-color: var(--fill-color);\n",
              "      border-bottom-color: var(--fill-color);\n",
              "    }\n",
              "    90% {\n",
              "      border-color: transparent;\n",
              "      border-bottom-color: var(--fill-color);\n",
              "    }\n",
              "  }\n",
              "</style>\n",
              "\n",
              "  <script>\n",
              "    async function quickchart(key) {\n",
              "      const quickchartButtonEl =\n",
              "        document.querySelector('#' + key + ' button');\n",
              "      quickchartButtonEl.disabled = true;  // To prevent multiple clicks.\n",
              "      quickchartButtonEl.classList.add('colab-df-spinner');\n",
              "      try {\n",
              "        const charts = await google.colab.kernel.invokeFunction(\n",
              "            'suggestCharts', [key], {});\n",
              "      } catch (error) {\n",
              "        console.error('Error during call to suggestCharts:', error);\n",
              "      }\n",
              "      quickchartButtonEl.classList.remove('colab-df-spinner');\n",
              "      quickchartButtonEl.classList.add('colab-df-quickchart-complete');\n",
              "    }\n",
              "    (() => {\n",
              "      let quickchartButtonEl =\n",
              "        document.querySelector('#df-cde81fe4-0dbe-44e2-8e25-9d8e6de039bf button');\n",
              "      quickchartButtonEl.style.display =\n",
              "        google.colab.kernel.accessAllowed ? 'block' : 'none';\n",
              "    })();\n",
              "  </script>\n",
              "</div>\n",
              "    </div>\n",
              "  </div>\n"
            ],
            "text/plain": [
              "                                                Address\n",
              "0     208 Michael Ferry Apt. 674\\nLaurabury, NE 3701...\n",
              "1     188 Johnson Views Suite 079\\nLake Kathleen, CA...\n",
              "2     9127 Elizabeth Stravenue\\nDanieltown, WI 06482...\n",
              "3                             USS Barnett\\nFPO AP 44820\n",
              "4                            USNS Raymond\\nFPO AE 09386\n",
              "...                                                 ...\n",
              "4995                   USNS Williams\\nFPO AP 30153-7653\n",
              "4996              PSC 9258, Box 8489\\nAPO AA 42991-3352\n",
              "4997  4215 Tracy Garden Suite 076\\nJoshualand, VA 01...\n",
              "4998                          USS Wallace\\nFPO AE 73316\n",
              "4999  37778 George Ridges Apt. 509\\nEast Holly, NV 2...\n",
              "\n",
              "[5000 rows x 1 columns]"
            ]
          },
          "execution_count": 12,
          "metadata": {},
          "output_type": "execute_result"
        }
      ],
      "source": [
        "categorical_data"
      ]
    },
    {
      "cell_type": "code",
      "execution_count": null,
      "id": "1e186228",
      "metadata": {
        "colab": {
          "base_uri": "https://localhost:8080/",
          "height": 339
        },
        "id": "1e186228",
        "outputId": "f72d9132-ae50-4306-aa08-8b131312939c"
      },
      "outputs": [
        {
          "ename": "ValueError",
          "evalue": "could not convert string to float: '208 Michael Ferry Apt. 674\\nLaurabury, NE 37010-5101'",
          "output_type": "error",
          "traceback": [
            "\u001b[0;31m---------------------------------------------------------------------------\u001b[0m",
            "\u001b[0;31mValueError\u001b[0m                                Traceback (most recent call last)",
            "\u001b[0;32m<ipython-input-13-f7371c1e4889>\u001b[0m in \u001b[0;36m<cell line: 2>\u001b[0;34m()\u001b[0m\n\u001b[1;32m      1\u001b[0m \u001b[0;31m#finding important features\u001b[0m\u001b[0;34m\u001b[0m\u001b[0;34m\u001b[0m\u001b[0m\n\u001b[0;32m----> 2\u001b[0;31m \u001b[0mcorrelation\u001b[0m\u001b[0;34m=\u001b[0m\u001b[0mdata\u001b[0m\u001b[0;34m.\u001b[0m\u001b[0mcorr\u001b[0m\u001b[0;34m(\u001b[0m\u001b[0;34m)\u001b[0m\u001b[0;34m\u001b[0m\u001b[0;34m\u001b[0m\u001b[0m\n\u001b[0m",
            "\u001b[0;32m/usr/local/lib/python3.10/dist-packages/pandas/core/frame.py\u001b[0m in \u001b[0;36mcorr\u001b[0;34m(self, method, min_periods, numeric_only)\u001b[0m\n\u001b[1;32m  10052\u001b[0m         \u001b[0mcols\u001b[0m \u001b[0;34m=\u001b[0m \u001b[0mdata\u001b[0m\u001b[0;34m.\u001b[0m\u001b[0mcolumns\u001b[0m\u001b[0;34m\u001b[0m\u001b[0;34m\u001b[0m\u001b[0m\n\u001b[1;32m  10053\u001b[0m         \u001b[0midx\u001b[0m \u001b[0;34m=\u001b[0m \u001b[0mcols\u001b[0m\u001b[0;34m.\u001b[0m\u001b[0mcopy\u001b[0m\u001b[0;34m(\u001b[0m\u001b[0;34m)\u001b[0m\u001b[0;34m\u001b[0m\u001b[0;34m\u001b[0m\u001b[0m\n\u001b[0;32m> 10054\u001b[0;31m         \u001b[0mmat\u001b[0m \u001b[0;34m=\u001b[0m \u001b[0mdata\u001b[0m\u001b[0;34m.\u001b[0m\u001b[0mto_numpy\u001b[0m\u001b[0;34m(\u001b[0m\u001b[0mdtype\u001b[0m\u001b[0;34m=\u001b[0m\u001b[0mfloat\u001b[0m\u001b[0;34m,\u001b[0m \u001b[0mna_value\u001b[0m\u001b[0;34m=\u001b[0m\u001b[0mnp\u001b[0m\u001b[0;34m.\u001b[0m\u001b[0mnan\u001b[0m\u001b[0;34m,\u001b[0m \u001b[0mcopy\u001b[0m\u001b[0;34m=\u001b[0m\u001b[0;32mFalse\u001b[0m\u001b[0;34m)\u001b[0m\u001b[0;34m\u001b[0m\u001b[0;34m\u001b[0m\u001b[0m\n\u001b[0m\u001b[1;32m  10055\u001b[0m \u001b[0;34m\u001b[0m\u001b[0m\n\u001b[1;32m  10056\u001b[0m         \u001b[0;32mif\u001b[0m \u001b[0mmethod\u001b[0m \u001b[0;34m==\u001b[0m \u001b[0;34m\"pearson\"\u001b[0m\u001b[0;34m:\u001b[0m\u001b[0;34m\u001b[0m\u001b[0;34m\u001b[0m\u001b[0m\n",
            "\u001b[0;32m/usr/local/lib/python3.10/dist-packages/pandas/core/frame.py\u001b[0m in \u001b[0;36mto_numpy\u001b[0;34m(self, dtype, copy, na_value)\u001b[0m\n\u001b[1;32m   1836\u001b[0m         \u001b[0;32mif\u001b[0m \u001b[0mdtype\u001b[0m \u001b[0;32mis\u001b[0m \u001b[0;32mnot\u001b[0m \u001b[0;32mNone\u001b[0m\u001b[0;34m:\u001b[0m\u001b[0;34m\u001b[0m\u001b[0;34m\u001b[0m\u001b[0m\n\u001b[1;32m   1837\u001b[0m             \u001b[0mdtype\u001b[0m \u001b[0;34m=\u001b[0m \u001b[0mnp\u001b[0m\u001b[0;34m.\u001b[0m\u001b[0mdtype\u001b[0m\u001b[0;34m(\u001b[0m\u001b[0mdtype\u001b[0m\u001b[0;34m)\u001b[0m\u001b[0;34m\u001b[0m\u001b[0;34m\u001b[0m\u001b[0m\n\u001b[0;32m-> 1838\u001b[0;31m         \u001b[0mresult\u001b[0m \u001b[0;34m=\u001b[0m \u001b[0mself\u001b[0m\u001b[0;34m.\u001b[0m\u001b[0m_mgr\u001b[0m\u001b[0;34m.\u001b[0m\u001b[0mas_array\u001b[0m\u001b[0;34m(\u001b[0m\u001b[0mdtype\u001b[0m\u001b[0;34m=\u001b[0m\u001b[0mdtype\u001b[0m\u001b[0;34m,\u001b[0m \u001b[0mcopy\u001b[0m\u001b[0;34m=\u001b[0m\u001b[0mcopy\u001b[0m\u001b[0;34m,\u001b[0m \u001b[0mna_value\u001b[0m\u001b[0;34m=\u001b[0m\u001b[0mna_value\u001b[0m\u001b[0;34m)\u001b[0m\u001b[0;34m\u001b[0m\u001b[0;34m\u001b[0m\u001b[0m\n\u001b[0m\u001b[1;32m   1839\u001b[0m         \u001b[0;32mif\u001b[0m \u001b[0mresult\u001b[0m\u001b[0;34m.\u001b[0m\u001b[0mdtype\u001b[0m \u001b[0;32mis\u001b[0m \u001b[0;32mnot\u001b[0m \u001b[0mdtype\u001b[0m\u001b[0;34m:\u001b[0m\u001b[0;34m\u001b[0m\u001b[0;34m\u001b[0m\u001b[0m\n\u001b[1;32m   1840\u001b[0m             \u001b[0mresult\u001b[0m \u001b[0;34m=\u001b[0m \u001b[0mnp\u001b[0m\u001b[0;34m.\u001b[0m\u001b[0marray\u001b[0m\u001b[0;34m(\u001b[0m\u001b[0mresult\u001b[0m\u001b[0;34m,\u001b[0m \u001b[0mdtype\u001b[0m\u001b[0;34m=\u001b[0m\u001b[0mdtype\u001b[0m\u001b[0;34m,\u001b[0m \u001b[0mcopy\u001b[0m\u001b[0;34m=\u001b[0m\u001b[0;32mFalse\u001b[0m\u001b[0;34m)\u001b[0m\u001b[0;34m\u001b[0m\u001b[0;34m\u001b[0m\u001b[0m\n",
            "\u001b[0;32m/usr/local/lib/python3.10/dist-packages/pandas/core/internals/managers.py\u001b[0m in \u001b[0;36mas_array\u001b[0;34m(self, dtype, copy, na_value)\u001b[0m\n\u001b[1;32m   1730\u001b[0m                 \u001b[0marr\u001b[0m\u001b[0;34m.\u001b[0m\u001b[0mflags\u001b[0m\u001b[0;34m.\u001b[0m\u001b[0mwriteable\u001b[0m \u001b[0;34m=\u001b[0m \u001b[0;32mFalse\u001b[0m\u001b[0;34m\u001b[0m\u001b[0;34m\u001b[0m\u001b[0m\n\u001b[1;32m   1731\u001b[0m         \u001b[0;32melse\u001b[0m\u001b[0;34m:\u001b[0m\u001b[0;34m\u001b[0m\u001b[0;34m\u001b[0m\u001b[0m\n\u001b[0;32m-> 1732\u001b[0;31m             \u001b[0marr\u001b[0m \u001b[0;34m=\u001b[0m \u001b[0mself\u001b[0m\u001b[0;34m.\u001b[0m\u001b[0m_interleave\u001b[0m\u001b[0;34m(\u001b[0m\u001b[0mdtype\u001b[0m\u001b[0;34m=\u001b[0m\u001b[0mdtype\u001b[0m\u001b[0;34m,\u001b[0m \u001b[0mna_value\u001b[0m\u001b[0;34m=\u001b[0m\u001b[0mna_value\u001b[0m\u001b[0;34m)\u001b[0m\u001b[0;34m\u001b[0m\u001b[0;34m\u001b[0m\u001b[0m\n\u001b[0m\u001b[1;32m   1733\u001b[0m             \u001b[0;31m# The underlying data was copied within _interleave, so no need\u001b[0m\u001b[0;34m\u001b[0m\u001b[0;34m\u001b[0m\u001b[0m\n\u001b[1;32m   1734\u001b[0m             \u001b[0;31m# to further copy if copy=True or setting na_value\u001b[0m\u001b[0;34m\u001b[0m\u001b[0;34m\u001b[0m\u001b[0m\n",
            "\u001b[0;32m/usr/local/lib/python3.10/dist-packages/pandas/core/internals/managers.py\u001b[0m in \u001b[0;36m_interleave\u001b[0;34m(self, dtype, na_value)\u001b[0m\n\u001b[1;32m   1792\u001b[0m             \u001b[0;32melse\u001b[0m\u001b[0;34m:\u001b[0m\u001b[0;34m\u001b[0m\u001b[0;34m\u001b[0m\u001b[0m\n\u001b[1;32m   1793\u001b[0m                 \u001b[0marr\u001b[0m \u001b[0;34m=\u001b[0m \u001b[0mblk\u001b[0m\u001b[0;34m.\u001b[0m\u001b[0mget_values\u001b[0m\u001b[0;34m(\u001b[0m\u001b[0mdtype\u001b[0m\u001b[0;34m)\u001b[0m\u001b[0;34m\u001b[0m\u001b[0;34m\u001b[0m\u001b[0m\n\u001b[0;32m-> 1794\u001b[0;31m             \u001b[0mresult\u001b[0m\u001b[0;34m[\u001b[0m\u001b[0mrl\u001b[0m\u001b[0;34m.\u001b[0m\u001b[0mindexer\u001b[0m\u001b[0;34m]\u001b[0m \u001b[0;34m=\u001b[0m \u001b[0marr\u001b[0m\u001b[0;34m\u001b[0m\u001b[0;34m\u001b[0m\u001b[0m\n\u001b[0m\u001b[1;32m   1795\u001b[0m             \u001b[0mitemmask\u001b[0m\u001b[0;34m[\u001b[0m\u001b[0mrl\u001b[0m\u001b[0;34m.\u001b[0m\u001b[0mindexer\u001b[0m\u001b[0;34m]\u001b[0m \u001b[0;34m=\u001b[0m \u001b[0;36m1\u001b[0m\u001b[0;34m\u001b[0m\u001b[0;34m\u001b[0m\u001b[0m\n\u001b[1;32m   1796\u001b[0m \u001b[0;34m\u001b[0m\u001b[0m\n",
            "\u001b[0;31mValueError\u001b[0m: could not convert string to float: '208 Michael Ferry Apt. 674\\nLaurabury, NE 37010-5101'"
          ]
        }
      ],
      "source": [
        "\n",
        "#finding important features\n",
        "correlation=data.corr()"
      ]
    },
    {
      "cell_type": "code",
      "execution_count": null,
      "id": "d2aa29c6",
      "metadata": {
        "id": "d2aa29c6"
      },
      "outputs": [],
      "source": [
        "correlation\n",
        "#Price is the output i.e dependent one we can see Number of bedrooms have a very less correlated we can drop that column too in our analysis"
      ]
    },
    {
      "cell_type": "code",
      "execution_count": null,
      "id": "31446f8f",
      "metadata": {
        "id": "31446f8f",
        "scrolled": true
      },
      "outputs": [],
      "source": [
        "#Graphical analysis\n",
        "#scatter plot (observe and show relationships between two numeric variables)\n",
        "plt.scatter(data[\"Avg. Area Income\"], data[\"Price\"])"
      ]
    },
    {
      "cell_type": "code",
      "execution_count": null,
      "id": "729008c2",
      "metadata": {
        "id": "729008c2",
        "scrolled": true
      },
      "outputs": [],
      "source": [
        "column_list=numeric_data.columns"
      ]
    },
    {
      "cell_type": "code",
      "execution_count": null,
      "id": "ad9fd135",
      "metadata": {
        "colab": {
          "base_uri": "https://localhost:8080/",
          "height": 245
        },
        "id": "ad9fd135",
        "outputId": "59340ead-a455-4de3-bada-64270ddbfd43"
      },
      "outputs": [
        {
          "ename": "NameError",
          "evalue": "name 'columns_list' is not defined",
          "output_type": "error",
          "traceback": [
            "\u001b[0;31m---------------------------------------------------------------------------\u001b[0m",
            "\u001b[0;31mNameError\u001b[0m                                 Traceback (most recent call last)",
            "\u001b[0;32m<ipython-input-15-45e727fce55a>\u001b[0m in \u001b[0;36m<cell line: 3>\u001b[0;34m()\u001b[0m\n\u001b[1;32m      1\u001b[0m \u001b[0mplt\u001b[0m\u001b[0;34m.\u001b[0m\u001b[0mfigure\u001b[0m\u001b[0;34m(\u001b[0m\u001b[0mfigsize\u001b[0m\u001b[0;34m=\u001b[0m\u001b[0;34m(\u001b[0m\u001b[0;36m12\u001b[0m\u001b[0;34m,\u001b[0m \u001b[0;36m8\u001b[0m\u001b[0;34m)\u001b[0m\u001b[0;34m)\u001b[0m  \u001b[0;31m# Optional: set the figure size\u001b[0m\u001b[0;34m\u001b[0m\u001b[0;34m\u001b[0m\u001b[0m\n\u001b[1;32m      2\u001b[0m \u001b[0;34m\u001b[0m\u001b[0m\n\u001b[0;32m----> 3\u001b[0;31m \u001b[0;32mfor\u001b[0m \u001b[0mi\u001b[0m \u001b[0;32min\u001b[0m \u001b[0mcolumns_list\u001b[0m\u001b[0;34m[\u001b[0m\u001b[0;34m:\u001b[0m\u001b[0;34m-\u001b[0m\u001b[0;36m1\u001b[0m\u001b[0;34m]\u001b[0m\u001b[0;34m:\u001b[0m  \u001b[0;31m# Exclude the last column (Price)\u001b[0m\u001b[0;34m\u001b[0m\u001b[0;34m\u001b[0m\u001b[0m\n\u001b[0m\u001b[1;32m      4\u001b[0m     \u001b[0mplt\u001b[0m\u001b[0;34m.\u001b[0m\u001b[0mscatter\u001b[0m\u001b[0;34m(\u001b[0m\u001b[0mdata\u001b[0m\u001b[0;34m[\u001b[0m\u001b[0mi\u001b[0m\u001b[0;34m]\u001b[0m\u001b[0;34m,\u001b[0m \u001b[0mdata\u001b[0m\u001b[0;34m[\u001b[0m\u001b[0;34m'Price'\u001b[0m\u001b[0;34m]\u001b[0m\u001b[0;34m,\u001b[0m \u001b[0mlabel\u001b[0m\u001b[0;34m=\u001b[0m\u001b[0mi\u001b[0m\u001b[0;34m)\u001b[0m  \u001b[0;31m# Plot each column against Price\u001b[0m\u001b[0;34m\u001b[0m\u001b[0;34m\u001b[0m\u001b[0m\n\u001b[1;32m      5\u001b[0m \u001b[0;34m\u001b[0m\u001b[0m\n",
            "\u001b[0;31mNameError\u001b[0m: name 'columns_list' is not defined"
          ]
        },
        {
          "data": {
            "text/plain": [
              "<Figure size 1200x800 with 0 Axes>"
            ]
          },
          "metadata": {},
          "output_type": "display_data"
        }
      ],
      "source": [
        "plt.figure(figsize=(12, 8))  # Optional: set the figure size\n",
        "\n",
        "for i in columns_list[:-1]:  # Exclude the last column (Price)\n",
        "    plt.scatter(data[i], data['Price'], label=i)  # Plot each column against Price\n",
        "\n",
        "    # Add labels for clarity\n",
        "    plt.xlabel(i)\n",
        "    plt.ylabel('Price')\n",
        "    plt.title(f'Scatter Plot of {i} vs Price')\n",
        "    plt.legend()\n",
        "\n",
        "    # Show each plot\n",
        "    plt.show()"
      ]
    },
    {
      "cell_type": "code",
      "execution_count": null,
      "id": "5e1aace5",
      "metadata": {
        "id": "5e1aace5"
      },
      "outputs": [],
      "source": [
        "#scatter plot we can see everyone has linear relation with price except the no.of bedrooms and we can check for outliers also from plot"
      ]
    },
    {
      "cell_type": "code",
      "execution_count": null,
      "id": "812a11c0",
      "metadata": {
        "id": "812a11c0"
      },
      "outputs": [],
      "source": [
        "numeric_columns = ['Avg. Area Income', 'Avg. Area House Age', 'Avg. Area Number of Rooms',\n",
        "                   'Avg. Area Number of Bedrooms', 'Area Population', 'Price']\n",
        "\n",
        "# Create boxplots for selected columns to check for outliers\n",
        "\n",
        "for i in numeric_columns[:-1]:\n",
        "    data.boxplot(column=[i])\n",
        "    plt.title('Boxplot of Numeric Columns '+i)\n",
        "    plt.show()\n",
        "    # Exclude the last column (Price)\n",
        "\n",
        "\n"
      ]
    },
    {
      "cell_type": "code",
      "execution_count": null,
      "id": "db758191",
      "metadata": {
        "id": "db758191"
      },
      "outputs": [],
      "source": [
        "#we notice there are many outliers we will remove it in Pre processing"
      ]
    },
    {
      "cell_type": "code",
      "execution_count": null,
      "id": "99ff5107",
      "metadata": {
        "id": "99ff5107"
      },
      "outputs": [],
      "source": [
        "#plottinh heatmap\n",
        "plt.figure(figsize=(8, 6))  # Set the figure size\n",
        "\n",
        "sns.heatmap(correlation)\n"
      ]
    },
    {
      "cell_type": "code",
      "execution_count": null,
      "id": "43e56c02",
      "metadata": {
        "id": "43e56c02"
      },
      "outputs": [],
      "source": [
        "#EDA analysis\n",
        "1.Price is output column and its dependent\n",
        "2.6 indepedent variable we have\n",
        "3. 5 numerical 1 categorial\n",
        "4. from stats we can see no. of rooms can be dropped in Price predicton as 0.171071 score is this\n",
        "5. scatter plot we see evry feature has linear relation with price except no. of rooms\n",
        "6 . from the box plot we found there are outliers\n",
        "7. from stats analysis it has no null values and duplicated values\n",
        "8. from heat map we see see no. of rooms and Price less correlated and there is corrleation between no. of bedroom and no.of room but not that much that one can be dropped\n",
        "\n"
      ]
    },
    {
      "cell_type": "code",
      "execution_count": null,
      "id": "fec2d92b",
      "metadata": {
        "id": "fec2d92b"
      },
      "outputs": [],
      "source": [
        "####Pre processing the data\n",
        "#no missing value dont need to handle\n",
        "#there are outliers we need to remove that first\n"
      ]
    },
    {
      "cell_type": "code",
      "execution_count": null,
      "id": "d4a424ce",
      "metadata": {
        "id": "d4a424ce"
      },
      "outputs": [],
      "source": [
        "#Removing outlier from \"Avg. Area Income\"\n",
        "data = data[data[\"Avg. Area Income\"] > 40000 ]\n",
        "data = data[data[\"Avg. Area Income\"] < 100000 ]"
      ]
    },
    {
      "cell_type": "code",
      "execution_count": null,
      "id": "e037b2f7",
      "metadata": {
        "id": "e037b2f7"
      },
      "outputs": [],
      "source": [
        "#Removing outlier from \"Avg. Area House Age\"\n",
        "\n",
        "data = data[data[\"Avg. Area House Age\"] > 3.2 ]\n",
        "data = data[data[\"Avg. Area House Age\"] < 8.8 ]"
      ]
    },
    {
      "cell_type": "code",
      "execution_count": null,
      "id": "ebbc1f79",
      "metadata": {
        "id": "ebbc1f79"
      },
      "outputs": [],
      "source": [
        "#Removing outlier from \"Avg. Area Number of Rooms\"\n",
        "\n",
        "data = data[data[\"Avg. Area Number of Rooms\"] > 4.2 ]\n",
        "data = data[data[\"Avg. Area Number of Rooms\"] < 9.8 ]"
      ]
    },
    {
      "cell_type": "code",
      "execution_count": null,
      "id": "47a2d8a3",
      "metadata": {
        "id": "47a2d8a3"
      },
      "outputs": [],
      "source": [
        "#Removing outlier from \"Area Population \"\n",
        "\n",
        "data = data[data[\"Area Population\"] > 10000 ]\n",
        "data = data[data[\"Area Population\"] < 62000 ]"
      ]
    },
    {
      "cell_type": "code",
      "execution_count": null,
      "id": "e07d43e5",
      "metadata": {
        "colab": {
          "base_uri": "https://localhost:8080/"
        },
        "id": "e07d43e5",
        "outputId": "27ef1eed-be53-4cec-ff19-046a90b1317c"
      },
      "outputs": [
        {
          "name": "stdout",
          "output_type": "stream",
          "text": [
            "<class 'pandas.core.frame.DataFrame'>\n",
            "Index: 4962 entries, 0 to 4999\n",
            "Data columns (total 7 columns):\n",
            " #   Column                        Non-Null Count  Dtype  \n",
            "---  ------                        --------------  -----  \n",
            " 0   Avg. Area Income              4962 non-null   float64\n",
            " 1   Avg. Area House Age           4962 non-null   float64\n",
            " 2   Avg. Area Number of Rooms     4962 non-null   float64\n",
            " 3   Avg. Area Number of Bedrooms  4962 non-null   float64\n",
            " 4   Area Population               4962 non-null   float64\n",
            " 5   Price                         4962 non-null   float64\n",
            " 6   Address                       4962 non-null   object \n",
            "dtypes: float64(6), object(1)\n",
            "memory usage: 310.1+ KB\n"
          ]
        }
      ],
      "source": [
        "data.info()"
      ]
    },
    {
      "cell_type": "code",
      "execution_count": null,
      "id": "7eb9ec97",
      "metadata": {
        "id": "7eb9ec97"
      },
      "outputs": [],
      "source": [
        "#segreagte numerical or categorial\n",
        "numeric_data = data.select_dtypes(exclude=['object'])\n",
        "categorical_data = data.select_dtypes(include=['object'])"
      ]
    },
    {
      "cell_type": "code",
      "execution_count": null,
      "id": "07216598",
      "metadata": {
        "id": "07216598"
      },
      "outputs": [],
      "source": [
        "#standarization (saling the data)\n",
        "from sklearn.preprocessing import StandardScaler\n",
        "scaler = StandardScaler()\n",
        "\n",
        "# Fit and transform the data using StandardScaler\n",
        "scaled_data = scaler.fit_transform(numeric_data)"
      ]
    },
    {
      "cell_type": "code",
      "execution_count": null,
      "id": "e152569b",
      "metadata": {
        "colab": {
          "base_uri": "https://localhost:8080/"
        },
        "id": "e152569b",
        "outputId": "7a756607-3e80-4f1e-c23f-971459ddcc13"
      },
      "outputs": [
        {
          "data": {
            "text/plain": [
              "(4962, 6)"
            ]
          },
          "execution_count": 20,
          "metadata": {},
          "output_type": "execute_result"
        }
      ],
      "source": [
        "scaled_data.shape"
      ]
    },
    {
      "cell_type": "code",
      "execution_count": null,
      "id": "876c13e5",
      "metadata": {
        "id": "876c13e5"
      },
      "outputs": [],
      "source": [
        "##Training the Model\n",
        "#1.Independent and dependent"
      ]
    },
    {
      "cell_type": "code",
      "execution_count": null,
      "id": "7fa6e84d",
      "metadata": {
        "colab": {
          "base_uri": "https://localhost:8080/",
          "height": 493
        },
        "id": "7fa6e84d",
        "outputId": "fc29b682-f51f-46bf-86e6-4194803a37e7"
      },
      "outputs": [
        {
          "data": {
            "application/vnd.google.colaboratory.intrinsic+json": {
              "summary": "{\n  \"name\": \"numeric_data\",\n  \"rows\": 4962,\n  \"fields\": [\n    {\n      \"column\": \"Avg. Area Income\",\n      \"properties\": {\n        \"dtype\": \"number\",\n        \"std\": 10648.369444803382,\n        \"min\": 17796.631189543397,\n        \"max\": 107701.74837763936,\n        \"num_unique_values\": 4962,\n        \"samples\": [\n          70602.25967010415,\n          61200.72617535951,\n          84973.88842873898\n        ],\n        \"semantic_type\": \"\",\n        \"description\": \"\"\n      }\n    },\n    {\n      \"column\": \"Avg. Area House Age\",\n      \"properties\": {\n        \"dtype\": \"number\",\n        \"std\": 0.991013438968935,\n        \"min\": 2.644304186036705,\n        \"max\": 9.51908806613594,\n        \"num_unique_values\": 4962,\n        \"samples\": [\n          5.41226497085513,\n          5.299694000232763,\n          6.5528892351668855\n        ],\n        \"semantic_type\": \"\",\n        \"description\": \"\"\n      }\n    },\n    {\n      \"column\": \"Avg. Area Number of Rooms\",\n      \"properties\": {\n        \"dtype\": \"number\",\n        \"std\": 1.006139801009958,\n        \"min\": 3.2361940234262048,\n        \"max\": 10.759588335938624,\n        \"num_unique_values\": 4962,\n        \"samples\": [\n          5.5392865192031815,\n          6.2346146404078375,\n          7.628022299050371\n        ],\n        \"semantic_type\": \"\",\n        \"description\": \"\"\n      }\n    },\n    {\n      \"column\": \"Avg. Area Number of Bedrooms\",\n      \"properties\": {\n        \"dtype\": \"number\",\n        \"std\": 1.2352000367174607,\n        \"min\": 2.0,\n        \"max\": 6.5,\n        \"num_unique_values\": 255,\n        \"samples\": [\n          2.36,\n          3.41,\n          3.33\n        ],\n        \"semantic_type\": \"\",\n        \"description\": \"\"\n      }\n    },\n    {\n      \"column\": \"Area Population\",\n      \"properties\": {\n        \"dtype\": \"number\",\n        \"std\": 9617.805609850706,\n        \"min\": 10311.00139389188,\n        \"max\": 61916.135537629016,\n        \"num_unique_values\": 4962,\n        \"samples\": [\n          35594.22417611311,\n          42789.69221657104,\n          38072.395359842194\n        ],\n        \"semantic_type\": \"\",\n        \"description\": \"\"\n      }\n    },\n    {\n      \"column\": \"Price\",\n      \"properties\": {\n        \"dtype\": \"number\",\n        \"std\": 352149.89138126915,\n        \"min\": 15938.657923287848,\n        \"max\": 2469065.5941747027,\n        \"num_unique_values\": 4962,\n        \"samples\": [\n          883021.8963767654,\n          894251.0686357756,\n          1723706.7585228554\n        ],\n        \"semantic_type\": \"\",\n        \"description\": \"\"\n      }\n    }\n  ]\n}",
              "type": "dataframe",
              "variable_name": "numeric_data"
            },
            "text/html": [
              "\n",
              "  <div id=\"df-15908183-c3cc-4982-9ed2-c21a92821151\" class=\"colab-df-container\">\n",
              "    <div>\n",
              "<style scoped>\n",
              "    .dataframe tbody tr th:only-of-type {\n",
              "        vertical-align: middle;\n",
              "    }\n",
              "\n",
              "    .dataframe tbody tr th {\n",
              "        vertical-align: top;\n",
              "    }\n",
              "\n",
              "    .dataframe thead th {\n",
              "        text-align: right;\n",
              "    }\n",
              "</style>\n",
              "<table border=\"1\" class=\"dataframe\">\n",
              "  <thead>\n",
              "    <tr style=\"text-align: right;\">\n",
              "      <th></th>\n",
              "      <th>Avg. Area Income</th>\n",
              "      <th>Avg. Area House Age</th>\n",
              "      <th>Avg. Area Number of Rooms</th>\n",
              "      <th>Avg. Area Number of Bedrooms</th>\n",
              "      <th>Area Population</th>\n",
              "      <th>Price</th>\n",
              "    </tr>\n",
              "  </thead>\n",
              "  <tbody>\n",
              "    <tr>\n",
              "      <th>0</th>\n",
              "      <td>79545.458574</td>\n",
              "      <td>5.682861</td>\n",
              "      <td>7.009188</td>\n",
              "      <td>4.09</td>\n",
              "      <td>23086.800503</td>\n",
              "      <td>1.059034e+06</td>\n",
              "    </tr>\n",
              "    <tr>\n",
              "      <th>1</th>\n",
              "      <td>79248.642455</td>\n",
              "      <td>6.002900</td>\n",
              "      <td>6.730821</td>\n",
              "      <td>3.09</td>\n",
              "      <td>40173.072174</td>\n",
              "      <td>1.505891e+06</td>\n",
              "    </tr>\n",
              "    <tr>\n",
              "      <th>2</th>\n",
              "      <td>61287.067179</td>\n",
              "      <td>5.865890</td>\n",
              "      <td>8.512727</td>\n",
              "      <td>5.13</td>\n",
              "      <td>36882.159400</td>\n",
              "      <td>1.058988e+06</td>\n",
              "    </tr>\n",
              "    <tr>\n",
              "      <th>3</th>\n",
              "      <td>63345.240046</td>\n",
              "      <td>7.188236</td>\n",
              "      <td>5.586729</td>\n",
              "      <td>3.26</td>\n",
              "      <td>34310.242831</td>\n",
              "      <td>1.260617e+06</td>\n",
              "    </tr>\n",
              "    <tr>\n",
              "      <th>4</th>\n",
              "      <td>59982.197226</td>\n",
              "      <td>5.040555</td>\n",
              "      <td>7.839388</td>\n",
              "      <td>4.23</td>\n",
              "      <td>26354.109472</td>\n",
              "      <td>6.309435e+05</td>\n",
              "    </tr>\n",
              "    <tr>\n",
              "      <th>...</th>\n",
              "      <td>...</td>\n",
              "      <td>...</td>\n",
              "      <td>...</td>\n",
              "      <td>...</td>\n",
              "      <td>...</td>\n",
              "      <td>...</td>\n",
              "    </tr>\n",
              "    <tr>\n",
              "      <th>4995</th>\n",
              "      <td>60567.944140</td>\n",
              "      <td>7.830362</td>\n",
              "      <td>6.137356</td>\n",
              "      <td>3.46</td>\n",
              "      <td>22837.361035</td>\n",
              "      <td>1.060194e+06</td>\n",
              "    </tr>\n",
              "    <tr>\n",
              "      <th>4996</th>\n",
              "      <td>78491.275435</td>\n",
              "      <td>6.999135</td>\n",
              "      <td>6.576763</td>\n",
              "      <td>4.02</td>\n",
              "      <td>25616.115489</td>\n",
              "      <td>1.482618e+06</td>\n",
              "    </tr>\n",
              "    <tr>\n",
              "      <th>4997</th>\n",
              "      <td>63390.686886</td>\n",
              "      <td>7.250591</td>\n",
              "      <td>4.805081</td>\n",
              "      <td>2.13</td>\n",
              "      <td>33266.145490</td>\n",
              "      <td>1.030730e+06</td>\n",
              "    </tr>\n",
              "    <tr>\n",
              "      <th>4998</th>\n",
              "      <td>68001.331235</td>\n",
              "      <td>5.534388</td>\n",
              "      <td>7.130144</td>\n",
              "      <td>5.44</td>\n",
              "      <td>42625.620156</td>\n",
              "      <td>1.198657e+06</td>\n",
              "    </tr>\n",
              "    <tr>\n",
              "      <th>4999</th>\n",
              "      <td>65510.581804</td>\n",
              "      <td>5.992305</td>\n",
              "      <td>6.792336</td>\n",
              "      <td>4.07</td>\n",
              "      <td>46501.283803</td>\n",
              "      <td>1.298950e+06</td>\n",
              "    </tr>\n",
              "  </tbody>\n",
              "</table>\n",
              "<p>4962 rows × 6 columns</p>\n",
              "</div>\n",
              "    <div class=\"colab-df-buttons\">\n",
              "\n",
              "  <div class=\"colab-df-container\">\n",
              "    <button class=\"colab-df-convert\" onclick=\"convertToInteractive('df-15908183-c3cc-4982-9ed2-c21a92821151')\"\n",
              "            title=\"Convert this dataframe to an interactive table.\"\n",
              "            style=\"display:none;\">\n",
              "\n",
              "  <svg xmlns=\"http://www.w3.org/2000/svg\" height=\"24px\" viewBox=\"0 -960 960 960\">\n",
              "    <path d=\"M120-120v-720h720v720H120Zm60-500h600v-160H180v160Zm220 220h160v-160H400v160Zm0 220h160v-160H400v160ZM180-400h160v-160H180v160Zm440 0h160v-160H620v160ZM180-180h160v-160H180v160Zm440 0h160v-160H620v160Z\"/>\n",
              "  </svg>\n",
              "    </button>\n",
              "\n",
              "  <style>\n",
              "    .colab-df-container {\n",
              "      display:flex;\n",
              "      gap: 12px;\n",
              "    }\n",
              "\n",
              "    .colab-df-convert {\n",
              "      background-color: #E8F0FE;\n",
              "      border: none;\n",
              "      border-radius: 50%;\n",
              "      cursor: pointer;\n",
              "      display: none;\n",
              "      fill: #1967D2;\n",
              "      height: 32px;\n",
              "      padding: 0 0 0 0;\n",
              "      width: 32px;\n",
              "    }\n",
              "\n",
              "    .colab-df-convert:hover {\n",
              "      background-color: #E2EBFA;\n",
              "      box-shadow: 0px 1px 2px rgba(60, 64, 67, 0.3), 0px 1px 3px 1px rgba(60, 64, 67, 0.15);\n",
              "      fill: #174EA6;\n",
              "    }\n",
              "\n",
              "    .colab-df-buttons div {\n",
              "      margin-bottom: 4px;\n",
              "    }\n",
              "\n",
              "    [theme=dark] .colab-df-convert {\n",
              "      background-color: #3B4455;\n",
              "      fill: #D2E3FC;\n",
              "    }\n",
              "\n",
              "    [theme=dark] .colab-df-convert:hover {\n",
              "      background-color: #434B5C;\n",
              "      box-shadow: 0px 1px 3px 1px rgba(0, 0, 0, 0.15);\n",
              "      filter: drop-shadow(0px 1px 2px rgba(0, 0, 0, 0.3));\n",
              "      fill: #FFFFFF;\n",
              "    }\n",
              "  </style>\n",
              "\n",
              "    <script>\n",
              "      const buttonEl =\n",
              "        document.querySelector('#df-15908183-c3cc-4982-9ed2-c21a92821151 button.colab-df-convert');\n",
              "      buttonEl.style.display =\n",
              "        google.colab.kernel.accessAllowed ? 'block' : 'none';\n",
              "\n",
              "      async function convertToInteractive(key) {\n",
              "        const element = document.querySelector('#df-15908183-c3cc-4982-9ed2-c21a92821151');\n",
              "        const dataTable =\n",
              "          await google.colab.kernel.invokeFunction('convertToInteractive',\n",
              "                                                    [key], {});\n",
              "        if (!dataTable) return;\n",
              "\n",
              "        const docLinkHtml = 'Like what you see? Visit the ' +\n",
              "          '<a target=\"_blank\" href=https://colab.research.google.com/notebooks/data_table.ipynb>data table notebook</a>'\n",
              "          + ' to learn more about interactive tables.';\n",
              "        element.innerHTML = '';\n",
              "        dataTable['output_type'] = 'display_data';\n",
              "        await google.colab.output.renderOutput(dataTable, element);\n",
              "        const docLink = document.createElement('div');\n",
              "        docLink.innerHTML = docLinkHtml;\n",
              "        element.appendChild(docLink);\n",
              "      }\n",
              "    </script>\n",
              "  </div>\n",
              "\n",
              "\n",
              "<div id=\"df-077dc087-898c-4b08-828d-ab7f58a0f9e1\">\n",
              "  <button class=\"colab-df-quickchart\" onclick=\"quickchart('df-077dc087-898c-4b08-828d-ab7f58a0f9e1')\"\n",
              "            title=\"Suggest charts\"\n",
              "            style=\"display:none;\">\n",
              "\n",
              "<svg xmlns=\"http://www.w3.org/2000/svg\" height=\"24px\"viewBox=\"0 0 24 24\"\n",
              "     width=\"24px\">\n",
              "    <g>\n",
              "        <path d=\"M19 3H5c-1.1 0-2 .9-2 2v14c0 1.1.9 2 2 2h14c1.1 0 2-.9 2-2V5c0-1.1-.9-2-2-2zM9 17H7v-7h2v7zm4 0h-2V7h2v10zm4 0h-2v-4h2v4z\"/>\n",
              "    </g>\n",
              "</svg>\n",
              "  </button>\n",
              "\n",
              "<style>\n",
              "  .colab-df-quickchart {\n",
              "      --bg-color: #E8F0FE;\n",
              "      --fill-color: #1967D2;\n",
              "      --hover-bg-color: #E2EBFA;\n",
              "      --hover-fill-color: #174EA6;\n",
              "      --disabled-fill-color: #AAA;\n",
              "      --disabled-bg-color: #DDD;\n",
              "  }\n",
              "\n",
              "  [theme=dark] .colab-df-quickchart {\n",
              "      --bg-color: #3B4455;\n",
              "      --fill-color: #D2E3FC;\n",
              "      --hover-bg-color: #434B5C;\n",
              "      --hover-fill-color: #FFFFFF;\n",
              "      --disabled-bg-color: #3B4455;\n",
              "      --disabled-fill-color: #666;\n",
              "  }\n",
              "\n",
              "  .colab-df-quickchart {\n",
              "    background-color: var(--bg-color);\n",
              "    border: none;\n",
              "    border-radius: 50%;\n",
              "    cursor: pointer;\n",
              "    display: none;\n",
              "    fill: var(--fill-color);\n",
              "    height: 32px;\n",
              "    padding: 0;\n",
              "    width: 32px;\n",
              "  }\n",
              "\n",
              "  .colab-df-quickchart:hover {\n",
              "    background-color: var(--hover-bg-color);\n",
              "    box-shadow: 0 1px 2px rgba(60, 64, 67, 0.3), 0 1px 3px 1px rgba(60, 64, 67, 0.15);\n",
              "    fill: var(--button-hover-fill-color);\n",
              "  }\n",
              "\n",
              "  .colab-df-quickchart-complete:disabled,\n",
              "  .colab-df-quickchart-complete:disabled:hover {\n",
              "    background-color: var(--disabled-bg-color);\n",
              "    fill: var(--disabled-fill-color);\n",
              "    box-shadow: none;\n",
              "  }\n",
              "\n",
              "  .colab-df-spinner {\n",
              "    border: 2px solid var(--fill-color);\n",
              "    border-color: transparent;\n",
              "    border-bottom-color: var(--fill-color);\n",
              "    animation:\n",
              "      spin 1s steps(1) infinite;\n",
              "  }\n",
              "\n",
              "  @keyframes spin {\n",
              "    0% {\n",
              "      border-color: transparent;\n",
              "      border-bottom-color: var(--fill-color);\n",
              "      border-left-color: var(--fill-color);\n",
              "    }\n",
              "    20% {\n",
              "      border-color: transparent;\n",
              "      border-left-color: var(--fill-color);\n",
              "      border-top-color: var(--fill-color);\n",
              "    }\n",
              "    30% {\n",
              "      border-color: transparent;\n",
              "      border-left-color: var(--fill-color);\n",
              "      border-top-color: var(--fill-color);\n",
              "      border-right-color: var(--fill-color);\n",
              "    }\n",
              "    40% {\n",
              "      border-color: transparent;\n",
              "      border-right-color: var(--fill-color);\n",
              "      border-top-color: var(--fill-color);\n",
              "    }\n",
              "    60% {\n",
              "      border-color: transparent;\n",
              "      border-right-color: var(--fill-color);\n",
              "    }\n",
              "    80% {\n",
              "      border-color: transparent;\n",
              "      border-right-color: var(--fill-color);\n",
              "      border-bottom-color: var(--fill-color);\n",
              "    }\n",
              "    90% {\n",
              "      border-color: transparent;\n",
              "      border-bottom-color: var(--fill-color);\n",
              "    }\n",
              "  }\n",
              "</style>\n",
              "\n",
              "  <script>\n",
              "    async function quickchart(key) {\n",
              "      const quickchartButtonEl =\n",
              "        document.querySelector('#' + key + ' button');\n",
              "      quickchartButtonEl.disabled = true;  // To prevent multiple clicks.\n",
              "      quickchartButtonEl.classList.add('colab-df-spinner');\n",
              "      try {\n",
              "        const charts = await google.colab.kernel.invokeFunction(\n",
              "            'suggestCharts', [key], {});\n",
              "      } catch (error) {\n",
              "        console.error('Error during call to suggestCharts:', error);\n",
              "      }\n",
              "      quickchartButtonEl.classList.remove('colab-df-spinner');\n",
              "      quickchartButtonEl.classList.add('colab-df-quickchart-complete');\n",
              "    }\n",
              "    (() => {\n",
              "      let quickchartButtonEl =\n",
              "        document.querySelector('#df-077dc087-898c-4b08-828d-ab7f58a0f9e1 button');\n",
              "      quickchartButtonEl.style.display =\n",
              "        google.colab.kernel.accessAllowed ? 'block' : 'none';\n",
              "    })();\n",
              "  </script>\n",
              "</div>\n",
              "    </div>\n",
              "  </div>\n"
            ],
            "text/plain": [
              "      Avg. Area Income  Avg. Area House Age  Avg. Area Number of Rooms  \\\n",
              "0         79545.458574             5.682861                   7.009188   \n",
              "1         79248.642455             6.002900                   6.730821   \n",
              "2         61287.067179             5.865890                   8.512727   \n",
              "3         63345.240046             7.188236                   5.586729   \n",
              "4         59982.197226             5.040555                   7.839388   \n",
              "...                ...                  ...                        ...   \n",
              "4995      60567.944140             7.830362                   6.137356   \n",
              "4996      78491.275435             6.999135                   6.576763   \n",
              "4997      63390.686886             7.250591                   4.805081   \n",
              "4998      68001.331235             5.534388                   7.130144   \n",
              "4999      65510.581804             5.992305                   6.792336   \n",
              "\n",
              "      Avg. Area Number of Bedrooms  Area Population         Price  \n",
              "0                             4.09     23086.800503  1.059034e+06  \n",
              "1                             3.09     40173.072174  1.505891e+06  \n",
              "2                             5.13     36882.159400  1.058988e+06  \n",
              "3                             3.26     34310.242831  1.260617e+06  \n",
              "4                             4.23     26354.109472  6.309435e+05  \n",
              "...                            ...              ...           ...  \n",
              "4995                          3.46     22837.361035  1.060194e+06  \n",
              "4996                          4.02     25616.115489  1.482618e+06  \n",
              "4997                          2.13     33266.145490  1.030730e+06  \n",
              "4998                          5.44     42625.620156  1.198657e+06  \n",
              "4999                          4.07     46501.283803  1.298950e+06  \n",
              "\n",
              "[4962 rows x 6 columns]"
            ]
          },
          "execution_count": 22,
          "metadata": {},
          "output_type": "execute_result"
        }
      ],
      "source": [
        "numeric_data"
      ]
    },
    {
      "cell_type": "code",
      "execution_count": null,
      "id": "f25f4b81",
      "metadata": {
        "id": "f25f4b81"
      },
      "outputs": [],
      "source": []
    },
    {
      "cell_type": "code",
      "execution_count": null,
      "id": "3871d309",
      "metadata": {
        "id": "3871d309"
      },
      "outputs": [],
      "source": [
        "numeric_data_x=numeric_data[numeric_data.columns[:-1]]#Independent features 5\n",
        "numeric_data_y=numeric_data[numeric_data.columns[-1]]#Dependent feature"
      ]
    },
    {
      "cell_type": "code",
      "execution_count": null,
      "id": "f0831ddf",
      "metadata": {
        "colab": {
          "base_uri": "https://localhost:8080/"
        },
        "id": "f0831ddf",
        "outputId": "9a58770f-6abd-4e66-8460-077bb7ee80ba"
      },
      "outputs": [
        {
          "name": "stdout",
          "output_type": "stream",
          "text": [
            "      Avg. Area Income  Avg. Area House Age  Avg. Area Number of Rooms  \\\n",
            "0         79545.458574             5.682861                   7.009188   \n",
            "1         79248.642455             6.002900                   6.730821   \n",
            "2         61287.067179             5.865890                   8.512727   \n",
            "3         63345.240046             7.188236                   5.586729   \n",
            "4         59982.197226             5.040555                   7.839388   \n",
            "...                ...                  ...                        ...   \n",
            "4995      60567.944140             7.830362                   6.137356   \n",
            "4996      78491.275435             6.999135                   6.576763   \n",
            "4997      63390.686886             7.250591                   4.805081   \n",
            "4998      68001.331235             5.534388                   7.130144   \n",
            "4999      65510.581804             5.992305                   6.792336   \n",
            "\n",
            "      Avg. Area Number of Bedrooms  Area Population  \n",
            "0                             4.09     23086.800503  \n",
            "1                             3.09     40173.072174  \n",
            "2                             5.13     36882.159400  \n",
            "3                             3.26     34310.242831  \n",
            "4                             4.23     26354.109472  \n",
            "...                            ...              ...  \n",
            "4995                          3.46     22837.361035  \n",
            "4996                          4.02     25616.115489  \n",
            "4997                          2.13     33266.145490  \n",
            "4998                          5.44     42625.620156  \n",
            "4999                          4.07     46501.283803  \n",
            "\n",
            "[4962 rows x 5 columns]\n",
            "0       1.059034e+06\n",
            "1       1.505891e+06\n",
            "2       1.058988e+06\n",
            "3       1.260617e+06\n",
            "4       6.309435e+05\n",
            "            ...     \n",
            "4995    1.060194e+06\n",
            "4996    1.482618e+06\n",
            "4997    1.030730e+06\n",
            "4998    1.198657e+06\n",
            "4999    1.298950e+06\n",
            "Name: Price, Length: 4962, dtype: float64\n"
          ]
        }
      ],
      "source": [
        "print(numeric_data_x)\n",
        "print(numeric_data_y)"
      ]
    },
    {
      "cell_type": "code",
      "execution_count": null,
      "id": "0fb260f9",
      "metadata": {
        "id": "0fb260f9"
      },
      "outputs": [],
      "source": [
        "# Dividing into training data and  test data\n",
        "from sklearn.model_selection import train_test_split\n",
        "X_train, X_test, y_train, y_test = train_test_split(numeric_data_x, numeric_data_y, test_size=0.2, random_state=42)"
      ]
    },
    {
      "cell_type": "code",
      "execution_count": null,
      "id": "005ecf36",
      "metadata": {
        "colab": {
          "base_uri": "https://localhost:8080/"
        },
        "id": "005ecf36",
        "outputId": "393e394e-2891-4cb2-c9bd-f1a6a0a0c2cc"
      },
      "outputs": [
        {
          "data": {
            "text/plain": [
              "(3969, 5)"
            ]
          },
          "execution_count": 26,
          "metadata": {},
          "output_type": "execute_result"
        }
      ],
      "source": [
        "X_train.shape"
      ]
    },
    {
      "cell_type": "code",
      "execution_count": null,
      "id": "3ea56bd0",
      "metadata": {
        "colab": {
          "base_uri": "https://localhost:8080/"
        },
        "id": "3ea56bd0",
        "outputId": "18ccb268-86c8-4fa7-b048-e1659469b6fb"
      },
      "outputs": [
        {
          "data": {
            "text/plain": [
              "(3969,)"
            ]
          },
          "execution_count": 27,
          "metadata": {},
          "output_type": "execute_result"
        }
      ],
      "source": [
        "y_train.shape"
      ]
    },
    {
      "cell_type": "code",
      "execution_count": null,
      "id": "e6ec81ae",
      "metadata": {
        "colab": {
          "base_uri": "https://localhost:8080/"
        },
        "id": "e6ec81ae",
        "outputId": "9441d775-144d-4145-cddd-afb8f7fb186d"
      },
      "outputs": [
        {
          "data": {
            "text/plain": [
              "(993, 5)"
            ]
          },
          "execution_count": 28,
          "metadata": {},
          "output_type": "execute_result"
        }
      ],
      "source": [
        "X_test.shape"
      ]
    },
    {
      "cell_type": "code",
      "execution_count": null,
      "id": "9669556d",
      "metadata": {
        "colab": {
          "base_uri": "https://localhost:8080/"
        },
        "id": "9669556d",
        "outputId": "2d8f4ec8-87b3-436a-8178-9c5adfed1fab"
      },
      "outputs": [
        {
          "data": {
            "text/plain": [
              "(993,)"
            ]
          },
          "execution_count": 29,
          "metadata": {},
          "output_type": "execute_result"
        }
      ],
      "source": [
        "y_test.shape"
      ]
    },
    {
      "cell_type": "code",
      "execution_count": null,
      "id": "666a47a0",
      "metadata": {
        "id": "666a47a0"
      },
      "outputs": [],
      "source": [
        "##standarization\n",
        "from sklearn.preprocessing import StandardScaler\n",
        "scaler = StandardScaler()\n",
        "\n",
        "# Fit and transform the data using StandardScaler\n",
        "scaled_data_X_train = scaler.fit_transform(X_train)\n",
        "scaled_data_X_test = scaler.transform(X_test)\n"
      ]
    },
    {
      "cell_type": "code",
      "execution_count": null,
      "id": "742d09d2",
      "metadata": {
        "colab": {
          "base_uri": "https://localhost:8080/"
        },
        "id": "742d09d2",
        "outputId": "6389c3e9-8357-421f-b418-5b9a7c217884"
      },
      "outputs": [
        {
          "data": {
            "text/plain": [
              "array([[ 0.99407469, -1.78107967, -0.72642802, -1.58498002, -0.17072704],\n",
              "       [ 1.17567694,  0.72866772,  0.93572122,  0.34863992, -0.36588536],\n",
              "       [-0.86331843,  1.50589806,  0.50867221,  0.20301164, -0.1210301 ],\n",
              "       ...,\n",
              "       [-0.10969474,  0.34362484, -1.49567592, -1.26136162,  0.34242086],\n",
              "       [-0.47741521, -0.45659086, -0.36208699, -1.52025634, -0.35520656],\n",
              "       [ 0.62949308,  1.32627458, -0.38741122, -0.54940114, -0.41606039]])"
            ]
          },
          "execution_count": 31,
          "metadata": {},
          "output_type": "execute_result"
        }
      ],
      "source": [
        "scaled_data_X_train"
      ]
    },
    {
      "cell_type": "code",
      "execution_count": null,
      "id": "e672ee9b",
      "metadata": {
        "colab": {
          "base_uri": "https://localhost:8080/"
        },
        "id": "e672ee9b",
        "outputId": "7c5b51af-0355-4e09-e0e6-ffd9dcbe1a27"
      },
      "outputs": [
        {
          "data": {
            "text/plain": [
              "array([[ 0.20090858, -0.57524612, -1.43947533,  0.06547382, -0.04784613],\n",
              "       [-0.68488787, -0.68868635, -0.74739004,  0.20301164,  0.69595289],\n",
              "       [ 1.55497893,  0.57418593,  0.63951912,  1.69974674,  0.20832362],\n",
              "       ...,\n",
              "       [ 1.67494582, -1.10289554, -0.06454767, -1.39889944,  0.88412262],\n",
              "       [-0.58024323, -0.49458255, -1.28864317,  0.20301164,  1.60684346],\n",
              "       [ 0.89296124,  0.46222739,  0.20692757,  1.19813822, -0.66118743]])"
            ]
          },
          "execution_count": 32,
          "metadata": {},
          "output_type": "execute_result"
        }
      ],
      "source": [
        "scaled_data_X_test"
      ]
    },
    {
      "cell_type": "code",
      "execution_count": null,
      "id": "59f49b42",
      "metadata": {
        "colab": {
          "base_uri": "https://localhost:8080/",
          "height": 74
        },
        "id": "59f49b42",
        "outputId": "0cb0e6d0-1733-40c0-a14a-d9b13fddb8dd"
      },
      "outputs": [
        {
          "data": {
            "text/html": [
              "<style>#sk-container-id-1 {color: black;background-color: white;}#sk-container-id-1 pre{padding: 0;}#sk-container-id-1 div.sk-toggleable {background-color: white;}#sk-container-id-1 label.sk-toggleable__label {cursor: pointer;display: block;width: 100%;margin-bottom: 0;padding: 0.3em;box-sizing: border-box;text-align: center;}#sk-container-id-1 label.sk-toggleable__label-arrow:before {content: \"▸\";float: left;margin-right: 0.25em;color: #696969;}#sk-container-id-1 label.sk-toggleable__label-arrow:hover:before {color: black;}#sk-container-id-1 div.sk-estimator:hover label.sk-toggleable__label-arrow:before {color: black;}#sk-container-id-1 div.sk-toggleable__content {max-height: 0;max-width: 0;overflow: hidden;text-align: left;background-color: #f0f8ff;}#sk-container-id-1 div.sk-toggleable__content pre {margin: 0.2em;color: black;border-radius: 0.25em;background-color: #f0f8ff;}#sk-container-id-1 input.sk-toggleable__control:checked~div.sk-toggleable__content {max-height: 200px;max-width: 100%;overflow: auto;}#sk-container-id-1 input.sk-toggleable__control:checked~label.sk-toggleable__label-arrow:before {content: \"▾\";}#sk-container-id-1 div.sk-estimator input.sk-toggleable__control:checked~label.sk-toggleable__label {background-color: #d4ebff;}#sk-container-id-1 div.sk-label input.sk-toggleable__control:checked~label.sk-toggleable__label {background-color: #d4ebff;}#sk-container-id-1 input.sk-hidden--visually {border: 0;clip: rect(1px 1px 1px 1px);clip: rect(1px, 1px, 1px, 1px);height: 1px;margin: -1px;overflow: hidden;padding: 0;position: absolute;width: 1px;}#sk-container-id-1 div.sk-estimator {font-family: monospace;background-color: #f0f8ff;border: 1px dotted black;border-radius: 0.25em;box-sizing: border-box;margin-bottom: 0.5em;}#sk-container-id-1 div.sk-estimator:hover {background-color: #d4ebff;}#sk-container-id-1 div.sk-parallel-item::after {content: \"\";width: 100%;border-bottom: 1px solid gray;flex-grow: 1;}#sk-container-id-1 div.sk-label:hover label.sk-toggleable__label {background-color: #d4ebff;}#sk-container-id-1 div.sk-serial::before {content: \"\";position: absolute;border-left: 1px solid gray;box-sizing: border-box;top: 0;bottom: 0;left: 50%;z-index: 0;}#sk-container-id-1 div.sk-serial {display: flex;flex-direction: column;align-items: center;background-color: white;padding-right: 0.2em;padding-left: 0.2em;position: relative;}#sk-container-id-1 div.sk-item {position: relative;z-index: 1;}#sk-container-id-1 div.sk-parallel {display: flex;align-items: stretch;justify-content: center;background-color: white;position: relative;}#sk-container-id-1 div.sk-item::before, #sk-container-id-1 div.sk-parallel-item::before {content: \"\";position: absolute;border-left: 1px solid gray;box-sizing: border-box;top: 0;bottom: 0;left: 50%;z-index: -1;}#sk-container-id-1 div.sk-parallel-item {display: flex;flex-direction: column;z-index: 1;position: relative;background-color: white;}#sk-container-id-1 div.sk-parallel-item:first-child::after {align-self: flex-end;width: 50%;}#sk-container-id-1 div.sk-parallel-item:last-child::after {align-self: flex-start;width: 50%;}#sk-container-id-1 div.sk-parallel-item:only-child::after {width: 0;}#sk-container-id-1 div.sk-dashed-wrapped {border: 1px dashed gray;margin: 0 0.4em 0.5em 0.4em;box-sizing: border-box;padding-bottom: 0.4em;background-color: white;}#sk-container-id-1 div.sk-label label {font-family: monospace;font-weight: bold;display: inline-block;line-height: 1.2em;}#sk-container-id-1 div.sk-label-container {text-align: center;}#sk-container-id-1 div.sk-container {/* jupyter's `normalize.less` sets `[hidden] { display: none; }` but bootstrap.min.css set `[hidden] { display: none !important; }` so we also need the `!important` here to be able to override the default hidden behavior on the sphinx rendered scikit-learn.org. See: https://github.com/scikit-learn/scikit-learn/issues/21755 */display: inline-block !important;position: relative;}#sk-container-id-1 div.sk-text-repr-fallback {display: none;}</style><div id=\"sk-container-id-1\" class=\"sk-top-container\"><div class=\"sk-text-repr-fallback\"><pre>LinearRegression()</pre><b>In a Jupyter environment, please rerun this cell to show the HTML representation or trust the notebook. <br />On GitHub, the HTML representation is unable to render, please try loading this page with nbviewer.org.</b></div><div class=\"sk-container\" hidden><div class=\"sk-item\"><div class=\"sk-estimator sk-toggleable\"><input class=\"sk-toggleable__control sk-hidden--visually\" id=\"sk-estimator-id-1\" type=\"checkbox\" checked><label for=\"sk-estimator-id-1\" class=\"sk-toggleable__label sk-toggleable__label-arrow\">LinearRegression</label><div class=\"sk-toggleable__content\"><pre>LinearRegression()</pre></div></div></div></div></div>"
            ],
            "text/plain": [
              "LinearRegression()"
            ]
          },
          "execution_count": 33,
          "metadata": {},
          "output_type": "execute_result"
        }
      ],
      "source": [
        "##Model training by Linear resgression\n",
        "from sklearn.linear_model import LinearRegression\n",
        "regression=LinearRegression()\n",
        "regression.fit(scaled_data_X_train,y_train)"
      ]
    },
    {
      "cell_type": "code",
      "execution_count": null,
      "id": "021b03f4",
      "metadata": {
        "colab": {
          "base_uri": "https://localhost:8080/"
        },
        "id": "021b03f4",
        "outputId": "788fcdbc-7ad0-4221-f267-1f8835f7e559"
      },
      "outputs": [
        {
          "data": {
            "text/plain": [
              "array([230017.37091453, 165380.65379981, 121021.29090129,   1896.37490529,\n",
              "       147139.39678602])"
            ]
          },
          "execution_count": 34,
          "metadata": {},
          "output_type": "execute_result"
        }
      ],
      "source": [
        "#printing coef\n",
        "regression.coef_"
      ]
    },
    {
      "cell_type": "code",
      "execution_count": null,
      "id": "fe1f1050",
      "metadata": {
        "colab": {
          "base_uri": "https://localhost:8080/"
        },
        "id": "fe1f1050",
        "outputId": "352fa1d9-942c-4e0c-df35-20d746d5142f"
      },
      "outputs": [
        {
          "data": {
            "text/plain": [
              "1229212.6868262147"
            ]
          },
          "execution_count": 35,
          "metadata": {},
          "output_type": "execute_result"
        }
      ],
      "source": [
        "regression.intercept_"
      ]
    },
    {
      "cell_type": "code",
      "execution_count": null,
      "id": "e18940b3",
      "metadata": {
        "id": "e18940b3"
      },
      "outputs": [],
      "source": [
        "###reg_prediction\n",
        "reg_predict=regression.predict(scaled_data_X_test)\n"
      ]
    },
    {
      "cell_type": "code",
      "execution_count": null,
      "id": "b8d11248",
      "metadata": {
        "colab": {
          "base_uri": "https://localhost:8080/"
        },
        "id": "b8d11248",
        "outputId": "3b3b4ea6-1835-4922-90ba-4c0ac19ecb70"
      },
      "outputs": [
        {
          "data": {
            "text/plain": [
              "array([ 999167.51928226,  970118.14835854, 1793115.49458645,\n",
              "       1516727.0171242 , 1531578.92908036, 1467740.95813385,\n",
              "        876950.57843262, 1138705.72861908, 1216576.61060667,\n",
              "       1315792.96354813,  838747.15375466,  766220.88516462,\n",
              "        589880.579653  , 1607385.40840887, 1540630.30355787,\n",
              "       1677068.21334343, 1589293.72044038, 1645600.56172586,\n",
              "       1513899.96235669, 1093063.7349279 , 1258217.13871621,\n",
              "        919469.31091913, 1372065.74992396, 1496141.00401783,\n",
              "       2184191.72387612,  785400.72022592,  355416.90233028,\n",
              "        769395.80876667,  471804.37592729,  841555.65100179,\n",
              "       1296030.7836115 ,  980873.2939239 , 1354151.91172463,\n",
              "        716385.2309335 , 1216759.11833313,  993585.85968201,\n",
              "       1813035.8593865 , 1125185.99062857, 1484175.08758058,\n",
              "       1581328.62588879, 1537824.06985665, 1246838.61383365,\n",
              "       1503118.32731624, 1374350.16988173, 1186312.28541324,\n",
              "       1453897.58900712, 1325387.28080467, 1341018.03334487,\n",
              "       1738891.25458958, 1461629.93505713, 1186232.77586412,\n",
              "        897726.02915314, 1190058.39652995, 1324483.95562706,\n",
              "       1406326.45651331, 1433943.77014704, 1117104.42126615,\n",
              "       2004343.04826402, 1241602.23427871,  510896.16749411,\n",
              "       1303722.34570524, 1536679.23499374, 1556010.07120657,\n",
              "       1104318.15163331, 1533640.55053409, 1510574.47707637,\n",
              "       1298490.98907607, 1379479.41662848, 1762087.90335526,\n",
              "       1172402.19717821, 1400374.22372338, 1504251.57693719,\n",
              "       1345432.3406846 , 1152931.23994838, 1768158.28285483,\n",
              "       1377084.23559994, 1582733.23036125,  640178.20727508,\n",
              "       1065231.64587396, 1398187.43926745,  774756.61651713,\n",
              "        569933.15985463, 1080230.76172843, 1350429.87899502,\n",
              "       1115827.90196609, 1790765.51982795,  781418.10870773,\n",
              "       1300051.61194707, 1693214.06782292,  785932.26641191,\n",
              "        776811.66426539, 1145722.11660625, 1533856.11383219,\n",
              "       1377554.45424916, 1121295.91281971, 1408865.94759584,\n",
              "        919341.82246779, 1148023.85787345, 1099288.60660161,\n",
              "        765218.04829814,  682465.99406293, 1750283.29545369,\n",
              "       1611137.47162487,  843719.28403536, 1141144.10643399,\n",
              "       1196470.06156176, 1366962.25019718, 1033120.58536614,\n",
              "       1059375.38973165, 1788584.77815157,  997737.46242677,\n",
              "       1356593.86421633, 1084772.79376458, 1714289.19499508,\n",
              "        546897.59565432,  995094.12658154, 1282830.19335037,\n",
              "       1027994.74873753, 1006326.39545595, 1074612.91500543,\n",
              "       1674344.1957492 , 1230925.82829908, 1195641.60803758,\n",
              "       1657117.69143754, 1463202.57059658, 1207603.47818613,\n",
              "       1339311.0216669 , 1316482.23068706, 1227930.35974193,\n",
              "       1075078.85523529, 1477554.18436658,  913533.60563957,\n",
              "       1394220.64135675, 1431438.62912559, 1068220.75575136,\n",
              "       1235590.79252161, 1370281.60657664, 2150807.09007263,\n",
              "       1014281.20104907, 1227020.54259558, 1627135.33452829,\n",
              "       1805234.40796508, 1299718.38167318, 1177856.82769912,\n",
              "        739322.47570778, 1596906.74313717, 1131870.56962689,\n",
              "       1137092.10551518, 1100698.58700101, 1315137.72625975,\n",
              "       1327203.78755778, 1770925.66969661, 1269794.56463598,\n",
              "       1365741.39697584, 1433065.61843565, 1615530.40614612,\n",
              "       1228402.82628315, 1399629.67605963,  986881.63247083,\n",
              "       1746271.79907367,  483055.75938337, 1194446.6006211 ,\n",
              "       1795194.04450331, 1473259.83632881, 1169231.25863514,\n",
              "       1660477.62366518, 1447529.65749865, 1012219.63741154,\n",
              "       1208596.4999333 , 1458544.28322457, 1232388.43792643,\n",
              "        609028.77960495, 1049532.89795725, 2092516.51880242,\n",
              "       1033563.10990599, 1282207.92277624, 1317380.22800513,\n",
              "       1253713.50405257, 1501674.53401605, 1108850.54221498,\n",
              "       1281235.13478213,  843078.59530669, 1477751.71013524,\n",
              "       1137352.24942222,  868058.47438358,  949381.29372436,\n",
              "        701662.20700246,  911328.16352999, 1331975.5674911 ,\n",
              "       1081531.74836951, 1249981.81612255, 1324899.6156679 ,\n",
              "       1377592.97671927, 1263349.51085351, 1238817.92881308,\n",
              "       1306070.37396313, 1625573.65359774, 1513493.6421046 ,\n",
              "       1563593.72158046, 1115196.43354203, 1103935.83361705,\n",
              "       1660458.30010081, 1003164.75583779, 1002893.61589082,\n",
              "       1273495.81218915,  953362.30452474,  905373.58645954,\n",
              "       1378807.59200481, 1222281.7267185 ,  491952.87627413,\n",
              "       1116347.16655075, 1580401.17696471,  483541.95397136,\n",
              "       1538244.91320748, 1493391.11498495,  903623.26690468,\n",
              "       1630699.41277944, 1785397.0028622 , 1164102.99166729,\n",
              "       1339161.02373672, 1456128.03165986, 1028351.858022  ,\n",
              "       1653132.60023881, 1359299.64190352,  976567.26892395,\n",
              "       1489309.88815429, 1362525.24914548, 1221076.16333405,\n",
              "       1189897.30116931, 1161751.6508006 , 1203838.52007226,\n",
              "       1777860.89151621, 1624940.95135424,  844839.49038257,\n",
              "        842481.30955359,  951333.39916352, 1338444.79091248,\n",
              "        832494.72454345, 1062070.15284691, 1254533.77076544,\n",
              "       1055985.40435904, 1494757.60967327, 1233273.25935784,\n",
              "       1420829.78415275, 1003086.11941511, 1040286.45715527,\n",
              "       1828794.66340542, 1756485.19060484,  993620.93294805,\n",
              "       1076689.57252995, 1012241.44548897,  490408.89970186,\n",
              "       1044702.86214561, 1352966.22614206, 1385016.35410747,\n",
              "       1184922.77853369, 1486900.78686807,  800670.62724797,\n",
              "       1712493.76814745, 1767238.26775921,  850499.81538804,\n",
              "       1434187.31420423, 1181037.05382421,  905127.9944757 ,\n",
              "        694902.62265614, 1045980.70808516, 1280603.48325862,\n",
              "       1185914.11524442, 1241684.95311318,  421083.04253219,\n",
              "       1604360.17555419, 1489142.56892511, 1257781.18346422,\n",
              "       1063993.35039356,  609738.60930575, 1149310.67107355,\n",
              "       1052481.22929827, 1347621.68806373, 1507044.88333903,\n",
              "        954407.62903144, 1261386.36950784, 1206631.46059885,\n",
              "       1905892.8243066 , 1540228.95822564, 1431277.91581441,\n",
              "        697951.53533848, 1196231.24094566,  981734.25688543,\n",
              "       1357607.20927026, 1222417.60831076, 1007441.0279981 ,\n",
              "        886278.01566249, 1357036.37566034, 1197461.51138746,\n",
              "       1565595.17995555, 1731378.97165949, 1790907.8627843 ,\n",
              "       1347951.89233261,  732189.53434838, 1454937.20492303,\n",
              "        570781.17603783, 1305762.65264587,  907159.6930615 ,\n",
              "       1167779.64524561,  844792.24592887, 1457463.85407202,\n",
              "        504982.57368839, 1127664.28227152,  987636.0773041 ,\n",
              "       1285570.60792696, 1751016.38700486, 1354401.55510006,\n",
              "       1527920.67187245, 1244746.46194034, 1030981.94643207,\n",
              "        762254.19611713, 1499713.281743  , 1820312.55517745,\n",
              "       1557271.40557233, 1478718.31983862,  962701.72019645,\n",
              "       1764017.02254162,  919308.62693634, 1438590.87788597,\n",
              "        382424.8891795 , 1194891.95322918, 1208535.81926513,\n",
              "        968017.40105255, 1498442.40171579, 1239201.29934977,\n",
              "       1427671.74236816, 1567400.6574532 , 1505655.05891463,\n",
              "        329254.88740038, 1042510.21405561,  510777.40400773,\n",
              "       1856113.02934648, 1643152.72185074, 1090246.93386925,\n",
              "        872261.6870017 , 2144387.22795344,  630902.84305347,\n",
              "       1687710.52024548, 1530661.55691251, 1255672.15244529,\n",
              "        927369.8473046 , 1310407.31716698, 1615498.06925325,\n",
              "       1414796.57531125,  970549.15721218, 1580687.22002225,\n",
              "       1462001.24927969, 2078268.28877957, 1407745.18027107,\n",
              "       1260230.46095655, 1325695.56691469, 1155726.78846761,\n",
              "        368676.12982444, 2170825.65274519, 1112012.88309028,\n",
              "        863198.43005343, 1112703.46282202,  921567.45751416,\n",
              "       1261824.08001643, 1308064.2472273 , 2017412.75846602,\n",
              "        680175.46760511,  745732.93129764, 1819802.5275049 ,\n",
              "        941041.34618074, 1043810.07970499, 1729571.69883364,\n",
              "        301909.05683038, 1433816.4290542 , 1354229.50741337,\n",
              "       1772648.59734763, 1669572.79456527, 1542065.90124608,\n",
              "       1387704.73757587, 1197290.12353862,  674696.9856327 ,\n",
              "       1002242.28824926,  995438.34990887, 1546699.68657594,\n",
              "       1373091.24256572,  898304.36694091, 1008313.96262279,\n",
              "        799592.36775544,  917372.41123986, 1440754.94178486,\n",
              "       1729662.95300465, 1214689.22891594, 1310601.86971794,\n",
              "       1095956.18597539, 1770701.73308366, 1472716.89300988,\n",
              "       1149795.57315802,  466754.21529928, 1229024.73696271,\n",
              "       1550004.91848577, 1426713.83915172,  934861.81832039,\n",
              "       1360462.46202716,  618553.97205912, 1335492.346541  ,\n",
              "       1386023.27388663,  766116.21129171, 1397728.84699068,\n",
              "       1440229.53242295, 1480147.12563918, 1117628.54962376,\n",
              "       1490222.87418797,  720493.48728891, 1562819.24629837,\n",
              "       1057654.58561577, 1421863.40240902, 1487069.27516418,\n",
              "       1857749.53169685, 1414463.96441735, 1372523.39145519,\n",
              "       1738184.91838654, 1546604.59196272, 1505467.54258858,\n",
              "       1348854.4412483 , 1309733.57756418, 1151926.85551611,\n",
              "       1120464.6008402 , 1293872.04493179, 1417358.17390417,\n",
              "       1049668.04305082,  927492.61420609, 1284879.61486078,\n",
              "       1136481.46643472,  695719.3933875 , 1015691.7571985 ,\n",
              "       1612755.03482992, 1422619.19012532, 1336409.35885864,\n",
              "       1119195.68683591, 1628283.59592074, 1260537.1741903 ,\n",
              "        999212.54756993,  653554.72891016, 1545643.18911013,\n",
              "       1204230.84099673, 1286115.84615845,  987515.83499902,\n",
              "       1324562.3584728 , 1865527.74258972,  885689.19996817,\n",
              "       1597768.72155161,  690525.11027822, 1213741.95281838,\n",
              "       1650740.77448841, 1078191.45072657, 1194423.05487222,\n",
              "       1215892.41047256,  933181.35666507,  635215.24083142,\n",
              "        588784.19231013, 1214457.99053557, 1502128.08956297,\n",
              "       1954042.24659484, 1125901.70521926, 1292346.3820373 ,\n",
              "       1529567.69478705, 1227245.97772947,  471572.8917788 ,\n",
              "       1486717.74059363, 1462709.8456319 , 2034204.93572788,\n",
              "        757494.90880341, 1079628.21631448, 1126607.90950926,\n",
              "       1226734.91005733, 1475015.52824831,  431541.18617382,\n",
              "       1409162.55939527,  876021.00378287,  330091.6993266 ,\n",
              "        934711.71058043, 1538398.34441307, 1207190.4495697 ,\n",
              "       1522368.2090123 , 1040320.57994248,  860475.70302227,\n",
              "        807789.67317312, 1333524.23436757, 1412234.33480096,\n",
              "       1619617.10842707,  612423.88338142, 1281077.38663722,\n",
              "       1400255.4409711 , 1475780.57524909, 1515434.78551207,\n",
              "       1089276.78947843, 1220028.50323337, 1780703.72090251,\n",
              "       1430058.03593356, 1501454.0707798 ,  568656.51562039,\n",
              "       1631966.95399922, 1074332.71161253, 1149485.99133656,\n",
              "        757303.67300657, 1781109.90042844, 1397849.18252112,\n",
              "       1150302.79886765, 1337211.71731259, 1260172.45626552,\n",
              "       1075187.8845443 , 1442784.51371221,  828336.2502575 ,\n",
              "        986485.62889207, 1202385.46933387,  901314.77019742,\n",
              "        683075.73259118,  559054.69567106,  729404.01627281,\n",
              "       1217855.52862054, 1546493.77707747,  990486.54544666,\n",
              "       1320955.71859508, 1287578.65821457, 1665695.63024395,\n",
              "       1872543.23437968, 1146296.49425817, 1219687.52411732,\n",
              "        725358.47738099, 1750540.80621207, 1323914.37601515,\n",
              "       1475474.70119283, 1398854.03312552, 1186847.35671317,\n",
              "       1155518.1043675 , 1508525.44362395, 1175240.35999187,\n",
              "       1366915.20423549, 1681963.22044147,  799731.7097782 ,\n",
              "        945758.19326899, 1411175.98772997,  772321.50989304,\n",
              "        900107.22473658, 1050114.68088237, 1081901.3474884 ,\n",
              "       1504967.53186182, 1319463.46269347, 1227879.60763408,\n",
              "        710501.61346539, 1395337.54682416, 1264509.58864386,\n",
              "        440502.20799182, 1017199.72267372, 1442790.42648999,\n",
              "       1203589.11868424, 1595792.01711742,  857442.71082664,\n",
              "       1588685.12890809,  825892.02502718, 1305706.96875713,\n",
              "       1309711.33486234, 1230661.3564736 , 1097095.894448  ,\n",
              "       1423688.29917289,  950921.19557316,  871257.91944362,\n",
              "       1063459.53966227,  384912.03930617, 1221626.12991686,\n",
              "       1295145.19539467,  600878.56113422, 1281681.58701219,\n",
              "       1174087.9250567 , 1543113.82794235, 1373826.64810975,\n",
              "       1261829.00422593, 1639631.38915524,  929037.97424709,\n",
              "       1503052.95259085, 1473038.84714103, 1641468.38533482,\n",
              "       1387439.66844615, 1410473.31128172,  816056.73721908,\n",
              "        487066.63897394, 1341179.20069887, 1349754.44947247,\n",
              "       1447399.16194487, 1218179.88676271, 1672120.65411851,\n",
              "        922314.46661208, 1155464.5332419 , 1233013.35692232,\n",
              "       1186463.47336319, 1328805.7383756 , 1272345.82960957,\n",
              "       1119365.1497345 ,  870429.98192541, 1089686.34695501,\n",
              "       1331657.71387048, 1705723.53900367,  858819.4286484 ,\n",
              "        658069.04697526, 1291912.16737236,  999610.33846215,\n",
              "       2010996.53405216, 1707656.027411  , 1770781.04104656,\n",
              "       1848140.5997289 , 1513044.9476471 , 1732074.73881074,\n",
              "       1451528.88651831, 1568686.00735391, 1185706.34736335,\n",
              "       1698778.23708806, 1746182.02393468, 1544248.76576118,\n",
              "       1314208.06547435, 1018908.28511341, 1816979.84120299,\n",
              "        510359.53262029, 1024235.569024  ,  702745.33301783,\n",
              "       1385965.25882622, 1172856.87155143, 1086605.66474369,\n",
              "       1035410.00011703, 1430440.94351104,  937149.00841361,\n",
              "        774811.40974813, 1585354.52424943, 1075629.97625344,\n",
              "       1423575.88844318, 1758108.47702739, 1235355.50220409,\n",
              "       1506918.04940533,  720976.05164685, 1055701.18415066,\n",
              "       1564484.63996928, 1118839.80646239,  941979.65143806,\n",
              "       1233242.0961813 , 1382277.61373613, 1251182.85278583,\n",
              "       1367244.7098109 ,  886256.28971108, 1225259.03208582,\n",
              "       1082783.06063692, 2084247.51914048, 1427835.47218293,\n",
              "        995798.36209681,  621064.61005371,  700000.95769648,\n",
              "        881422.53583539, 1452823.73482746, 1456071.81086517,\n",
              "       1245008.56143806, 1582066.87592565, 1464316.9262795 ,\n",
              "       1367079.28903185, 1365916.07688419, 1438195.17360623,\n",
              "       1020899.61325543,  997517.83765628, 1024169.18090185,\n",
              "       1526133.60342005, 1085481.45747712,  732773.1307287 ,\n",
              "       1223616.0894929 , 1864182.61459959, 1274653.23780456,\n",
              "       1544285.66461378,  689160.84046982, 1052459.07214319,\n",
              "        678104.82855181, 1418464.3177208 , 1521042.27567015,\n",
              "        824591.8440615 , 1105262.57648588, 1500235.47677989,\n",
              "       1684521.73147617, 1125690.64275877, 1009513.53972821,\n",
              "       1613973.889381  , 1088942.49742573, 1585655.82007208,\n",
              "        799643.45784238, 1437415.9720333 , 1799484.03530937,\n",
              "       1251846.16542164,  779541.89802214, 1137590.77008295,\n",
              "       1556766.11850884,  848480.79519112, 1215065.67479286,\n",
              "       1216706.38552985, 1148133.43851417,  731434.08797186,\n",
              "        855338.03318822, 1503175.96662887,  489983.19143282,\n",
              "       1192033.31142759, 1515680.78038375, 1234286.49267357,\n",
              "       1317322.45194354, 1309039.84538948, 1739288.84607982,\n",
              "        424212.56777864, 1323976.9151589 , 1667597.94963609,\n",
              "       1098788.96087598, 1056539.3759636 , 1031126.52841841,\n",
              "        750950.68655041, 1251004.64663936,  782665.72364902,\n",
              "       1550351.68050175, 1806070.32630507,  759289.99949123,\n",
              "       1517083.2158311 ,  393067.48230545,  643128.43571788,\n",
              "       1223023.75052153,  833612.8992696 , 1430689.99796428,\n",
              "       1037232.51419601, 1461815.44806933, 1337321.73810167,\n",
              "       1404743.05721439,  812743.31467798, 1183304.13718542,\n",
              "       1502884.08684403, 1581475.42324774,  762280.78024103,\n",
              "       1657221.75042325,  916721.29419278, 1582838.7447147 ,\n",
              "       1350846.45993247, 1187818.11161501, 1361153.39828851,\n",
              "       1025528.53623389,  827530.28403808, 1161756.3789522 ,\n",
              "       1349277.14143849, 1446504.88193911, 1323172.49393428,\n",
              "       1479049.27629877, 2142983.65169803,  704969.84622882,\n",
              "       1474185.77591358, 1514803.60039843, 1068941.90232534,\n",
              "       1699089.35947379, 1435124.28538133, 1411819.3515938 ,\n",
              "        523421.65682009, 1773318.50127638,  675908.95479927,\n",
              "       2250680.71350716, 1037977.32679585,  723252.39026909,\n",
              "       1310240.99589989,  755263.49783794,  741934.29867119,\n",
              "        934213.3172551 , 1295879.22882038, 1766131.4957102 ,\n",
              "       1146760.82467623, 1081526.05319283, 1473088.20720997,\n",
              "        976912.91289933, 1047110.28367769, 1235673.16893621,\n",
              "        706411.8270096 , 1126046.99344207, 1449922.84947263,\n",
              "       1539958.54957939, 1284679.88318242, 1953072.33386429,\n",
              "       1552100.32183524, 1422219.62727262, 1344851.16954505,\n",
              "       1717522.19572757, 1468997.94686269,  967438.24147862,\n",
              "        768591.23656192, 1563639.36413161, 1290715.42015715,\n",
              "       1284880.99902161,  804789.10957162, 1427835.90015439,\n",
              "        884813.79510965,  907432.10425155, 1085690.32895182,\n",
              "       1057193.5336775 , 1200191.94286018, 1333801.18484812,\n",
              "       1121358.33834928,  791758.08020834,  787285.50424564,\n",
              "       1791631.22003274, 1568258.12519508, 1269805.57448116,\n",
              "       1231352.99953012,  720673.59269337, 1150836.27855829,\n",
              "       1107000.9367041 , 1619270.90167914,  841970.33856305,\n",
              "        883714.22482019, 1473563.54794649, 1493249.26210259,\n",
              "       1352423.18216284, 1200360.11773166,  912888.36183111,\n",
              "        648933.36598726, 1326933.08446306, 1740610.95151743,\n",
              "       1154613.22834445,  925421.61378367, 1800456.30115771,\n",
              "       1416769.29816777,  937786.24412039, 1215805.25352922,\n",
              "       1086894.33478018,  627402.01541091, 1525965.57327376,\n",
              "        829739.05778853, 1448507.71275094, 1275034.43291207,\n",
              "       1494274.43194578, 1619067.3415257 , 1351080.39516384,\n",
              "       1242584.3579034 , 1356345.52960514, 1820577.09644768,\n",
              "       1462831.95469962, 1467645.91966969, 1629642.74795458,\n",
              "       1597658.30926384, 1379356.87967934, 1011114.61187694,\n",
              "       1856126.77131692,  776840.85830032, 1172669.49692605,\n",
              "       1072167.44589112,  946406.55519741, 1631836.05730551,\n",
              "       1685264.62045111, 1588868.0677056 , 1549796.01863048,\n",
              "       1271277.78804916, 1197590.80717654, 1019755.76233211,\n",
              "       1766316.86279554, 1474328.8440802 , 1085835.38297855,\n",
              "       1787373.46876405, 1253107.30360661, 1544289.44348122,\n",
              "       1323407.7759363 , 1234634.27128885, 1102791.50026525,\n",
              "       1550276.77015103, 1546390.84925306,  936334.78691059,\n",
              "        839812.94081632,  867751.20525845, 1819022.30422628,\n",
              "       1816891.79586079,  885262.7484909 , 1312910.08934368,\n",
              "       1528509.13845231, 1830248.29947666, 1605688.06760558,\n",
              "       1426913.32449287, 1569868.89362264, 1278888.32895865,\n",
              "       1192706.42794132,   76852.54479642, 1575810.20042093,\n",
              "       1107570.74839019, 1551429.03676972, 1480039.28511965,\n",
              "       1733777.95354898, 1550645.93356433, 1424727.93329306,\n",
              "       1044273.23625421, 1215534.87224273, 1460000.8096154 ,\n",
              "       1551114.59753331, 1406147.28403652,  620236.05404521,\n",
              "        877587.77758525, 1874772.28142451, 1864332.6966649 ,\n",
              "       1118590.86930046, 1513575.48865437, 1078575.11124131,\n",
              "       1177735.88499985, 1148167.02334567, 1292475.21269195,\n",
              "        606858.29026287, 1427349.86067716, 1035838.84492387,\n",
              "       1421954.63029415, 1481842.37078442, 1361524.84236117,\n",
              "       1169705.98708105, 1065461.69538522, 1393017.54382406,\n",
              "       1346885.69420832,  940397.84997777,  837040.32621269,\n",
              "       1090671.31008168, 1326754.72352426,  930701.25191826,\n",
              "        853675.26132432,  491080.34231864, 1430851.34482139,\n",
              "       1030535.27490396, 1319793.04445318, 1004027.5602378 ,\n",
              "        930531.7400327 , 1242663.29767425,  978801.93657062,\n",
              "       1345586.98714672, 1565387.13717703, 1549521.87374538,\n",
              "       1171587.54357359, 1449376.28238178,  809037.09000632,\n",
              "       1464409.42463566, 1188677.14692633, 1066833.03493651,\n",
              "        970667.08012818, 1390612.96221126, 1269374.6059074 ,\n",
              "        657301.86518677, 1812231.7409201 , 1216691.34627067,\n",
              "       1476439.61122783, 1393975.16584939, 1210964.05771574,\n",
              "       1537970.47457993, 1736515.13945716,  789599.5033151 ,\n",
              "       1296325.00301231, 1508203.30163639, 1828336.3980334 ,\n",
              "        974923.65749746, 1181257.75737757, 1816050.43470744,\n",
              "       1317154.29676893, 1720124.1269206 , 1604997.05231233,\n",
              "       1181689.38346179,  993142.6220555 , 1322428.44518061,\n",
              "       1361265.37078521, 1559075.55566456, 1025414.3336832 ,\n",
              "       1432862.08352504, 1768995.20256278, 1128839.77538469,\n",
              "        985575.97427147, 2209697.90974511,  886603.26366954,\n",
              "       1444387.14262283,  967447.71732665, 1185087.0123059 ,\n",
              "        908890.64888075, 1340648.18581147, 1729106.36803445,\n",
              "       1231314.53159848, 1590028.00754075, 1300131.74303953,\n",
              "        656357.00716856,  841023.83565632,  931279.15887251,\n",
              "       1470585.06009854, 1651785.68310921, 1189346.36491429,\n",
              "       1072897.21300377, 1088409.36538177,  967699.78456545,\n",
              "       1446927.01173879, 1101850.13523372, 1598636.28297444,\n",
              "       1551706.52372614, 1094813.9837343 , 1441080.79298947])"
            ]
          },
          "execution_count": 37,
          "metadata": {},
          "output_type": "execute_result"
        }
      ],
      "source": [
        "reg_predict"
      ]
    },
    {
      "cell_type": "code",
      "execution_count": null,
      "id": "a18521b6",
      "metadata": {
        "colab": {
          "base_uri": "https://localhost:8080/"
        },
        "id": "a18521b6",
        "outputId": "e0f2a9f6-3bde-4132-a164-f2e8aa683106"
      },
      "outputs": [
        {
          "data": {
            "text/plain": [
              "(993,)"
            ]
          },
          "execution_count": 38,
          "metadata": {},
          "output_type": "execute_result"
        }
      ],
      "source": [
        "reg_predict.shape"
      ]
    },
    {
      "cell_type": "code",
      "execution_count": null,
      "id": "87405aa6",
      "metadata": {
        "colab": {
          "base_uri": "https://localhost:8080/"
        },
        "id": "87405aa6",
        "outputId": "63cc3950-ec9d-4401-9134-d0c5d30bda20"
      },
      "outputs": [
        {
          "name": "stdout",
          "output_type": "stream",
          "text": [
            "9756554985.308357\n",
            "80057.62338921215\n",
            "98775.27517202044\n"
          ]
        }
      ],
      "source": [
        "## Performance Metrics\n",
        "from sklearn.metrics import mean_squared_error\n",
        "from sklearn.metrics import mean_absolute_error\n",
        "print(mean_squared_error(y_test,reg_predict))\n",
        "print(mean_absolute_error(y_test,reg_predict))\n",
        "print(np.sqrt(mean_squared_error(y_test,reg_predict)))"
      ]
    },
    {
      "cell_type": "code",
      "execution_count": null,
      "id": "aef915c0",
      "metadata": {
        "colab": {
          "base_uri": "https://localhost:8080/"
        },
        "id": "aef915c0",
        "outputId": "bb1b35af-9571-43db-852c-83eaf6d4bd5e"
      },
      "outputs": [
        {
          "name": "stdout",
          "output_type": "stream",
          "text": [
            "0.9216523839751596\n"
          ]
        }
      ],
      "source": [
        "from sklearn.metrics import r2_score\n",
        "score=r2_score(y_test,reg_predict)\n",
        "print(score)"
      ]
    },
    {
      "cell_type": "code",
      "execution_count": null,
      "id": "510481a9",
      "metadata": {
        "colab": {
          "base_uri": "https://localhost:8080/"
        },
        "id": "510481a9",
        "outputId": "a93953a4-1b50-4c45-9a12-8c9e4218d714"
      },
      "outputs": [
        {
          "data": {
            "text/plain": [
              "0.9212554862242739"
            ]
          },
          "execution_count": 41,
          "metadata": {},
          "output_type": "execute_result"
        }
      ],
      "source": [
        "\n",
        "#display adjusted R-squared\n",
        "1 - (1-score)*(len(y_test)-1)/(len(y_test)-X_test.shape[1]-1)"
      ]
    },
    {
      "cell_type": "code",
      "execution_count": null,
      "id": "5c35d6c3",
      "metadata": {
        "id": "5c35d6c3"
      },
      "outputs": [],
      "source": [
        "##Ridge regression\n",
        "from sklearn.linear_model import Ridge\n",
        "ridge=Ridge()\n",
        "ridge.fit(scaled_data_X_train,y_train)\n",
        "ridge_predict=ridge.predict(scaled_data_X_test)\n"
      ]
    },
    {
      "cell_type": "code",
      "execution_count": null,
      "id": "1a966de9",
      "metadata": {
        "id": "1a966de9"
      },
      "outputs": [],
      "source": [
        "ridge_predict=ridge.predict(scaled_data_X_test)"
      ]
    },
    {
      "cell_type": "code",
      "execution_count": null,
      "id": "67ba121e",
      "metadata": {
        "colab": {
          "base_uri": "https://localhost:8080/"
        },
        "id": "67ba121e",
        "outputId": "c93e97bb-69fe-4c04-de00-6eab50e76c6a"
      },
      "outputs": [
        {
          "name": "stdout",
          "output_type": "stream",
          "text": [
            "0.9216596633409171\n",
            "0.921262802466251\n"
          ]
        }
      ],
      "source": [
        "from sklearn.metrics import r2_score\n",
        "score=r2_score(y_test,ridge_predict)\n",
        "print(score)\n",
        "\n",
        "#display adjusted R-squared\n",
        "print(1 - (1-score)*(len(y_test)-1)/(len(y_test)-X_test.shape[1]-1))"
      ]
    },
    {
      "cell_type": "code",
      "execution_count": null,
      "id": "a1d16760",
      "metadata": {
        "id": "a1d16760"
      },
      "outputs": [],
      "source": [
        "##lasso regression\n",
        "from sklearn.linear_model import Lasso\n",
        "lasso=Lasso()\n",
        "lasso.fit(scaled_data_X_train,y_train)\n",
        "lasso_predict=lasso.predict(scaled_data_X_test)\n"
      ]
    },
    {
      "cell_type": "code",
      "execution_count": null,
      "id": "5ead5e55",
      "metadata": {
        "colab": {
          "base_uri": "https://localhost:8080/"
        },
        "id": "5ead5e55",
        "outputId": "a90ea55c-3d39-49d8-cc01-d74121c1c2d3"
      },
      "outputs": [
        {
          "name": "stdout",
          "output_type": "stream",
          "text": [
            "0.9216525228081952\n",
            "0.9212556257606177\n"
          ]
        }
      ],
      "source": [
        "from sklearn.metrics import r2_score\n",
        "score=r2_score(y_test,lasso_predict)\n",
        "print(score)\n",
        "\n",
        "#display adjusted R-squared\n",
        "print(1 - (1-score)*(len(y_test)-1)/(len(y_test)-X_test.shape[1]-1))"
      ]
    },
    {
      "cell_type": "code",
      "execution_count": null,
      "id": "97523e84",
      "metadata": {
        "id": "97523e84"
      },
      "outputs": [],
      "source": [
        "from sklearn.svm import SVR\n",
        "svr=SVR()\n",
        "svr.fit(scaled_data_X_train,y_train)\n",
        "svr_predict=svr.predict(scaled_data_X_test)\n"
      ]
    },
    {
      "cell_type": "code",
      "execution_count": null,
      "id": "4b449f33",
      "metadata": {
        "colab": {
          "base_uri": "https://localhost:8080/"
        },
        "id": "4b449f33",
        "outputId": "44b78b02-4af9-44c8-afc0-b4f748acac30"
      },
      "outputs": [
        {
          "name": "stdout",
          "output_type": "stream",
          "text": [
            "-0.0009728472722900783\n",
            "-0.006043631706293517\n"
          ]
        }
      ],
      "source": [
        "from sklearn.metrics import r2_score\n",
        "score=r2_score(y_test,svr_predict)\n",
        "print(score)\n",
        "\n",
        "#display adjusted R-squared\n",
        "print(1 - (1-score)*(len(y_test)-1)/(len(y_test)-X_test.shape[1]-1))"
      ]
    },
    {
      "cell_type": "code",
      "execution_count": null,
      "id": "1450b9ef",
      "metadata": {
        "id": "1450b9ef"
      },
      "outputs": [],
      "source": [
        "#no benefit of hypertuning too bad model"
      ]
    },
    {
      "cell_type": "markdown",
      "id": "509ad344",
      "metadata": {
        "id": "509ad344"
      },
      "source": [
        "# Decision Tree Regressor"
      ]
    },
    {
      "cell_type": "code",
      "execution_count": null,
      "id": "59942cf1",
      "metadata": {
        "id": "59942cf1"
      },
      "outputs": [],
      "source": [
        "from sklearn.tree import DecisionTreeRegressor\n",
        "\n",
        "# create a regressor object\n",
        "dt_regressor = DecisionTreeRegressor()\n",
        "\n",
        "# fit the regressor with X and Y data\n",
        "dt_regressor.fit(scaled_data_X_train,y_train)\n",
        "dt_predict=dt_regressor.predict(scaled_data_X_test)\n"
      ]
    },
    {
      "cell_type": "code",
      "execution_count": null,
      "id": "faa13e5a",
      "metadata": {
        "colab": {
          "base_uri": "https://localhost:8080/"
        },
        "id": "faa13e5a",
        "outputId": "2a4d9d07-803b-48bb-f05a-7565116292fe"
      },
      "outputs": [
        {
          "name": "stdout",
          "output_type": "stream",
          "text": [
            "0.7819418290823907\n",
            "0.7808371777606197\n"
          ]
        }
      ],
      "source": [
        "from sklearn.metrics import r2_score\n",
        "score=r2_score(y_test,dt_predict)\n",
        "print(score)\n",
        "\n",
        "#display adjusted R-squared\n",
        "print(1 - (1-score)*(len(y_test)-1)/(len(y_test)-X_test.shape[1]-1))"
      ]
    },
    {
      "cell_type": "markdown",
      "id": "05adfde8",
      "metadata": {
        "id": "05adfde8"
      },
      "source": [
        "Hyperparameter tuning in DTR"
      ]
    },
    {
      "cell_type": "code",
      "execution_count": null,
      "id": "9dd7369d",
      "metadata": {
        "id": "9dd7369d"
      },
      "outputs": [],
      "source": [
        " grid_params={'criterion': ['squared_error', 'friedman_mse', 'absolute_error', \"poisson\"],\n",
        "    'max_depth' : range(2,10,1),\n",
        "    'min_samples_leaf' : range(1,8,1),\n",
        "    'min_samples_split': range(2,8,1),\n",
        "    'splitter' : ['best', 'random']}"
      ]
    },
    {
      "cell_type": "code",
      "execution_count": null,
      "id": "c4bff3a2",
      "metadata": {
        "colab": {
          "background_save": true
        },
        "id": "c4bff3a2"
      },
      "outputs": [],
      "source": [
        "from sklearn.model_selection import GridSearchCV"
      ]
    },
    {
      "cell_type": "code",
      "execution_count": null,
      "id": "MNzN9SEBV22u",
      "metadata": {
        "colab": {
          "background_save": true
        },
        "id": "MNzN9SEBV22u"
      },
      "outputs": [],
      "source": []
    },
    {
      "cell_type": "code",
      "execution_count": null,
      "id": "-SCdEKV-VoyM",
      "metadata": {
        "colab": {
          "background_save": true
        },
        "id": "-SCdEKV-VoyM",
        "outputId": "1facd413-59c5-4667-8056-1e1701fa47e4"
      },
      "outputs": [
        {
          "ename": "NameError",
          "evalue": "name 'grid_params' is not defined",
          "output_type": "error",
          "traceback": [
            "\u001b[0;31m---------------------------------------------------------------------------\u001b[0m",
            "\u001b[0;31mNameError\u001b[0m                                 Traceback (most recent call last)",
            "\u001b[0;32m<ipython-input-14-ff63776d6ab8>\u001b[0m in \u001b[0;36m<cell line: 1>\u001b[0;34m()\u001b[0m\n\u001b[0;32m----> 1\u001b[0;31m \u001b[0mclf\u001b[0m \u001b[0;34m=\u001b[0m \u001b[0mGridSearchCV\u001b[0m\u001b[0;34m(\u001b[0m\u001b[0mdt_regressor\u001b[0m\u001b[0;34m,\u001b[0m \u001b[0mgrid_params\u001b[0m\u001b[0;34m,\u001b[0m \u001b[0mcv\u001b[0m \u001b[0;34m=\u001b[0m \u001b[0;36m10\u001b[0m\u001b[0;34m)\u001b[0m\u001b[0;34m\u001b[0m\u001b[0;34m\u001b[0m\u001b[0m\n\u001b[0m",
            "\u001b[0;31mNameError\u001b[0m: name 'grid_params' is not defined"
          ]
        }
      ],
      "source": [
        "clf = GridSearchCV(dt_regressor, grid_params, cv = 10)"
      ]
    },
    {
      "cell_type": "code",
      "execution_count": null,
      "id": "9zfzEyH5V5tL",
      "metadata": {
        "colab": {
          "background_save": true
        },
        "id": "9zfzEyH5V5tL"
      },
      "outputs": [],
      "source": [
        "clf.fit(scaled_data_X_train,y_train)"
      ]
    },
    {
      "cell_type": "code",
      "execution_count": null,
      "id": "vyUOI_GQhzOX",
      "metadata": {
        "colab": {
          "background_save": true
        },
        "id": "vyUOI_GQhzOX"
      },
      "outputs": [],
      "source": [
        "clf.best_params_"
      ]
    },
    {
      "cell_type": "code",
      "execution_count": null,
      "id": "iGvISfCSudg3",
      "metadata": {
        "colab": {
          "background_save": true
        },
        "id": "iGvISfCSudg3"
      },
      "outputs": [],
      "source": [
        "-from sklearn.tree import DecisionTreeRegressor\n",
        "\n",
        "# create a regressor object\n",
        "dt_regressor = DecisionTreeRegressor(criterion= 'squared_error',max_depth=9, min_samples_leaf= 4,min_samples_split= 2, splitter='best')\n",
        "\n",
        "# fit the regressor with X and Y data\n",
        "dt_regressor.fit(scaled_data_X_train,y_train)\n",
        "dt_predict=dt_regressor.predict(scaled_data_X_test)\n"
      ]
    },
    {
      "cell_type": "code",
      "execution_count": null,
      "id": "gTgWP3WoE04J",
      "metadata": {
        "colab": {
          "background_save": true
        },
        "id": "gTgWP3WoE04J"
      },
      "outputs": [],
      "source": [
        "from sklearn.metrics import r2_score\n",
        "score=r2_score(y_test,dt_predict)\n",
        "print(score)\n",
        "\n",
        "#display adjusted R-squared\n",
        "print(1 - (1-score)*(len(y_test)-1)/(len(y_test)-X_test.shape[1]-1))"
      ]
    },
    {
      "cell_type": "code",
      "execution_count": null,
      "id": "B7yo7ET9E-AC",
      "metadata": {
        "colab": {
          "background_save": true
        },
        "id": "B7yo7ET9E-AC"
      },
      "outputs": [],
      "source": [
        "\n",
        "# importing random forest classifier from assemble module\n",
        "from sklearn.ensemble import RandomForestRegressor\n",
        "rand_regressor= RandomForestRegressor()\n",
        "rand_regressor.fit(scaled_data_X_train,y_train)\n",
        "rand_predict=rand_regressor.predict(scaled_data_X_test)"
      ]
    },
    {
      "cell_type": "code",
      "execution_count": null,
      "id": "QhzkhFPtFJyU",
      "metadata": {
        "colab": {
          "background_save": true
        },
        "id": "QhzkhFPtFJyU"
      },
      "outputs": [],
      "source": [
        "from sklearn.metrics import r2_score\n",
        "score=r2_score(y_test,rand_predict)\n",
        "print(score)\n",
        "\n",
        "#display adjusted R-squared\n",
        "print(1 - (1-score)*(len(y_test)-1)/(len(y_test)-X_test.shape[1]-1))"
      ]
    },
    {
      "cell_type": "code",
      "execution_count": null,
      "id": "6EiHNZR9FNPS",
      "metadata": {
        "colab": {
          "background_save": true
        },
        "id": "6EiHNZR9FNPS"
      },
      "outputs": [],
      "source": [
        "grid_params={'criterion': ['squared_error', 'friedman_mse', 'absolute_error', \"poisson\"],\n",
        "    'max_depth' : range(2,10,1),\n",
        "    'min_samples_leaf' : range(1,8,1),\n",
        "    'min_samples_split': range(2,8,1),\n",
        "    }\n",
        "clf_rand = GridSearchCV(rand_regressor, grid_params, cv = 10)"
      ]
    },
    {
      "cell_type": "code",
      "execution_count": null,
      "id": "mVcMk2PiF4su",
      "metadata": {
        "colab": {
          "background_save": true
        },
        "id": "mVcMk2PiF4su"
      },
      "outputs": [],
      "source": [
        "clf_rand.fit(scaled_data_X_train,y_train)"
      ]
    },
    {
      "cell_type": "code",
      "execution_count": null,
      "id": "KGKtQEN_GEsy",
      "metadata": {
        "colab": {
          "background_save": true
        },
        "id": "KGKtQEN_GEsy"
      },
      "outputs": [],
      "source": []
    }
  ],
  "metadata": {
    "colab": {
      "toc_visible": true,
      "provenance": []
    },
    "kernelspec": {
      "display_name": "Python 3 (ipykernel)",
      "language": "python",
      "name": "python3"
    },
    "language_info": {
      "codemirror_mode": {
        "name": "ipython",
        "version": 3
      },
      "file_extension": ".py",
      "mimetype": "text/x-python",
      "name": "python",
      "nbconvert_exporter": "python",
      "pygments_lexer": "ipython3",
      "version": "3.7.0"
    }
  },
  "nbformat": 4,
  "nbformat_minor": 5
}