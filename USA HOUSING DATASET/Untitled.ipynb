{
 "cells": [
  {
   "cell_type": "code",
   "execution_count": 3,
   "id": "b0cd61e0",
   "metadata": {},
   "outputs": [
    {
     "ename": "SyntaxError",
     "evalue": "invalid syntax (1702975513.py, line 1)",
     "output_type": "error",
     "traceback": [
      "\u001b[1;36m  File \u001b[1;32m\"C:\\Users\\mussingh\\AppData\\Local\\Temp\\ipykernel_11520\\1702975513.py\"\u001b[1;36m, line \u001b[1;32m1\u001b[0m\n\u001b[1;33m    1. Undestanding the problem\u001b[0m\n\u001b[1;37m                  ^\u001b[0m\n\u001b[1;31mSyntaxError\u001b[0m\u001b[1;31m:\u001b[0m invalid syntax\n"
     ]
    }
   ],
   "source": [
    "1. Undestanding the problem\n",
    "2. EDA\n",
    "3. Data Preprocessing\n",
    "4. Feature Selection  \n",
    "5. Modeling \n",
    "6. Evaluation."
   ]
  },
  {
   "cell_type": "code",
   "execution_count": 2,
   "id": "63b2cb90",
   "metadata": {},
   "outputs": [],
   "source": [
    "import numpy as np\n",
    "import pandas as pd\n",
    "import matplotlib.pyplot as plt\n",
    "import seaborn as sns\n",
    "import warnings"
   ]
  },
  {
   "cell_type": "code",
   "execution_count": null,
   "id": "13e45896",
   "metadata": {
    "scrolled": true
   },
   "outputs": [],
   "source": []
  },
  {
   "cell_type": "code",
   "execution_count": 3,
   "id": "2ce5c7b5",
   "metadata": {},
   "outputs": [],
   "source": [
    "#Data sourcing\n",
    "data=pd.read_csv(\"USA_Housing.csv\")"
   ]
  },
  {
   "cell_type": "code",
   "execution_count": 4,
   "id": "47cc1f8b",
   "metadata": {},
   "outputs": [
    {
     "data": {
      "text/html": [
       "<div>\n",
       "<style scoped>\n",
       "    .dataframe tbody tr th:only-of-type {\n",
       "        vertical-align: middle;\n",
       "    }\n",
       "\n",
       "    .dataframe tbody tr th {\n",
       "        vertical-align: top;\n",
       "    }\n",
       "\n",
       "    .dataframe thead th {\n",
       "        text-align: right;\n",
       "    }\n",
       "</style>\n",
       "<table border=\"1\" class=\"dataframe\">\n",
       "  <thead>\n",
       "    <tr style=\"text-align: right;\">\n",
       "      <th></th>\n",
       "      <th>Avg. Area Income</th>\n",
       "      <th>Avg. Area House Age</th>\n",
       "      <th>Avg. Area Number of Rooms</th>\n",
       "      <th>Avg. Area Number of Bedrooms</th>\n",
       "      <th>Area Population</th>\n",
       "      <th>Price</th>\n",
       "      <th>Address</th>\n",
       "    </tr>\n",
       "  </thead>\n",
       "  <tbody>\n",
       "    <tr>\n",
       "      <th>0</th>\n",
       "      <td>79545.458574</td>\n",
       "      <td>5.682861</td>\n",
       "      <td>7.009188</td>\n",
       "      <td>4.09</td>\n",
       "      <td>23086.800503</td>\n",
       "      <td>1.059034e+06</td>\n",
       "      <td>208 Michael Ferry Apt. 674\\nLaurabury, NE 3701...</td>\n",
       "    </tr>\n",
       "    <tr>\n",
       "      <th>1</th>\n",
       "      <td>79248.642455</td>\n",
       "      <td>6.002900</td>\n",
       "      <td>6.730821</td>\n",
       "      <td>3.09</td>\n",
       "      <td>40173.072174</td>\n",
       "      <td>1.505891e+06</td>\n",
       "      <td>188 Johnson Views Suite 079\\nLake Kathleen, CA...</td>\n",
       "    </tr>\n",
       "    <tr>\n",
       "      <th>2</th>\n",
       "      <td>61287.067179</td>\n",
       "      <td>5.865890</td>\n",
       "      <td>8.512727</td>\n",
       "      <td>5.13</td>\n",
       "      <td>36882.159400</td>\n",
       "      <td>1.058988e+06</td>\n",
       "      <td>9127 Elizabeth Stravenue\\nDanieltown, WI 06482...</td>\n",
       "    </tr>\n",
       "    <tr>\n",
       "      <th>3</th>\n",
       "      <td>63345.240046</td>\n",
       "      <td>7.188236</td>\n",
       "      <td>5.586729</td>\n",
       "      <td>3.26</td>\n",
       "      <td>34310.242831</td>\n",
       "      <td>1.260617e+06</td>\n",
       "      <td>USS Barnett\\nFPO AP 44820</td>\n",
       "    </tr>\n",
       "    <tr>\n",
       "      <th>4</th>\n",
       "      <td>59982.197226</td>\n",
       "      <td>5.040555</td>\n",
       "      <td>7.839388</td>\n",
       "      <td>4.23</td>\n",
       "      <td>26354.109472</td>\n",
       "      <td>6.309435e+05</td>\n",
       "      <td>USNS Raymond\\nFPO AE 09386</td>\n",
       "    </tr>\n",
       "    <tr>\n",
       "      <th>...</th>\n",
       "      <td>...</td>\n",
       "      <td>...</td>\n",
       "      <td>...</td>\n",
       "      <td>...</td>\n",
       "      <td>...</td>\n",
       "      <td>...</td>\n",
       "      <td>...</td>\n",
       "    </tr>\n",
       "    <tr>\n",
       "      <th>4995</th>\n",
       "      <td>60567.944140</td>\n",
       "      <td>7.830362</td>\n",
       "      <td>6.137356</td>\n",
       "      <td>3.46</td>\n",
       "      <td>22837.361035</td>\n",
       "      <td>1.060194e+06</td>\n",
       "      <td>USNS Williams\\nFPO AP 30153-7653</td>\n",
       "    </tr>\n",
       "    <tr>\n",
       "      <th>4996</th>\n",
       "      <td>78491.275435</td>\n",
       "      <td>6.999135</td>\n",
       "      <td>6.576763</td>\n",
       "      <td>4.02</td>\n",
       "      <td>25616.115489</td>\n",
       "      <td>1.482618e+06</td>\n",
       "      <td>PSC 9258, Box 8489\\nAPO AA 42991-3352</td>\n",
       "    </tr>\n",
       "    <tr>\n",
       "      <th>4997</th>\n",
       "      <td>63390.686886</td>\n",
       "      <td>7.250591</td>\n",
       "      <td>4.805081</td>\n",
       "      <td>2.13</td>\n",
       "      <td>33266.145490</td>\n",
       "      <td>1.030730e+06</td>\n",
       "      <td>4215 Tracy Garden Suite 076\\nJoshualand, VA 01...</td>\n",
       "    </tr>\n",
       "    <tr>\n",
       "      <th>4998</th>\n",
       "      <td>68001.331235</td>\n",
       "      <td>5.534388</td>\n",
       "      <td>7.130144</td>\n",
       "      <td>5.44</td>\n",
       "      <td>42625.620156</td>\n",
       "      <td>1.198657e+06</td>\n",
       "      <td>USS Wallace\\nFPO AE 73316</td>\n",
       "    </tr>\n",
       "    <tr>\n",
       "      <th>4999</th>\n",
       "      <td>65510.581804</td>\n",
       "      <td>5.992305</td>\n",
       "      <td>6.792336</td>\n",
       "      <td>4.07</td>\n",
       "      <td>46501.283803</td>\n",
       "      <td>1.298950e+06</td>\n",
       "      <td>37778 George Ridges Apt. 509\\nEast Holly, NV 2...</td>\n",
       "    </tr>\n",
       "  </tbody>\n",
       "</table>\n",
       "<p>5000 rows × 7 columns</p>\n",
       "</div>"
      ],
      "text/plain": [
       "      Avg. Area Income  Avg. Area House Age  Avg. Area Number of Rooms  \\\n",
       "0         79545.458574             5.682861                   7.009188   \n",
       "1         79248.642455             6.002900                   6.730821   \n",
       "2         61287.067179             5.865890                   8.512727   \n",
       "3         63345.240046             7.188236                   5.586729   \n",
       "4         59982.197226             5.040555                   7.839388   \n",
       "...                ...                  ...                        ...   \n",
       "4995      60567.944140             7.830362                   6.137356   \n",
       "4996      78491.275435             6.999135                   6.576763   \n",
       "4997      63390.686886             7.250591                   4.805081   \n",
       "4998      68001.331235             5.534388                   7.130144   \n",
       "4999      65510.581804             5.992305                   6.792336   \n",
       "\n",
       "      Avg. Area Number of Bedrooms  Area Population         Price  \\\n",
       "0                             4.09     23086.800503  1.059034e+06   \n",
       "1                             3.09     40173.072174  1.505891e+06   \n",
       "2                             5.13     36882.159400  1.058988e+06   \n",
       "3                             3.26     34310.242831  1.260617e+06   \n",
       "4                             4.23     26354.109472  6.309435e+05   \n",
       "...                            ...              ...           ...   \n",
       "4995                          3.46     22837.361035  1.060194e+06   \n",
       "4996                          4.02     25616.115489  1.482618e+06   \n",
       "4997                          2.13     33266.145490  1.030730e+06   \n",
       "4998                          5.44     42625.620156  1.198657e+06   \n",
       "4999                          4.07     46501.283803  1.298950e+06   \n",
       "\n",
       "                                                Address  \n",
       "0     208 Michael Ferry Apt. 674\\nLaurabury, NE 3701...  \n",
       "1     188 Johnson Views Suite 079\\nLake Kathleen, CA...  \n",
       "2     9127 Elizabeth Stravenue\\nDanieltown, WI 06482...  \n",
       "3                             USS Barnett\\nFPO AP 44820  \n",
       "4                            USNS Raymond\\nFPO AE 09386  \n",
       "...                                                 ...  \n",
       "4995                   USNS Williams\\nFPO AP 30153-7653  \n",
       "4996              PSC 9258, Box 8489\\nAPO AA 42991-3352  \n",
       "4997  4215 Tracy Garden Suite 076\\nJoshualand, VA 01...  \n",
       "4998                          USS Wallace\\nFPO AE 73316  \n",
       "4999  37778 George Ridges Apt. 509\\nEast Holly, NV 2...  \n",
       "\n",
       "[5000 rows x 7 columns]"
      ]
     },
     "execution_count": 4,
     "metadata": {},
     "output_type": "execute_result"
    }
   ],
   "source": [
    "data"
   ]
  },
  {
   "cell_type": "code",
   "execution_count": 5,
   "id": "eada88c8",
   "metadata": {},
   "outputs": [
    {
     "name": "stdout",
     "output_type": "stream",
     "text": [
      "Index(['Avg. Area Income', 'Avg. Area House Age', 'Avg. Area Number of Rooms',\n",
      "       'Avg. Area Number of Bedrooms', 'Area Population', 'Price', 'Address'],\n",
      "      dtype='object')\n",
      "<class 'pandas.core.frame.DataFrame'>\n",
      "RangeIndex: 5000 entries, 0 to 4999\n",
      "Data columns (total 7 columns):\n",
      " #   Column                        Non-Null Count  Dtype  \n",
      "---  ------                        --------------  -----  \n",
      " 0   Avg. Area Income              5000 non-null   float64\n",
      " 1   Avg. Area House Age           5000 non-null   float64\n",
      " 2   Avg. Area Number of Rooms     5000 non-null   float64\n",
      " 3   Avg. Area Number of Bedrooms  5000 non-null   float64\n",
      " 4   Area Population               5000 non-null   float64\n",
      " 5   Price                         5000 non-null   float64\n",
      " 6   Address                       5000 non-null   object \n",
      "dtypes: float64(6), object(1)\n",
      "memory usage: 273.6+ KB\n"
     ]
    },
    {
     "data": {
      "text/plain": [
       "(5000, 7)"
      ]
     },
     "execution_count": 5,
     "metadata": {},
     "output_type": "execute_result"
    }
   ],
   "source": [
    "#EDA\n",
    "print(data.columns)\n",
    "data.info()\n",
    "data.shape"
   ]
  },
  {
   "cell_type": "code",
   "execution_count": 6,
   "id": "af43c18f",
   "metadata": {},
   "outputs": [
    {
     "data": {
      "text/plain": [
       "Avg. Area Income                0\n",
       "Avg. Area House Age             0\n",
       "Avg. Area Number of Rooms       0\n",
       "Avg. Area Number of Bedrooms    0\n",
       "Area Population                 0\n",
       "Price                           0\n",
       "Address                         0\n",
       "dtype: int64"
      ]
     },
     "execution_count": 6,
     "metadata": {},
     "output_type": "execute_result"
    }
   ],
   "source": [
    "#checking any null value\n",
    "data.isnull().sum()"
   ]
  },
  {
   "cell_type": "code",
   "execution_count": 7,
   "id": "219a61f0",
   "metadata": {},
   "outputs": [
    {
     "data": {
      "text/plain": [
       "0"
      ]
     },
     "execution_count": 7,
     "metadata": {},
     "output_type": "execute_result"
    }
   ],
   "source": [
    "#checking duplicate value\n",
    "data.duplicated().sum()"
   ]
  },
  {
   "cell_type": "code",
   "execution_count": 8,
   "id": "f77480a4",
   "metadata": {},
   "outputs": [
    {
     "data": {
      "text/html": [
       "<div>\n",
       "<style scoped>\n",
       "    .dataframe tbody tr th:only-of-type {\n",
       "        vertical-align: middle;\n",
       "    }\n",
       "\n",
       "    .dataframe tbody tr th {\n",
       "        vertical-align: top;\n",
       "    }\n",
       "\n",
       "    .dataframe thead th {\n",
       "        text-align: right;\n",
       "    }\n",
       "</style>\n",
       "<table border=\"1\" class=\"dataframe\">\n",
       "  <thead>\n",
       "    <tr style=\"text-align: right;\">\n",
       "      <th></th>\n",
       "      <th>count</th>\n",
       "      <th>mean</th>\n",
       "      <th>std</th>\n",
       "      <th>min</th>\n",
       "      <th>25%</th>\n",
       "      <th>50%</th>\n",
       "      <th>75%</th>\n",
       "      <th>max</th>\n",
       "    </tr>\n",
       "  </thead>\n",
       "  <tbody>\n",
       "    <tr>\n",
       "      <th>Avg. Area Income</th>\n",
       "      <td>5000.0</td>\n",
       "      <td>6.858311e+04</td>\n",
       "      <td>10657.991214</td>\n",
       "      <td>17796.631190</td>\n",
       "      <td>61480.562388</td>\n",
       "      <td>6.880429e+04</td>\n",
       "      <td>7.578334e+04</td>\n",
       "      <td>1.077017e+05</td>\n",
       "    </tr>\n",
       "    <tr>\n",
       "      <th>Avg. Area House Age</th>\n",
       "      <td>5000.0</td>\n",
       "      <td>5.977222e+00</td>\n",
       "      <td>0.991456</td>\n",
       "      <td>2.644304</td>\n",
       "      <td>5.322283</td>\n",
       "      <td>5.970429e+00</td>\n",
       "      <td>6.650808e+00</td>\n",
       "      <td>9.519088e+00</td>\n",
       "    </tr>\n",
       "    <tr>\n",
       "      <th>Avg. Area Number of Rooms</th>\n",
       "      <td>5000.0</td>\n",
       "      <td>6.987792e+00</td>\n",
       "      <td>1.005833</td>\n",
       "      <td>3.236194</td>\n",
       "      <td>6.299250</td>\n",
       "      <td>7.002902e+00</td>\n",
       "      <td>7.665871e+00</td>\n",
       "      <td>1.075959e+01</td>\n",
       "    </tr>\n",
       "    <tr>\n",
       "      <th>Avg. Area Number of Bedrooms</th>\n",
       "      <td>5000.0</td>\n",
       "      <td>3.981330e+00</td>\n",
       "      <td>1.234137</td>\n",
       "      <td>2.000000</td>\n",
       "      <td>3.140000</td>\n",
       "      <td>4.050000e+00</td>\n",
       "      <td>4.490000e+00</td>\n",
       "      <td>6.500000e+00</td>\n",
       "    </tr>\n",
       "    <tr>\n",
       "      <th>Area Population</th>\n",
       "      <td>5000.0</td>\n",
       "      <td>3.616352e+04</td>\n",
       "      <td>9925.650114</td>\n",
       "      <td>172.610686</td>\n",
       "      <td>29403.928702</td>\n",
       "      <td>3.619941e+04</td>\n",
       "      <td>4.286129e+04</td>\n",
       "      <td>6.962171e+04</td>\n",
       "    </tr>\n",
       "    <tr>\n",
       "      <th>Price</th>\n",
       "      <td>5000.0</td>\n",
       "      <td>1.232073e+06</td>\n",
       "      <td>353117.626581</td>\n",
       "      <td>15938.657923</td>\n",
       "      <td>997577.135049</td>\n",
       "      <td>1.232669e+06</td>\n",
       "      <td>1.471210e+06</td>\n",
       "      <td>2.469066e+06</td>\n",
       "    </tr>\n",
       "  </tbody>\n",
       "</table>\n",
       "</div>"
      ],
      "text/plain": [
       "                               count          mean            std  \\\n",
       "Avg. Area Income              5000.0  6.858311e+04   10657.991214   \n",
       "Avg. Area House Age           5000.0  5.977222e+00       0.991456   \n",
       "Avg. Area Number of Rooms     5000.0  6.987792e+00       1.005833   \n",
       "Avg. Area Number of Bedrooms  5000.0  3.981330e+00       1.234137   \n",
       "Area Population               5000.0  3.616352e+04    9925.650114   \n",
       "Price                         5000.0  1.232073e+06  353117.626581   \n",
       "\n",
       "                                       min            25%           50%  \\\n",
       "Avg. Area Income              17796.631190   61480.562388  6.880429e+04   \n",
       "Avg. Area House Age               2.644304       5.322283  5.970429e+00   \n",
       "Avg. Area Number of Rooms         3.236194       6.299250  7.002902e+00   \n",
       "Avg. Area Number of Bedrooms      2.000000       3.140000  4.050000e+00   \n",
       "Area Population                 172.610686   29403.928702  3.619941e+04   \n",
       "Price                         15938.657923  997577.135049  1.232669e+06   \n",
       "\n",
       "                                       75%           max  \n",
       "Avg. Area Income              7.578334e+04  1.077017e+05  \n",
       "Avg. Area House Age           6.650808e+00  9.519088e+00  \n",
       "Avg. Area Number of Rooms     7.665871e+00  1.075959e+01  \n",
       "Avg. Area Number of Bedrooms  4.490000e+00  6.500000e+00  \n",
       "Area Population               4.286129e+04  6.962171e+04  \n",
       "Price                         1.471210e+06  2.469066e+06  "
      ]
     },
     "execution_count": 8,
     "metadata": {},
     "output_type": "execute_result"
    }
   ],
   "source": [
    "#statical analysis\n",
    "data.describe().T"
   ]
  },
  {
   "cell_type": "code",
   "execution_count": 9,
   "id": "11ec07b4",
   "metadata": {},
   "outputs": [],
   "source": [
    "#segreagte numerical or categorial\n",
    "numeric_data = data.select_dtypes(exclude=['object'])\n",
    "categorical_data = data.select_dtypes(include=['object'])"
   ]
  },
  {
   "cell_type": "code",
   "execution_count": 10,
   "id": "07e0b695",
   "metadata": {},
   "outputs": [
    {
     "data": {
      "text/html": [
       "<div>\n",
       "<style scoped>\n",
       "    .dataframe tbody tr th:only-of-type {\n",
       "        vertical-align: middle;\n",
       "    }\n",
       "\n",
       "    .dataframe tbody tr th {\n",
       "        vertical-align: top;\n",
       "    }\n",
       "\n",
       "    .dataframe thead th {\n",
       "        text-align: right;\n",
       "    }\n",
       "</style>\n",
       "<table border=\"1\" class=\"dataframe\">\n",
       "  <thead>\n",
       "    <tr style=\"text-align: right;\">\n",
       "      <th></th>\n",
       "      <th>Avg. Area Income</th>\n",
       "      <th>Avg. Area House Age</th>\n",
       "      <th>Avg. Area Number of Rooms</th>\n",
       "      <th>Avg. Area Number of Bedrooms</th>\n",
       "      <th>Area Population</th>\n",
       "      <th>Price</th>\n",
       "    </tr>\n",
       "  </thead>\n",
       "  <tbody>\n",
       "    <tr>\n",
       "      <th>0</th>\n",
       "      <td>79545.458574</td>\n",
       "      <td>5.682861</td>\n",
       "      <td>7.009188</td>\n",
       "      <td>4.09</td>\n",
       "      <td>23086.800503</td>\n",
       "      <td>1.059034e+06</td>\n",
       "    </tr>\n",
       "    <tr>\n",
       "      <th>1</th>\n",
       "      <td>79248.642455</td>\n",
       "      <td>6.002900</td>\n",
       "      <td>6.730821</td>\n",
       "      <td>3.09</td>\n",
       "      <td>40173.072174</td>\n",
       "      <td>1.505891e+06</td>\n",
       "    </tr>\n",
       "    <tr>\n",
       "      <th>2</th>\n",
       "      <td>61287.067179</td>\n",
       "      <td>5.865890</td>\n",
       "      <td>8.512727</td>\n",
       "      <td>5.13</td>\n",
       "      <td>36882.159400</td>\n",
       "      <td>1.058988e+06</td>\n",
       "    </tr>\n",
       "    <tr>\n",
       "      <th>3</th>\n",
       "      <td>63345.240046</td>\n",
       "      <td>7.188236</td>\n",
       "      <td>5.586729</td>\n",
       "      <td>3.26</td>\n",
       "      <td>34310.242831</td>\n",
       "      <td>1.260617e+06</td>\n",
       "    </tr>\n",
       "    <tr>\n",
       "      <th>4</th>\n",
       "      <td>59982.197226</td>\n",
       "      <td>5.040555</td>\n",
       "      <td>7.839388</td>\n",
       "      <td>4.23</td>\n",
       "      <td>26354.109472</td>\n",
       "      <td>6.309435e+05</td>\n",
       "    </tr>\n",
       "    <tr>\n",
       "      <th>...</th>\n",
       "      <td>...</td>\n",
       "      <td>...</td>\n",
       "      <td>...</td>\n",
       "      <td>...</td>\n",
       "      <td>...</td>\n",
       "      <td>...</td>\n",
       "    </tr>\n",
       "    <tr>\n",
       "      <th>4995</th>\n",
       "      <td>60567.944140</td>\n",
       "      <td>7.830362</td>\n",
       "      <td>6.137356</td>\n",
       "      <td>3.46</td>\n",
       "      <td>22837.361035</td>\n",
       "      <td>1.060194e+06</td>\n",
       "    </tr>\n",
       "    <tr>\n",
       "      <th>4996</th>\n",
       "      <td>78491.275435</td>\n",
       "      <td>6.999135</td>\n",
       "      <td>6.576763</td>\n",
       "      <td>4.02</td>\n",
       "      <td>25616.115489</td>\n",
       "      <td>1.482618e+06</td>\n",
       "    </tr>\n",
       "    <tr>\n",
       "      <th>4997</th>\n",
       "      <td>63390.686886</td>\n",
       "      <td>7.250591</td>\n",
       "      <td>4.805081</td>\n",
       "      <td>2.13</td>\n",
       "      <td>33266.145490</td>\n",
       "      <td>1.030730e+06</td>\n",
       "    </tr>\n",
       "    <tr>\n",
       "      <th>4998</th>\n",
       "      <td>68001.331235</td>\n",
       "      <td>5.534388</td>\n",
       "      <td>7.130144</td>\n",
       "      <td>5.44</td>\n",
       "      <td>42625.620156</td>\n",
       "      <td>1.198657e+06</td>\n",
       "    </tr>\n",
       "    <tr>\n",
       "      <th>4999</th>\n",
       "      <td>65510.581804</td>\n",
       "      <td>5.992305</td>\n",
       "      <td>6.792336</td>\n",
       "      <td>4.07</td>\n",
       "      <td>46501.283803</td>\n",
       "      <td>1.298950e+06</td>\n",
       "    </tr>\n",
       "  </tbody>\n",
       "</table>\n",
       "<p>5000 rows × 6 columns</p>\n",
       "</div>"
      ],
      "text/plain": [
       "      Avg. Area Income  Avg. Area House Age  Avg. Area Number of Rooms  \\\n",
       "0         79545.458574             5.682861                   7.009188   \n",
       "1         79248.642455             6.002900                   6.730821   \n",
       "2         61287.067179             5.865890                   8.512727   \n",
       "3         63345.240046             7.188236                   5.586729   \n",
       "4         59982.197226             5.040555                   7.839388   \n",
       "...                ...                  ...                        ...   \n",
       "4995      60567.944140             7.830362                   6.137356   \n",
       "4996      78491.275435             6.999135                   6.576763   \n",
       "4997      63390.686886             7.250591                   4.805081   \n",
       "4998      68001.331235             5.534388                   7.130144   \n",
       "4999      65510.581804             5.992305                   6.792336   \n",
       "\n",
       "      Avg. Area Number of Bedrooms  Area Population         Price  \n",
       "0                             4.09     23086.800503  1.059034e+06  \n",
       "1                             3.09     40173.072174  1.505891e+06  \n",
       "2                             5.13     36882.159400  1.058988e+06  \n",
       "3                             3.26     34310.242831  1.260617e+06  \n",
       "4                             4.23     26354.109472  6.309435e+05  \n",
       "...                            ...              ...           ...  \n",
       "4995                          3.46     22837.361035  1.060194e+06  \n",
       "4996                          4.02     25616.115489  1.482618e+06  \n",
       "4997                          2.13     33266.145490  1.030730e+06  \n",
       "4998                          5.44     42625.620156  1.198657e+06  \n",
       "4999                          4.07     46501.283803  1.298950e+06  \n",
       "\n",
       "[5000 rows x 6 columns]"
      ]
     },
     "execution_count": 10,
     "metadata": {},
     "output_type": "execute_result"
    }
   ],
   "source": [
    "numeric_data"
   ]
  },
  {
   "cell_type": "code",
   "execution_count": 11,
   "id": "d04be542",
   "metadata": {},
   "outputs": [
    {
     "data": {
      "text/html": [
       "<div>\n",
       "<style scoped>\n",
       "    .dataframe tbody tr th:only-of-type {\n",
       "        vertical-align: middle;\n",
       "    }\n",
       "\n",
       "    .dataframe tbody tr th {\n",
       "        vertical-align: top;\n",
       "    }\n",
       "\n",
       "    .dataframe thead th {\n",
       "        text-align: right;\n",
       "    }\n",
       "</style>\n",
       "<table border=\"1\" class=\"dataframe\">\n",
       "  <thead>\n",
       "    <tr style=\"text-align: right;\">\n",
       "      <th></th>\n",
       "      <th>Address</th>\n",
       "    </tr>\n",
       "  </thead>\n",
       "  <tbody>\n",
       "    <tr>\n",
       "      <th>0</th>\n",
       "      <td>208 Michael Ferry Apt. 674\\nLaurabury, NE 3701...</td>\n",
       "    </tr>\n",
       "    <tr>\n",
       "      <th>1</th>\n",
       "      <td>188 Johnson Views Suite 079\\nLake Kathleen, CA...</td>\n",
       "    </tr>\n",
       "    <tr>\n",
       "      <th>2</th>\n",
       "      <td>9127 Elizabeth Stravenue\\nDanieltown, WI 06482...</td>\n",
       "    </tr>\n",
       "    <tr>\n",
       "      <th>3</th>\n",
       "      <td>USS Barnett\\nFPO AP 44820</td>\n",
       "    </tr>\n",
       "    <tr>\n",
       "      <th>4</th>\n",
       "      <td>USNS Raymond\\nFPO AE 09386</td>\n",
       "    </tr>\n",
       "    <tr>\n",
       "      <th>...</th>\n",
       "      <td>...</td>\n",
       "    </tr>\n",
       "    <tr>\n",
       "      <th>4995</th>\n",
       "      <td>USNS Williams\\nFPO AP 30153-7653</td>\n",
       "    </tr>\n",
       "    <tr>\n",
       "      <th>4996</th>\n",
       "      <td>PSC 9258, Box 8489\\nAPO AA 42991-3352</td>\n",
       "    </tr>\n",
       "    <tr>\n",
       "      <th>4997</th>\n",
       "      <td>4215 Tracy Garden Suite 076\\nJoshualand, VA 01...</td>\n",
       "    </tr>\n",
       "    <tr>\n",
       "      <th>4998</th>\n",
       "      <td>USS Wallace\\nFPO AE 73316</td>\n",
       "    </tr>\n",
       "    <tr>\n",
       "      <th>4999</th>\n",
       "      <td>37778 George Ridges Apt. 509\\nEast Holly, NV 2...</td>\n",
       "    </tr>\n",
       "  </tbody>\n",
       "</table>\n",
       "<p>5000 rows × 1 columns</p>\n",
       "</div>"
      ],
      "text/plain": [
       "                                                Address\n",
       "0     208 Michael Ferry Apt. 674\\nLaurabury, NE 3701...\n",
       "1     188 Johnson Views Suite 079\\nLake Kathleen, CA...\n",
       "2     9127 Elizabeth Stravenue\\nDanieltown, WI 06482...\n",
       "3                             USS Barnett\\nFPO AP 44820\n",
       "4                            USNS Raymond\\nFPO AE 09386\n",
       "...                                                 ...\n",
       "4995                   USNS Williams\\nFPO AP 30153-7653\n",
       "4996              PSC 9258, Box 8489\\nAPO AA 42991-3352\n",
       "4997  4215 Tracy Garden Suite 076\\nJoshualand, VA 01...\n",
       "4998                          USS Wallace\\nFPO AE 73316\n",
       "4999  37778 George Ridges Apt. 509\\nEast Holly, NV 2...\n",
       "\n",
       "[5000 rows x 1 columns]"
      ]
     },
     "execution_count": 11,
     "metadata": {},
     "output_type": "execute_result"
    }
   ],
   "source": [
    "categorical_data"
   ]
  },
  {
   "cell_type": "code",
   "execution_count": 12,
   "id": "1e186228",
   "metadata": {},
   "outputs": [],
   "source": [
    "#finding important features\n",
    "correlation=data.corr()"
   ]
  },
  {
   "cell_type": "code",
   "execution_count": 13,
   "id": "d2aa29c6",
   "metadata": {},
   "outputs": [
    {
     "data": {
      "text/html": [
       "<div>\n",
       "<style scoped>\n",
       "    .dataframe tbody tr th:only-of-type {\n",
       "        vertical-align: middle;\n",
       "    }\n",
       "\n",
       "    .dataframe tbody tr th {\n",
       "        vertical-align: top;\n",
       "    }\n",
       "\n",
       "    .dataframe thead th {\n",
       "        text-align: right;\n",
       "    }\n",
       "</style>\n",
       "<table border=\"1\" class=\"dataframe\">\n",
       "  <thead>\n",
       "    <tr style=\"text-align: right;\">\n",
       "      <th></th>\n",
       "      <th>Avg. Area Income</th>\n",
       "      <th>Avg. Area House Age</th>\n",
       "      <th>Avg. Area Number of Rooms</th>\n",
       "      <th>Avg. Area Number of Bedrooms</th>\n",
       "      <th>Area Population</th>\n",
       "      <th>Price</th>\n",
       "    </tr>\n",
       "  </thead>\n",
       "  <tbody>\n",
       "    <tr>\n",
       "      <th>Avg. Area Income</th>\n",
       "      <td>1.000000</td>\n",
       "      <td>-0.002007</td>\n",
       "      <td>-0.011032</td>\n",
       "      <td>0.019788</td>\n",
       "      <td>-0.016234</td>\n",
       "      <td>0.639734</td>\n",
       "    </tr>\n",
       "    <tr>\n",
       "      <th>Avg. Area House Age</th>\n",
       "      <td>-0.002007</td>\n",
       "      <td>1.000000</td>\n",
       "      <td>-0.009428</td>\n",
       "      <td>0.006149</td>\n",
       "      <td>-0.018743</td>\n",
       "      <td>0.452543</td>\n",
       "    </tr>\n",
       "    <tr>\n",
       "      <th>Avg. Area Number of Rooms</th>\n",
       "      <td>-0.011032</td>\n",
       "      <td>-0.009428</td>\n",
       "      <td>1.000000</td>\n",
       "      <td>0.462695</td>\n",
       "      <td>0.002040</td>\n",
       "      <td>0.335664</td>\n",
       "    </tr>\n",
       "    <tr>\n",
       "      <th>Avg. Area Number of Bedrooms</th>\n",
       "      <td>0.019788</td>\n",
       "      <td>0.006149</td>\n",
       "      <td>0.462695</td>\n",
       "      <td>1.000000</td>\n",
       "      <td>-0.022168</td>\n",
       "      <td>0.171071</td>\n",
       "    </tr>\n",
       "    <tr>\n",
       "      <th>Area Population</th>\n",
       "      <td>-0.016234</td>\n",
       "      <td>-0.018743</td>\n",
       "      <td>0.002040</td>\n",
       "      <td>-0.022168</td>\n",
       "      <td>1.000000</td>\n",
       "      <td>0.408556</td>\n",
       "    </tr>\n",
       "    <tr>\n",
       "      <th>Price</th>\n",
       "      <td>0.639734</td>\n",
       "      <td>0.452543</td>\n",
       "      <td>0.335664</td>\n",
       "      <td>0.171071</td>\n",
       "      <td>0.408556</td>\n",
       "      <td>1.000000</td>\n",
       "    </tr>\n",
       "  </tbody>\n",
       "</table>\n",
       "</div>"
      ],
      "text/plain": [
       "                              Avg. Area Income  Avg. Area House Age  \\\n",
       "Avg. Area Income                      1.000000            -0.002007   \n",
       "Avg. Area House Age                  -0.002007             1.000000   \n",
       "Avg. Area Number of Rooms            -0.011032            -0.009428   \n",
       "Avg. Area Number of Bedrooms          0.019788             0.006149   \n",
       "Area Population                      -0.016234            -0.018743   \n",
       "Price                                 0.639734             0.452543   \n",
       "\n",
       "                              Avg. Area Number of Rooms  \\\n",
       "Avg. Area Income                              -0.011032   \n",
       "Avg. Area House Age                           -0.009428   \n",
       "Avg. Area Number of Rooms                      1.000000   \n",
       "Avg. Area Number of Bedrooms                   0.462695   \n",
       "Area Population                                0.002040   \n",
       "Price                                          0.335664   \n",
       "\n",
       "                              Avg. Area Number of Bedrooms  Area Population  \\\n",
       "Avg. Area Income                                  0.019788        -0.016234   \n",
       "Avg. Area House Age                               0.006149        -0.018743   \n",
       "Avg. Area Number of Rooms                         0.462695         0.002040   \n",
       "Avg. Area Number of Bedrooms                      1.000000        -0.022168   \n",
       "Area Population                                  -0.022168         1.000000   \n",
       "Price                                             0.171071         0.408556   \n",
       "\n",
       "                                 Price  \n",
       "Avg. Area Income              0.639734  \n",
       "Avg. Area House Age           0.452543  \n",
       "Avg. Area Number of Rooms     0.335664  \n",
       "Avg. Area Number of Bedrooms  0.171071  \n",
       "Area Population               0.408556  \n",
       "Price                         1.000000  "
      ]
     },
     "execution_count": 13,
     "metadata": {},
     "output_type": "execute_result"
    }
   ],
   "source": [
    "correlation\n",
    "#Price is the output i.e dependent one we can see Number of bedrooms have a very less correlated we can drop that column too in our analysis"
   ]
  },
  {
   "cell_type": "code",
   "execution_count": 14,
   "id": "31446f8f",
   "metadata": {
    "scrolled": true
   },
   "outputs": [
    {
     "data": {
      "text/plain": [
       "<matplotlib.collections.PathCollection at 0x1708d2e8b00>"
      ]
     },
     "execution_count": 14,
     "metadata": {},
     "output_type": "execute_result"
    },
    {
     "data": {
      "image/png": "[encoded data removed]",
      "text/plain": [
       "<Figure size 640x480 with 1 Axes>"
      ]
     },
     "metadata": {},
     "output_type": "display_data"
    }
   ],
   "source": [
    "#Graphical analysis\n",
    "#scatter plot (observe and show relationships between two numeric variables)\n",
    "plt.scatter(data[\"Avg. Area Income\"], data[\"Price\"])"
   ]
  },
  {
   "cell_type": "code",
   "execution_count": 15,
   "id": "729008c2",
   "metadata": {
    "scrolled": true
   },
   "outputs": [],
   "source": [
    "column_list=numeric_data.columns"
   ]
  },
  {
   "cell_type": "code",
   "execution_count": 16,
   "id": "ad9fd135",
   "metadata": {},
   "outputs": [
    {
     "ename": "NameError",
     "evalue": "name 'columns_list' is not defined",
     "output_type": "error",
     "traceback": [
      "\u001b[1;31m---------------------------------------------------------------------------\u001b[0m",
      "\u001b[1;31mNameError\u001b[0m                                 Traceback (most recent call last)",
      "\u001b[1;32m~\\AppData\\Local\\Temp\\ipykernel_54888\\4252753016.py\u001b[0m in \u001b[0;36m<module>\u001b[1;34m\u001b[0m\n\u001b[0;32m      1\u001b[0m \u001b[0mplt\u001b[0m\u001b[1;33m.\u001b[0m\u001b[0mfigure\u001b[0m\u001b[1;33m(\u001b[0m\u001b[0mfigsize\u001b[0m\u001b[1;33m=\u001b[0m\u001b[1;33m(\u001b[0m\u001b[1;36m12\u001b[0m\u001b[1;33m,\u001b[0m \u001b[1;36m8\u001b[0m\u001b[1;33m)\u001b[0m\u001b[1;33m)\u001b[0m  \u001b[1;31m# Optional: set the figure size\u001b[0m\u001b[1;33m\u001b[0m\u001b[0m\n\u001b[0;32m      2\u001b[0m \u001b[1;33m\u001b[0m\u001b[0m\n\u001b[1;32m----> 3\u001b[1;33m \u001b[1;32mfor\u001b[0m \u001b[0mi\u001b[0m \u001b[1;32min\u001b[0m \u001b[0mcolumns_list\u001b[0m\u001b[1;33m[\u001b[0m\u001b[1;33m:\u001b[0m\u001b[1;33m-\u001b[0m\u001b[1;36m1\u001b[0m\u001b[1;33m]\u001b[0m\u001b[1;33m:\u001b[0m  \u001b[1;31m# Exclude the last column (Price)\u001b[0m\u001b[1;33m\u001b[0m\u001b[0m\n\u001b[0m\u001b[0;32m      4\u001b[0m     \u001b[0mplt\u001b[0m\u001b[1;33m.\u001b[0m\u001b[0mscatter\u001b[0m\u001b[1;33m(\u001b[0m\u001b[0mdata\u001b[0m\u001b[1;33m[\u001b[0m\u001b[0mi\u001b[0m\u001b[1;33m]\u001b[0m\u001b[1;33m,\u001b[0m \u001b[0mdata\u001b[0m\u001b[1;33m[\u001b[0m\u001b[1;34m'Price'\u001b[0m\u001b[1;33m]\u001b[0m\u001b[1;33m,\u001b[0m \u001b[0mlabel\u001b[0m\u001b[1;33m=\u001b[0m\u001b[0mi\u001b[0m\u001b[1;33m)\u001b[0m  \u001b[1;31m# Plot each column against Price\u001b[0m\u001b[1;33m\u001b[0m\u001b[0m\n\u001b[0;32m      5\u001b[0m \u001b[1;33m\u001b[0m\u001b[0m\n",
      "\u001b[1;31mNameError\u001b[0m: name 'columns_list' is not defined"
     ]
    },
    {
     "data": {
      "text/plain": [
       "<Figure size 1200x800 with 0 Axes>"
      ]
     },
     "metadata": {},
     "output_type": "display_data"
    }
   ],
   "source": [
    "plt.figure(figsize=(12, 8))  # Optional: set the figure size\n",
    "\n",
    "for i in columns_list[:-1]:  # Exclude the last column (Price)\n",
    "    plt.scatter(data[i], data['Price'], label=i)  # Plot each column against Price\n",
    "\n",
    "    # Add labels for clarity\n",
    "    plt.xlabel(i)\n",
    "    plt.ylabel('Price')\n",
    "    plt.title(f'Scatter Plot of {i} vs Price')\n",
    "    plt.legend()\n",
    "\n",
    "    # Show each plot\n",
    "    plt.show()"
   ]
  },
  {
   "cell_type": "code",
   "execution_count": 17,
   "id": "5e1aace5",
   "metadata": {},
   "outputs": [],
   "source": [
    "#scatter plot we can see everyone has linear relation with price except the no.of bedrooms and we can check for outliers also from plot"
   ]
  },
  {
   "cell_type": "code",
   "execution_count": 18,
   "id": "812a11c0",
   "metadata": {},
   "outputs": [
    {
     "data": {
      "image/png": "[encoded data removed]",
      "text/plain": [
       "<Figure size 640x480 with 1 Axes>"
      ]
     },
     "metadata": {},
     "output_type": "display_data"
    },
    {
     "data": {
      "image/png": "[encoded data removed]",
      "text/plain": [
       "<Figure size 640x480 with 1 Axes>"
      ]
     },
     "metadata": {},
     "output_type": "display_data"
    },
    {
     "data": {
      "image/png": "[encoded data removed]",
      "text/plain": [
       "<Figure size 640x480 with 1 Axes>"
      ]
     },
     "metadata": {},
     "output_type": "display_data"
    },
    {
     "data": {
      "image/png": "[encoded data removed]",
      "text/plain": [
       "<Figure size 640x480 with 1 Axes>"
      ]
     },
     "metadata": {},
     "output_type": "display_data"
    },
    {
     "data": {
      "image/png": "[encoded data removed]",
      "text/plain": [
       "<Figure size 640x480 with 1 Axes>"
      ]
     },
     "metadata": {},
     "output_type": "display_data"
    }
   ],
   "source": [
    "numeric_columns = ['Avg. Area Income', 'Avg. Area House Age', 'Avg. Area Number of Rooms',\n",
    "                   'Avg. Area Number of Bedrooms', 'Area Population', 'Price']\n",
    "\n",
    "# Create boxplots for selected columns to check for outliers\n",
    "\n",
    "for i in numeric_columns[:-1]:\n",
    "    data.boxplot(column=[i])\n",
    "    plt.title('Boxplot of Numeric Columns '+i)\n",
    "    plt.show()\n",
    "    # Exclude the last column (Price)\n",
    "    \n",
    "\n"
   ]
  },
  {
   "cell_type": "code",
   "execution_count": 19,
   "id": "db758191",
   "metadata": {},
   "outputs": [],
   "source": [
    "#we notice there are many outliers we will remove it in Pre processing"
   ]
  },
  {
   "cell_type": "code",
   "execution_count": 20,
   "id": "99ff5107",
   "metadata": {},
   "outputs": [
    {
     "data": {
      "text/plain": [
       "<AxesSubplot:>"
      ]
     },
     "execution_count": 20,
     "metadata": {},
     "output_type": "execute_result"
    },
    {
     "data": {
      "image/png": "[encoded data removed]",
      "text/plain": [
       "<Figure size 800x600 with 2 Axes>"
      ]
     },
     "metadata": {},
     "output_type": "display_data"
    }
   ],
   "source": [
    "#plottinh heatmap\n",
    "plt.figure(figsize=(8, 6))  # Set the figure size\n",
    "\n",
    "sns.heatmap(correlation)\n"
   ]
  },
  {
   "cell_type": "code",
   "execution_count": null,
   "id": "43e56c02",
   "metadata": {},
   "outputs": [],
   "source": [
    "#EDA analysis \n",
    "1.Price is output column and its dependent\n",
    "2.6 indepedent variable we have\n",
    "3. 5 numerical 1 categorial\n",
    "4. from stats we can see no. of rooms can be dropped in Price predicton as 0.171071 score is this\n",
    "5. scatter plot we see evry feature has linear relation with price except no. of rooms\n",
    "6 . from the box plot we found there are outliers \n",
    "7. from stats analysis it has no null values and duplicated values \n",
    "8. from heat map we see see no. of rooms and Price less correlated and there is corrleation between no. of bedroom and no.of room but not that much that one can be dropped\n",
    "\n"
   ]
  },
  {
   "cell_type": "code",
   "execution_count": null,
   "id": "fec2d92b",
   "metadata": {},
   "outputs": [],
   "source": [
    "####Pre processing the data\n",
    "#no missing value dont need to handle \n",
    "#there are outliers we need to remove that first\n"
   ]
  },
  {
   "cell_type": "code",
   "execution_count": null,
   "id": "d4a424ce",
   "metadata": {},
   "outputs": [],
   "source": [
    "#Removing outlier from \"Avg. Area Income\"\n",
    "data = data[data[\"Avg. Area Income\"] > 40000 ]\n",
    "data = data[data[\"Avg. Area Income\"] < 100000 ]"
   ]
  },
  {
   "cell_type": "code",
   "execution_count": null,
   "id": "e037b2f7",
   "metadata": {},
   "outputs": [],
   "source": [
    "#Removing outlier from \"Avg. Area House Age\"\n",
    "\n",
    "data = data[data[\"Avg. Area House Age\"] > 3.2 ]\n",
    "data = data[data[\"Avg. Area House Age\"] < 8.8 ]"
   ]
  },
  {
   "cell_type": "code",
   "execution_count": null,
   "id": "ebbc1f79",
   "metadata": {},
   "outputs": [],
   "source": [
    "#Removing outlier from \"Avg. Area Number of Rooms\"\n",
    "\n",
    "data = data[data[\"Avg. Area Number of Rooms\"] > 4.2 ]\n",
    "data = data[data[\"Avg. Area Number of Rooms\"] < 9.8 ]"
   ]
  },
  {
   "cell_type": "code",
   "execution_count": null,
   "id": "47a2d8a3",
   "metadata": {},
   "outputs": [],
   "source": [
    "#Removing outlier from \"Area Population \"\n",
    "\n",
    "data = data[data[\"Area Population\"] > 10000 ]\n",
    "data = data[data[\"Area Population\"] < 62000 ]"
   ]
  },
  {
   "cell_type": "code",
   "execution_count": null,
   "id": "e07d43e5",
   "metadata": {},
   "outputs": [],
   "source": [
    "data.info()"
   ]
  },
  {
   "cell_type": "code",
   "execution_count": null,
   "id": "7eb9ec97",
   "metadata": {},
   "outputs": [],
   "source": [
    "#segreagte numerical or categorial\n",
    "numeric_data = data.select_dtypes(exclude=['object'])\n",
    "categorical_data = data.select_dtypes(include=['object'])"
   ]
  },
  {
   "cell_type": "code",
   "execution_count": null,
   "id": "07216598",
   "metadata": {},
   "outputs": [],
   "source": [
    "#standarization (saling the data)\n",
    "from sklearn.preprocessing import StandardScaler\n",
    "scaler = StandardScaler()\n",
    "\n",
    "# Fit and transform the data using StandardScaler\n",
    "scaled_data = scaler.fit_transform(numeric_data)"
   ]
  },
  {
   "cell_type": "code",
   "execution_count": null,
   "id": "e152569b",
   "metadata": {},
   "outputs": [],
   "source": [
    "scaled_data.shape"
   ]
  },
  {
   "cell_type": "code",
   "execution_count": 20,
   "id": "876c13e5",
   "metadata": {},
   "outputs": [],
   "source": [
    "##Training the Model\n",
    "#1.Independent and dependent"
   ]
  },
  {
   "cell_type": "code",
   "execution_count": 21,
   "id": "7fa6e84d",
   "metadata": {},
   "outputs": [
    {
     "data": {
      "text/html": [
       "<div>\n",
       "<style scoped>\n",
       "    .dataframe tbody tr th:only-of-type {\n",
       "        vertical-align: middle;\n",
       "    }\n",
       "\n",
       "    .dataframe tbody tr th {\n",
       "        vertical-align: top;\n",
       "    }\n",
       "\n",
       "    .dataframe thead th {\n",
       "        text-align: right;\n",
       "    }\n",
       "</style>\n",
       "<table border=\"1\" class=\"dataframe\">\n",
       "  <thead>\n",
       "    <tr style=\"text-align: right;\">\n",
       "      <th></th>\n",
       "      <th>Avg. Area Income</th>\n",
       "      <th>Avg. Area House Age</th>\n",
       "      <th>Avg. Area Number of Rooms</th>\n",
       "      <th>Avg. Area Number of Bedrooms</th>\n",
       "      <th>Area Population</th>\n",
       "      <th>Price</th>\n",
       "    </tr>\n",
       "  </thead>\n",
       "  <tbody>\n",
       "    <tr>\n",
       "      <th>0</th>\n",
       "      <td>79545.458574</td>\n",
       "      <td>5.682861</td>\n",
       "      <td>7.009188</td>\n",
       "      <td>4.09</td>\n",
       "      <td>23086.800503</td>\n",
       "      <td>1.059034e+06</td>\n",
       "    </tr>\n",
       "    <tr>\n",
       "      <th>1</th>\n",
       "      <td>79248.642455</td>\n",
       "      <td>6.002900</td>\n",
       "      <td>6.730821</td>\n",
       "      <td>3.09</td>\n",
       "      <td>40173.072174</td>\n",
       "      <td>1.505891e+06</td>\n",
       "    </tr>\n",
       "    <tr>\n",
       "      <th>2</th>\n",
       "      <td>61287.067179</td>\n",
       "      <td>5.865890</td>\n",
       "      <td>8.512727</td>\n",
       "      <td>5.13</td>\n",
       "      <td>36882.159400</td>\n",
       "      <td>1.058988e+06</td>\n",
       "    </tr>\n",
       "    <tr>\n",
       "      <th>3</th>\n",
       "      <td>63345.240046</td>\n",
       "      <td>7.188236</td>\n",
       "      <td>5.586729</td>\n",
       "      <td>3.26</td>\n",
       "      <td>34310.242831</td>\n",
       "      <td>1.260617e+06</td>\n",
       "    </tr>\n",
       "    <tr>\n",
       "      <th>4</th>\n",
       "      <td>59982.197226</td>\n",
       "      <td>5.040555</td>\n",
       "      <td>7.839388</td>\n",
       "      <td>4.23</td>\n",
       "      <td>26354.109472</td>\n",
       "      <td>6.309435e+05</td>\n",
       "    </tr>\n",
       "    <tr>\n",
       "      <th>...</th>\n",
       "      <td>...</td>\n",
       "      <td>...</td>\n",
       "      <td>...</td>\n",
       "      <td>...</td>\n",
       "      <td>...</td>\n",
       "      <td>...</td>\n",
       "    </tr>\n",
       "    <tr>\n",
       "      <th>4995</th>\n",
       "      <td>60567.944140</td>\n",
       "      <td>7.830362</td>\n",
       "      <td>6.137356</td>\n",
       "      <td>3.46</td>\n",
       "      <td>22837.361035</td>\n",
       "      <td>1.060194e+06</td>\n",
       "    </tr>\n",
       "    <tr>\n",
       "      <th>4996</th>\n",
       "      <td>78491.275435</td>\n",
       "      <td>6.999135</td>\n",
       "      <td>6.576763</td>\n",
       "      <td>4.02</td>\n",
       "      <td>25616.115489</td>\n",
       "      <td>1.482618e+06</td>\n",
       "    </tr>\n",
       "    <tr>\n",
       "      <th>4997</th>\n",
       "      <td>63390.686886</td>\n",
       "      <td>7.250591</td>\n",
       "      <td>4.805081</td>\n",
       "      <td>2.13</td>\n",
       "      <td>33266.145490</td>\n",
       "      <td>1.030730e+06</td>\n",
       "    </tr>\n",
       "    <tr>\n",
       "      <th>4998</th>\n",
       "      <td>68001.331235</td>\n",
       "      <td>5.534388</td>\n",
       "      <td>7.130144</td>\n",
       "      <td>5.44</td>\n",
       "      <td>42625.620156</td>\n",
       "      <td>1.198657e+06</td>\n",
       "    </tr>\n",
       "    <tr>\n",
       "      <th>4999</th>\n",
       "      <td>65510.581804</td>\n",
       "      <td>5.992305</td>\n",
       "      <td>6.792336</td>\n",
       "      <td>4.07</td>\n",
       "      <td>46501.283803</td>\n",
       "      <td>1.298950e+06</td>\n",
       "    </tr>\n",
       "  </tbody>\n",
       "</table>\n",
       "<p>5000 rows × 6 columns</p>\n",
       "</div>"
      ],
      "text/plain": [
       "      Avg. Area Income  Avg. Area House Age  Avg. Area Number of Rooms  \\\n",
       "0         79545.458574             5.682861                   7.009188   \n",
       "1         79248.642455             6.002900                   6.730821   \n",
       "2         61287.067179             5.865890                   8.512727   \n",
       "3         63345.240046             7.188236                   5.586729   \n",
       "4         59982.197226             5.040555                   7.839388   \n",
       "...                ...                  ...                        ...   \n",
       "4995      60567.944140             7.830362                   6.137356   \n",
       "4996      78491.275435             6.999135                   6.576763   \n",
       "4997      63390.686886             7.250591                   4.805081   \n",
       "4998      68001.331235             5.534388                   7.130144   \n",
       "4999      65510.581804             5.992305                   6.792336   \n",
       "\n",
       "      Avg. Area Number of Bedrooms  Area Population         Price  \n",
       "0                             4.09     23086.800503  1.059034e+06  \n",
       "1                             3.09     40173.072174  1.505891e+06  \n",
       "2                             5.13     36882.159400  1.058988e+06  \n",
       "3                             3.26     34310.242831  1.260617e+06  \n",
       "4                             4.23     26354.109472  6.309435e+05  \n",
       "...                            ...              ...           ...  \n",
       "4995                          3.46     22837.361035  1.060194e+06  \n",
       "4996                          4.02     25616.115489  1.482618e+06  \n",
       "4997                          2.13     33266.145490  1.030730e+06  \n",
       "4998                          5.44     42625.620156  1.198657e+06  \n",
       "4999                          4.07     46501.283803  1.298950e+06  \n",
       "\n",
       "[5000 rows x 6 columns]"
      ]
     },
     "execution_count": 21,
     "metadata": {},
     "output_type": "execute_result"
    }
   ],
   "source": [
    "numeric_data"
   ]
  },
  {
   "cell_type": "code",
   "execution_count": null,
   "id": "f25f4b81",
   "metadata": {},
   "outputs": [],
   "source": []
  },
  {
   "cell_type": "code",
   "execution_count": 22,
   "id": "3871d309",
   "metadata": {},
   "outputs": [],
   "source": [
    "numeric_data_x=numeric_data[numeric_data.columns[:-1]]#Independent features 5\n",
    "numeric_data_y=numeric_data[numeric_data.columns[-1]]#Dependent feature"
   ]
  },
  {
   "cell_type": "code",
   "execution_count": 23,
   "id": "f0831ddf",
   "metadata": {},
   "outputs": [
    {
     "name": "stdout",
     "output_type": "stream",
     "text": [
      "      Avg. Area Income  Avg. Area House Age  Avg. Area Number of Rooms  \\\n",
      "0         79545.458574             5.682861                   7.009188   \n",
      "1         79248.642455             6.002900                   6.730821   \n",
      "2         61287.067179             5.865890                   8.512727   \n",
      "3         63345.240046             7.188236                   5.586729   \n",
      "4         59982.197226             5.040555                   7.839388   \n",
      "...                ...                  ...                        ...   \n",
      "4995      60567.944140             7.830362                   6.137356   \n",
      "4996      78491.275435             6.999135                   6.576763   \n",
      "4997      63390.686886             7.250591                   4.805081   \n",
      "4998      68001.331235             5.534388                   7.130144   \n",
      "4999      65510.581804             5.992305                   6.792336   \n",
      "\n",
      "      Avg. Area Number of Bedrooms  Area Population  \n",
      "0                             4.09     23086.800503  \n",
      "1                             3.09     40173.072174  \n",
      "2                             5.13     36882.159400  \n",
      "3                             3.26     34310.242831  \n",
      "4                             4.23     26354.109472  \n",
      "...                            ...              ...  \n",
      "4995                          3.46     22837.361035  \n",
      "4996                          4.02     25616.115489  \n",
      "4997                          2.13     33266.145490  \n",
      "4998                          5.44     42625.620156  \n",
      "4999                          4.07     46501.283803  \n",
      "\n",
      "[5000 rows x 5 columns]\n",
      "0       1.059034e+06\n",
      "1       1.505891e+06\n",
      "2       1.058988e+06\n",
      "3       1.260617e+06\n",
      "4       6.309435e+05\n",
      "            ...     \n",
      "4995    1.060194e+06\n",
      "4996    1.482618e+06\n",
      "4997    1.030730e+06\n",
      "4998    1.198657e+06\n",
      "4999    1.298950e+06\n",
      "Name: Price, Length: 5000, dtype: float64\n"
     ]
    }
   ],
   "source": [
    "print(numeric_data_x)\n",
    "print(numeric_data_y)"
   ]
  },
  {
   "cell_type": "code",
   "execution_count": 24,
   "id": "0fb260f9",
   "metadata": {},
   "outputs": [],
   "source": [
    "# Dividing into training data and  test data\n",
    "from sklearn.model_selection import train_test_split\n",
    "X_train, X_test, y_train, y_test = train_test_split(numeric_data_x, numeric_data_y, test_size=0.2, random_state=42)"
   ]
  },
  {
   "cell_type": "code",
   "execution_count": 25,
   "id": "005ecf36",
   "metadata": {},
   "outputs": [
    {
     "data": {
      "text/plain": [
       "(4000, 5)"
      ]
     },
     "execution_count": 25,
     "metadata": {},
     "output_type": "execute_result"
    }
   ],
   "source": [
    "X_train.shape"
   ]
  },
  {
   "cell_type": "code",
   "execution_count": 26,
   "id": "3ea56bd0",
   "metadata": {},
   "outputs": [
    {
     "data": {
      "text/plain": [
       "(4000,)"
      ]
     },
     "execution_count": 26,
     "metadata": {},
     "output_type": "execute_result"
    }
   ],
   "source": [
    "y_train.shape"
   ]
  },
  {
   "cell_type": "code",
   "execution_count": 27,
   "id": "e6ec81ae",
   "metadata": {},
   "outputs": [
    {
     "data": {
      "text/plain": [
       "(1000, 5)"
      ]
     },
     "execution_count": 27,
     "metadata": {},
     "output_type": "execute_result"
    }
   ],
   "source": [
    "X_test.shape"
   ]
  },
  {
   "cell_type": "code",
   "execution_count": 28,
   "id": "9669556d",
   "metadata": {},
   "outputs": [
    {
     "data": {
      "text/plain": [
       "(1000,)"
      ]
     },
     "execution_count": 28,
     "metadata": {},
     "output_type": "execute_result"
    }
   ],
   "source": [
    "y_test.shape"
   ]
  },
  {
   "cell_type": "code",
   "execution_count": 29,
   "id": "666a47a0",
   "metadata": {},
   "outputs": [],
   "source": [
    "##standarization\n",
    "from sklearn.preprocessing import StandardScaler\n",
    "scaler = StandardScaler()\n",
    "\n",
    "# Fit and transform the data using StandardScaler\n",
    "scaled_data_X_train = scaler.fit_transform(X_train)\n",
    "scaled_data_X_test = scaler.transform(X_test)\n"
   ]
  },
  {
   "cell_type": "code",
   "execution_count": 30,
   "id": "742d09d2",
   "metadata": {},
   "outputs": [
    {
     "data": {
      "text/plain": [
       "array([[-0.19049241, -0.12817719, -0.13160635,  0.12038585, -0.82761782],\n",
       "       [-1.38876401,  0.43080443,  0.80028487, -0.55648895,  1.15829878],\n",
       "       [-0.35012392,  0.46680752,  1.70375078,  0.03067955, -0.31904298],\n",
       "       ...,\n",
       "       [-0.22335061,  0.53809182, -0.36489661, -0.68697084,  0.11908894],\n",
       "       [-0.92417067,  1.43077434,  2.26846315,  0.2753331 ,  1.39018355],\n",
       "       [-0.69357335, -0.07762332,  0.89219611,  1.67801341, -0.00681852]])"
      ]
     },
     "execution_count": 30,
     "metadata": {},
     "output_type": "execute_result"
    }
   ],
   "source": [
    "scaled_data_X_train"
   ]
  },
  {
   "cell_type": "code",
   "execution_count": 31,
   "id": "e672ee9b",
   "metadata": {},
   "outputs": [
    {
     "data": {
      "text/plain": [
       "array([[-0.62396497,  1.05134233, -0.53493732, -0.59726454,  0.77509854],\n",
       "       [-1.06752524,  0.92593776, -0.05804915, -0.69512596,  0.73880748],\n",
       "       [ 0.14995479,  0.77674776, -0.31465336, -1.60849918, -0.69076777],\n",
       "       ...,\n",
       "       [ 1.16115701,  1.18417775,  0.25662849,  1.18870632,  0.93991305],\n",
       "       [ 1.69832503,  0.56046124, -1.85607396, -1.54325824,  1.16585758],\n",
       "       [-0.14145775, -1.04516314,  0.64633545,  0.8625016 , -0.40292631]])"
      ]
     },
     "execution_count": 31,
     "metadata": {},
     "output_type": "execute_result"
    }
   ],
   "source": [
    "scaled_data_X_test"
   ]
  },
  {
   "cell_type": "code",
   "execution_count": 32,
   "id": "59f49b42",
   "metadata": {},
   "outputs": [
    {
     "data": {
      "text/plain": [
       "LinearRegression()"
      ]
     },
     "execution_count": 32,
     "metadata": {},
     "output_type": "execute_result"
    }
   ],
   "source": [
    "##Model training by Linear resgression\n",
    "from sklearn.linear_model import LinearRegression\n",
    "regression=LinearRegression()\n",
    "regression.fit(scaled_data_X_train,y_train)"
   ]
  },
  {
   "cell_type": "code",
   "execution_count": 33,
   "id": "021b03f4",
   "metadata": {},
   "outputs": [
    {
     "data": {
      "text/plain": [
       "array([231741.87665217, 163580.77656614, 120724.77138745,   2992.44913541,\n",
       "       152235.90009699])"
      ]
     },
     "execution_count": 33,
     "metadata": {},
     "output_type": "execute_result"
    }
   ],
   "source": [
    "#printing coef\n",
    "regression.coef_"
   ]
  },
  {
   "cell_type": "code",
   "execution_count": 34,
   "id": "fe1f1050",
   "metadata": {},
   "outputs": [
    {
     "data": {
      "text/plain": [
       "1229576.99256009"
      ]
     },
     "execution_count": 34,
     "metadata": {},
     "output_type": "execute_result"
    }
   ],
   "source": [
    "regression.intercept_"
   ]
  },
  {
   "cell_type": "code",
   "execution_count": 35,
   "id": "e18940b3",
   "metadata": {},
   "outputs": [],
   "source": [
    "###reg_prediction\n",
    "reg_predict=regression.predict(scaled_data_X_test)\n"
   ]
  },
  {
   "cell_type": "code",
   "execution_count": 36,
   "id": "b8d11248",
   "metadata": {},
   "outputs": [
    {
     "data": {
      "text/plain": [
       "array([1308587.92699753, 1237037.22949428, 1243429.34030687,\n",
       "       1228900.21360379, 1063320.9071082 , 1544058.05034856,\n",
       "       1094774.70493022,  833284.72339228,  788412.85578724,\n",
       "       1469714.86615707,  671728.43662066, 1606818.21977935,\n",
       "       1004166.61331062, 1796798.97595927, 1288566.96221017,\n",
       "       1087782.93301077, 1423072.37492526, 1078178.68169673,\n",
       "        802286.03537901,  930761.03695714, 1134829.86477819,\n",
       "        916398.42023136, 1489972.69335422, 1284580.15538819,\n",
       "       1582071.3532273 , 1132519.15991993, 1089888.39644513,\n",
       "        974510.51872158,  924057.96820669, 1740759.72092272,\n",
       "       1286481.5951232 , 1621289.9517161 , 1435264.20161716,\n",
       "       1234014.77924483, 1485434.57300368, 1718335.00753687,\n",
       "       1538953.74882846,  777106.64791795, 1765201.52243617,\n",
       "       1175972.1419982 , 1553707.94323484,  897703.67505177,\n",
       "       1371049.80326608,  845281.72310358, 1201022.89803883,\n",
       "       1133285.98450856, 1363128.14557352, 1449814.08768269,\n",
       "       1574363.90467353, 1233577.50265971, 1484464.01606206,\n",
       "       1295276.5894355 , 1222136.77335287,  990124.41659783,\n",
       "       1693824.96035767, 1823785.05665098, 1136495.63903356,\n",
       "       1282164.40305634, 1327292.0544315 , 1353355.51909084,\n",
       "        966265.44345958,  661906.63917318, 1533750.56861   ,\n",
       "       1002479.76053659,  995799.79959537, 1567349.59707243,\n",
       "       1500813.63482575, 1090078.00056424, 1820964.84741687,\n",
       "       1479856.16724362,  902785.3021607 , 1494542.21679587,\n",
       "       1378859.29762368,  962610.88478571,  712800.76347479,\n",
       "       1565650.37425306, 1149218.97654372,  931311.21938344,\n",
       "       1600923.95574326,  506875.42639206, 1592924.03164876,\n",
       "       1292023.54953345,  681260.98813948,  432977.16110003,\n",
       "       1395334.63471214,  696834.50740128,  663613.86440609,\n",
       "       1030075.8256702 , 1485134.02140126, 1320071.7532911 ,\n",
       "       1271264.11329312, 1422274.66428993,  671601.8958332 ,\n",
       "       1149995.64271578, 1261301.82190815,  784691.75366839,\n",
       "       1189915.30485933, 1014887.17531208, 1405378.85714974,\n",
       "       1539076.97995915,  593301.15079215, 1391801.76393835,\n",
       "       1262742.70864071, 1875132.68141895, 2336899.33387145,\n",
       "        946302.25269158, 1315655.58002703,  953107.00437485,\n",
       "       1831758.27483189, 1625882.69024163, 1639245.35999713,\n",
       "       1267016.02457592, 1804840.84718865, 1220829.46104254,\n",
       "        850670.8593464 , 1584187.59595384,  761904.58839441,\n",
       "       1360032.80169306, 1186062.16197453, 1559470.32105866,\n",
       "       1770323.74482786, 1608248.53684161, 1573661.86962671,\n",
       "       1531208.643762  , 1812547.75249827, 1124965.3786236 ,\n",
       "        669517.22471198,  978249.45590807, 1316294.24560632,\n",
       "       1627775.48942888, 1343329.23943771, 1088746.2176744 ,\n",
       "       1516813.82322278, 1333391.562564  , 1421961.53699945,\n",
       "       1527965.13951308, 1674048.5694694 , 1301125.76637798,\n",
       "        843902.14276129, 1439397.74699529, 1857462.44038398,\n",
       "       1090388.23396924, 1845464.91767034, 1272015.37672477,\n",
       "       2036878.56552224,  882686.73444801,  954142.09498701,\n",
       "       1116676.58455374, 1395124.12307559, 1510721.91006255,\n",
       "        952949.66077823,  969883.09423411, 1320445.66982244,\n",
       "       1494548.61488436, 1311797.03936304,  764593.88740283,\n",
       "       1729945.04026354,  966390.95323434, 1980014.56655157,\n",
       "       1253548.56040175, 1378043.01470114, 1465705.85673362,\n",
       "       1041643.25777137, 2016178.12307685, 1425286.31755893,\n",
       "        783766.0559874 ,  826322.77792506, 1753896.36530117,\n",
       "       1077079.69502187, 2073701.72252869, 1735967.08463087,\n",
       "       1049433.84156024, 1829294.89844263, 1128895.79613789,\n",
       "       1629029.35283931, 1634470.42260721, 1524785.70964574,\n",
       "        722156.79424148,  740342.6213118 ,  547622.83148174,\n",
       "        828931.14665384, 1067364.15017838,  969253.52659217,\n",
       "       1227292.55245929,  871755.12799321,  504202.02965933,\n",
       "       1200044.47873911, 1062310.88487676, 1519500.99297217,\n",
       "       1329223.54689563, 1386542.64820157, 1320937.40536535,\n",
       "       1204359.90632369, 1240619.19034585, 1365626.9148404 ,\n",
       "       1769953.37847156, 1329720.91129388, 1376332.51764138,\n",
       "       1298990.36407934,  834744.40310691, 1272066.20149398,\n",
       "       1451499.03548571, 1289190.82085873,  896873.03598605,\n",
       "        990437.07011064, 1357842.65851701, 1649364.37150986,\n",
       "        779324.24924987, 1005588.56759391, 1467831.8143514 ,\n",
       "       1124908.45994292, 1142768.93653071, 1250196.34738781,\n",
       "       1105424.47695209,  622294.93861755, 1841657.41212543,\n",
       "       1182731.53995535,  609160.57633582, 1410661.53419285,\n",
       "       1263529.22101351, 1119673.80759923, 1145399.95692909,\n",
       "        500449.33290936, 1109883.63039247, 1626981.19957433,\n",
       "        797675.8443249 , 1407092.10326882, 1560733.66870763,\n",
       "       1698894.16984507, 1714320.59543068, 1216152.65562659,\n",
       "       1114774.40354013, 1001067.89613666, 1065269.68436431,\n",
       "       1625179.02290143, 1593962.78450215, 1526221.35988258,\n",
       "       1129983.77332892,  735887.82286943, 1593872.80909068,\n",
       "       1732256.51293198, 1264953.46131032, 1216712.64382582,\n",
       "       1539828.39332796, 1748273.31153999,  544482.71161661,\n",
       "       1177808.65915496, 1404019.93663773, 1125393.51909433,\n",
       "        545088.45128042, 1290749.88927789, 1658361.89913354,\n",
       "       1487203.28008238, 1291143.03838434, 2050455.16760477,\n",
       "        768874.19747942, 1863631.84714407,  929819.17764112,\n",
       "       1761083.62018226, 1659001.75083663, 1247438.96208985,\n",
       "        713427.40837863, 1778756.53025779,  461932.49611751,\n",
       "       2167306.95873264,  664672.4243193 , 1801836.6236774 ,\n",
       "       1265099.1880536 , 1139217.30086017, 1173989.48300949,\n",
       "       1748192.41949269, 1147793.31302187, 1029923.90766746,\n",
       "        947126.10538084, 1182469.49434707,  927601.20005205,\n",
       "       1566514.61685738, 1175827.55938908,  388087.54801484,\n",
       "       1288959.37006145,  986658.19197298, 1340019.64945833,\n",
       "       1044418.84541083, 1286342.56336186, 1531000.55785357,\n",
       "       1667768.88543332, 1084796.51405699,  720967.43062555,\n",
       "        811997.72885684, 1328871.66384414, 1519499.8441614 ,\n",
       "       1379415.47205365, 1457746.58240932,  998979.73972465,\n",
       "       2252173.82126783, 1491966.70905193, 1349013.08643534,\n",
       "       1042666.25727805,  486559.46844395, 1792549.96363362,\n",
       "       1193458.84754759, 1247203.2650346 , 1122698.470459  ,\n",
       "       1004013.28018439, 1699121.45816285, 1504252.14207265,\n",
       "       1432835.58985619, 1342786.68025929, 1601414.77106587,\n",
       "        821506.76488328, 1126578.53904203, 1291476.44544075,\n",
       "       1698968.44222487, 1232602.93325316, 1489643.67510282,\n",
       "       1233262.35005563, 1135048.11749458, 1732127.82573486,\n",
       "       1348162.21747035,  621085.0664122 , 1501389.10755783,\n",
       "       1201749.81984403, 1326727.70232235, 1097551.72695623,\n",
       "       1221290.66261425,  788262.02543894,  935562.28249786,\n",
       "       1287412.17867104, 1473888.6775775 ,  609893.86640511,\n",
       "       1183181.37838133, 1035484.44410104,  809285.45806948,\n",
       "        655567.08949344,  983743.80081309,  986631.41757969,\n",
       "       1320596.6797412 , 1196954.70045302,  961010.91970381,\n",
       "       1275847.42178946, 1425242.66569539, 1654320.5462463 ,\n",
       "       1521722.43867606, 1396978.62698702, 1413827.92718154,\n",
       "       1219885.02000701, 1232374.59901522, 1654016.63386537,\n",
       "       1328324.05157968, 1321091.57152387, 1299216.74514674,\n",
       "       1347305.90163771, 1688687.80000864, 1574519.36949694,\n",
       "       1045335.69889284, 1356261.70016948, 1439514.97152499,\n",
       "       1504156.15649869, 1138145.82597035, 1500051.72294337,\n",
       "       1486912.30437998,  385027.92485999, 1216217.42146594,\n",
       "       1726329.91434923, 1207805.98489514,  894601.19092626,\n",
       "       1240643.83179285, 1308440.22054395, 1437359.37891257,\n",
       "        893239.68166879, 1792787.36750125, 2076933.42343302,\n",
       "        922567.65701986, 1458351.25849102, 1249772.50297785,\n",
       "       1370805.2390778 , 1121245.98909368,  963231.49570943,\n",
       "       1327241.12918493, 1187327.23418147,  943716.6227825 ,\n",
       "        424854.57298685, 1223724.58352513, 1411756.82716383,\n",
       "       1236002.32151805, 1449021.08575985, 1411706.42320678,\n",
       "        926881.67780977, 1006631.71873009, 1325140.65527606,\n",
       "        470014.10664424, 1568408.5462066 , 1071690.67501272,\n",
       "       1261709.43785533,  983184.15258551, 1086377.76905151,\n",
       "        726363.6082078 ,  814172.12713781,  803025.54888494,\n",
       "       1619615.99437113,  459335.13663637, 1300390.90011237,\n",
       "        961516.33244589, 1025131.0402014 , 1384778.89206895,\n",
       "       1235853.66369869,  769788.89201956, 1026166.69741535,\n",
       "       1405638.84930899, 1756291.11652805, 1280487.11746948,\n",
       "        622591.98844804, 1449923.84156164, 1198418.94698595,\n",
       "       1356968.16583368, 1079271.72703226, 1352329.772969  ,\n",
       "       1057107.45852897, 1290462.77150206,  705163.48550151,\n",
       "       1200364.66997085, 1507695.00401127,  962337.84598505,\n",
       "       1204232.84729745, 1571860.58065069, 1209464.7385739 ,\n",
       "       1549865.08072289,  769645.60725032, 1404674.43922868,\n",
       "       1240637.52783343, 1029500.08001608, 1335457.58612478,\n",
       "       1088594.03736515, 1047144.04180916, 1388984.12610584,\n",
       "        918924.0160506 , 1096407.50174601, 1406966.35948342,\n",
       "        806952.29876919, 1196187.41426746, 1010141.32136393,\n",
       "       1394711.98478674, 1257521.42006921, 1299693.11290881,\n",
       "       1294970.94288743, 1723105.21964963, 1711247.39032019,\n",
       "       1174489.95194177,  897740.74110076, 1356640.83884512,\n",
       "       1219851.0344761 , 1366674.22214328, 1644472.14734956,\n",
       "        724989.37808688, 1570999.00692569,  924989.36290681,\n",
       "        673283.26497681, 1589694.70648673, 1373578.19145103,\n",
       "       1236758.80570285, 1939038.59441381, 1248340.03854162,\n",
       "       1393184.15037959, 1703469.17720872, 1059230.86749252,\n",
       "       1268676.36389754, 1304697.18785125,  892460.12277118,\n",
       "        964864.99058504,  818820.07759955, 1401580.54747599,\n",
       "       1180874.94215969, 1259247.43803584, 1702902.0449321 ,\n",
       "       1649087.11983952, 1731289.88335339, 1125719.05993073,\n",
       "        865172.86237619,  968232.22605803,  784711.55849789,\n",
       "        781822.82332183, 1209737.47415571,  972635.23672588,\n",
       "       1576919.83616685, 1060076.42506713,  694196.84219458,\n",
       "       1610587.6799302 , 1309658.61630396, 1141463.96987403,\n",
       "       1205906.98599982, 1281336.18444196, 1171886.92407696,\n",
       "       1567896.45068222, 1322659.49232209, 1166515.84227938,\n",
       "        789697.38830697, 1143720.96771717,  648247.70636875,\n",
       "       1071126.44204648, 1428574.57982148, 1424322.83234077,\n",
       "       1057501.45875363, 1430509.55156463, 1324079.70373617,\n",
       "       1292014.89736639, 1071126.32745136, 1287175.72484572,\n",
       "       1019167.68338679, 1037478.15144002, 1049936.76364932,\n",
       "        731789.1846748 ,  782568.7730998 , 1002203.86002298,\n",
       "       1067321.67597081, 1124201.97076036, 1457954.83235615,\n",
       "       1108354.56185649, 1598770.07901397, 1176022.85579926,\n",
       "       1096986.73368026, 1247383.41805667, 1363559.48178174,\n",
       "        773372.64579646,  822330.64613232,  993393.81206808,\n",
       "       1543915.0952089 , 1493186.91902698, 1175891.67528421,\n",
       "       1253692.12639572, 1521005.76686472, 1627802.51180481,\n",
       "       1686082.39992531, 1980124.37797512,  977460.80106586,\n",
       "       1109687.22060448, 1113007.40549511, 1211544.64900674,\n",
       "       1407486.32673221,  789313.25630093, 1234898.66189969,\n",
       "       1209078.69432798, 1803383.95080035, 2114888.79328749,\n",
       "       1118853.92157735, 1206707.38468588, 1352852.99343915,\n",
       "       1396175.67664047, 1546374.75741946,  666842.59065999,\n",
       "       1481420.71952328, 1021477.4551856 ,  968486.88335868,\n",
       "       1424082.26366316, 1914787.24107147,  914204.87835355,\n",
       "       1489860.90731119,  693922.34630683, 1031062.51065996,\n",
       "       1352126.03254335, 1373512.52703591, 1049109.83383339,\n",
       "       1486525.47762758, 1310520.39595899, 1647941.99311853,\n",
       "       1283575.24055862, 1452989.07762655, 1429414.83148142,\n",
       "       1034083.03488033, 1134634.51460331, 1403564.88673515,\n",
       "       1584896.61276085, 1746823.45559164, 1466283.2597361 ,\n",
       "       1294745.41392547, 1051682.47255803, 1101548.76032242,\n",
       "       1465167.00089538, 1382725.06572444,  939224.93035369,\n",
       "       1337350.7679938 , 1120979.59498042, 1319831.03770846,\n",
       "        558962.93258733, 1401611.09978713, 1354544.0730603 ,\n",
       "       1306334.89969625, 2086259.17091994, 1904134.11165524,\n",
       "        539895.35619531, 1525528.05146321, 1235213.44650025,\n",
       "        750639.88255388, 1127965.9825883 , 1471490.85051137,\n",
       "        619419.48787426, 1114997.6119442 , 1061464.69123059,\n",
       "       1013604.11379731, 1581434.852274  , 1079499.50514174,\n",
       "       1055056.29175873, 1034589.95466514, 1224314.04495453,\n",
       "        887268.18862764, 1516254.20491763, 1865327.56742205,\n",
       "       1027371.06429442, 1490055.38180703, 1337289.95134347,\n",
       "       1119421.33157706,  979092.31019066,  679557.25776105,\n",
       "       1325905.50178095, 1171590.73226992, 1567491.1233194 ,\n",
       "       1143856.19166757, 1126148.64416495,  864154.38857824,\n",
       "        490147.41546337, 1291071.27278517, 1038384.50618612,\n",
       "       1662679.55956725, 1160624.90934374, 2037284.10126632,\n",
       "       1516262.89327461, 1229075.23311269, 1547218.08935949,\n",
       "       1434753.6539265 , 1709132.86008351, 1281184.0997553 ,\n",
       "       1524044.07660792,  968015.40091316, 1293671.18547108,\n",
       "       1106474.84699344, 1431104.22750486, 1712068.30269059,\n",
       "       1160254.525011  ,  655742.41586152, 1226710.9838983 ,\n",
       "        927585.91056677, 1267635.28046136,  891680.82011569,\n",
       "       1234379.98343485,  921258.67102358,  973622.38506842,\n",
       "       1211118.49159499, 1152861.17191024, 1769241.04652306,\n",
       "       1185559.0243725 ,  982633.08890849, 1332532.61460759,\n",
       "       1642473.93936989,  965382.5714693 , 1281975.93146422,\n",
       "       1406343.90582015,  677673.85740129, 1209557.69139077,\n",
       "        732921.1063637 , 1682132.45242375,  872620.43651355,\n",
       "       1136143.09175226,  510258.75506183, 1288102.88621598,\n",
       "       1371033.33463941, 1310113.78224338, 1436855.31241162,\n",
       "       1051232.72974611,  684828.48739325, 1101019.83617952,\n",
       "       1567983.51294877, 1018012.68216317, 1050698.1127027 ,\n",
       "        825827.00943838, 1173621.66011293, 1591981.7573017 ,\n",
       "       1595728.99149265, 1360891.37529098, 1192754.82897985,\n",
       "        655836.47938465, 1560112.78530449,  813169.25379899,\n",
       "       1132145.75967406, 1564590.92451771, 1118669.76459815,\n",
       "       1569760.45331559, 1383018.33137048, 1609536.23008597,\n",
       "       1045549.71074358, 1174361.92171495, 1447869.79959205,\n",
       "       1824783.76109704, 1639844.91468792, 1488884.7852755 ,\n",
       "       1427514.92585404, 1231681.33305862, 1368014.03189644,\n",
       "       1424922.7358478 , 1551131.49668378,  914701.22781689,\n",
       "       1249841.22219087,  258045.70919516, 1230968.7015731 ,\n",
       "       1126752.12639159,  858783.44109477,  739043.62099853,\n",
       "       1044214.90471308, 1112387.6076787 , 1223250.56468717,\n",
       "       1447909.23403631, 1328619.03653288, 1049307.01433395,\n",
       "        769590.67267106, 1751850.88833475, 1463027.89759093,\n",
       "       2139919.1095231 , 1718412.13713038, 1115993.45943523,\n",
       "       1995828.29499023, 1193379.31596039,  660188.5602834 ,\n",
       "        660678.46196095, 1798655.55037113,  470131.44658338,\n",
       "       1364102.16506275,  889323.7068392 ,  706548.24954176,\n",
       "       1399891.22458722, 1416306.27235873,  967240.32613279,\n",
       "       1729652.56536678,  869958.83238851, 1437817.09450813,\n",
       "       1122484.53203989, 1673255.03691753, 1440039.59230988,\n",
       "       1500539.4053899 ,  971584.2741693 , 1043184.93567319,\n",
       "       1317543.16932968, 1007627.13026032, 1323354.40365531,\n",
       "       1135667.17490202, 1510351.76679844,  993056.44789456,\n",
       "       1208831.65832734, 1988655.6429112 , 1230200.72390611,\n",
       "       1390403.72276647, 1262914.99801444, 1582327.50953636,\n",
       "       1028414.83031287, 1672107.67442163, 1265752.82959183,\n",
       "       1236601.43306955,  329710.11232869,  717954.11280889,\n",
       "       1103733.13974499, 1188712.89825714, 1261796.72795395,\n",
       "       1193848.8215223 , 1303384.58750895, 1076900.53575834,\n",
       "       1169750.68418018, 1458470.38909855, 1190650.84525944,\n",
       "       1360612.20338318, 1497401.76740677,  916161.01831796,\n",
       "       1311284.98583219, 1579839.09403361, 1155915.54541597,\n",
       "       1425748.4937613 , 1287287.54555766, 1153862.22489238,\n",
       "       1825980.94614801, 1049734.15221287,  909542.47470201,\n",
       "       1253936.42188576, 1467206.44416923, 1639991.73405575,\n",
       "       1521767.7749176 , 1019769.20382371,  652300.40469407,\n",
       "        643377.6527162 , 1142025.91271099, 1263237.98299643,\n",
       "       1258087.11819222,  589606.05536901, 1187007.16456455,\n",
       "       1121740.50402059, 1808959.71031398, 1800055.63690854,\n",
       "       1123524.63673947, 1425287.86106951, 1510529.7121509 ,\n",
       "       1323072.46306195, 1443101.22620917, 1296655.190339  ,\n",
       "       1551943.68696695, 1237292.00298133,  665445.49485713,\n",
       "       1262709.17153434, 1048886.41492113, 1867303.54970983,\n",
       "       1562894.27356995,  731321.70170494, 1239100.56464211,\n",
       "        909236.28293364, 1752100.42286151, 1602831.78580386,\n",
       "       1504851.06631695, 1411568.94781539, 1394422.38818576,\n",
       "        370722.62126882, 1672311.97769413, 2120154.65355483,\n",
       "        421201.54386708, 1486648.1916993 , 1200115.3067195 ,\n",
       "       1531544.96637818, 1031782.76469189,  842914.91778104,\n",
       "        838950.4067655 ,  596819.74942474,  855574.21947017,\n",
       "       1040351.51174882, 1499196.39432615, 1353188.18645242,\n",
       "       1167128.79448681,  980462.42074907, 1615652.70345442,\n",
       "       1192255.12726467, 1280277.40202401,  542769.58059226,\n",
       "       1121564.11390502, 1430520.80041332, 1187720.59708734,\n",
       "       1293444.79096469, 1344677.83092678, 1183418.13056156,\n",
       "       1508087.09800653, 1265155.245089  , 1342605.87097174,\n",
       "       1277584.98121778,  733241.48650832, 1553389.38956839,\n",
       "       1398171.05353046, 1187021.49985553, 1371024.29006935,\n",
       "       1108983.89166006,  975275.64367699, 1202021.72545541,\n",
       "       1933557.66279012,  753137.60441109,  972296.00805767,\n",
       "       1448918.48607914, 1859400.97278677,  914399.57695682,\n",
       "       1004535.0862029 ,  924307.91932908,  964217.30193313,\n",
       "       1220872.72352639, 1266519.75438386, 1619407.66363027,\n",
       "       1582521.89907628,  764723.64152352, 1739052.84077997,\n",
       "       1593274.88965391, 1677324.99055396,  982954.91497658,\n",
       "       1370603.38372478,  906582.85685683, 1631028.42785846,\n",
       "        690988.17277011, 1573202.0784278 , 1466498.88062135,\n",
       "       1650267.04845574, 1182468.07832004, 1173494.86869978,\n",
       "       1333497.9602439 , 1256991.4637588 , 1859915.69316237,\n",
       "        758934.1049994 , 1392542.74052298, 1711869.49819376,\n",
       "       1561607.58741314,  886776.00191125, 1312020.95776129,\n",
       "       1174661.91515473, 1071955.83874387, 1381315.05056424,\n",
       "       1106592.45010973, 1170614.82399651,  992963.00044655,\n",
       "       1471298.27839527, 1531571.13792539, 1609332.54145903,\n",
       "       1374687.26168946,  963514.88833808, 1516653.63997675,\n",
       "       1161808.93374368,  874674.36305551, 1168468.71316309,\n",
       "        608242.40551374, 1499895.89008407, 1020508.80251934,\n",
       "       1657914.86180147,  870372.42975701, 1469286.71372895,\n",
       "       1585005.10990051, 2474725.66527181, 1312108.9754553 ,\n",
       "        927776.12992532, 1291387.28478145, 1591848.64102569,\n",
       "        601180.27473428, 1595036.52624195, 1186556.58305169,\n",
       "       1569918.89962044,  775297.74281776, 1498585.74619852,\n",
       "        731227.2577113 , 1504692.54832433, 1046686.00738145,\n",
       "       1305402.58575899, 1275949.48895668,  997331.42657935,\n",
       "        617836.4065909 , 1591112.86332963, 1400763.16673454,\n",
       "       1311860.51933214, 1197044.05948884, 1041880.02840122,\n",
       "       1530068.19561831,  967934.24578169, 1427009.14149163,\n",
       "       1165147.25822172,  869045.4903655 , 1541101.84334575,\n",
       "        952854.45148399, 1649273.51933561, 1262902.39001213,\n",
       "        630780.85419634,  576868.98552465, 1709538.2551112 ,\n",
       "       1627857.63000985,  838666.12045423,  878776.97048197,\n",
       "       1299345.44781374, 1160416.6213843 ,  749980.45207402,\n",
       "        983974.19311213, 1153309.90526984,  943191.01927423,\n",
       "       1123570.59504222, 1547446.72609464, 1298891.03780586,\n",
       "        694670.38901374, 1042411.7239971 ,  858369.88200395,\n",
       "       1238168.96478325, 1069914.16183729, 1032803.7734362 ,\n",
       "       1215816.40190396, 1344361.73315599, 1128683.07322047,\n",
       "       1451580.23403106, 1094467.12735969, 1242819.75475179,\n",
       "       1312634.56732398, 1501591.70729097, 1577868.55728479,\n",
       "       1263870.34957592,  966363.73113409, 1304929.99505728,\n",
       "        948730.96917383, 1116943.51964591, 1177297.4901103 ,\n",
       "        988220.39094906, 1035263.7103992 , 1114925.57767812,\n",
       "       1691529.13991505,  493943.8820625 , 1819479.31451052,\n",
       "       1387271.64234116,  632696.71378542, 1224357.78570422,\n",
       "       1180743.31764247, 1036241.70518265,  921234.34851303,\n",
       "       1754054.11179482, 1583328.06187229, 1563758.96394322,\n",
       "       1342866.59984795, 1173594.23690928, 1042902.57541112,\n",
       "       1318531.801569  , 1870001.48200097, 1663623.85817627,\n",
       "       1045096.55057763])"
      ]
     },
     "execution_count": 36,
     "metadata": {},
     "output_type": "execute_result"
    }
   ],
   "source": [
    "reg_predict"
   ]
  },
  {
   "cell_type": "code",
   "execution_count": 37,
   "id": "a18521b6",
   "metadata": {},
   "outputs": [
    {
     "data": {
      "text/plain": [
       "(1000,)"
      ]
     },
     "execution_count": 37,
     "metadata": {},
     "output_type": "execute_result"
    }
   ],
   "source": [
    "reg_predict.shape"
   ]
  },
  {
   "cell_type": "code",
   "execution_count": 38,
   "id": "87405aa6",
   "metadata": {},
   "outputs": [
    {
     "name": "stdout",
     "output_type": "stream",
     "text": [
      "10089009300.893991\n",
      "80879.09723489445\n",
      "100444.06055558483\n"
     ]
    }
   ],
   "source": [
    "## Performance Metrics\n",
    "from sklearn.metrics import mean_squared_error\n",
    "from sklearn.metrics import mean_absolute_error\n",
    "print(mean_squared_error(y_test,reg_predict))\n",
    "print(mean_absolute_error(y_test,reg_predict))\n",
    "print(np.sqrt(mean_squared_error(y_test,reg_predict)))"
   ]
  },
  {
   "cell_type": "code",
   "execution_count": 39,
   "id": "aef915c0",
   "metadata": {},
   "outputs": [
    {
     "name": "stdout",
     "output_type": "stream",
     "text": [
      "0.9179971706834331\n"
     ]
    }
   ],
   "source": [
    "from sklearn.metrics import r2_score\n",
    "score=r2_score(y_test,reg_predict)\n",
    "print(score)"
   ]
  },
  {
   "cell_type": "code",
   "execution_count": 40,
   "id": "510481a9",
   "metadata": {},
   "outputs": [
    {
     "data": {
      "text/plain": [
       "0.9175846816023638"
      ]
     },
     "execution_count": 40,
     "metadata": {},
     "output_type": "execute_result"
    }
   ],
   "source": [
    "\n",
    "#display adjusted R-squared\n",
    "1 - (1-score)*(len(y_test)-1)/(len(y_test)-X_test.shape[1]-1)"
   ]
  },
  {
   "cell_type": "code",
   "execution_count": 41,
   "id": "5c35d6c3",
   "metadata": {},
   "outputs": [],
   "source": [
    "##Ridge regression\n",
    "from sklearn.linear_model import Ridge\n",
    "ridge=Ridge()\n",
    "ridge.fit(scaled_data_X_train,y_train)\n",
    "ridge_predict=ridge.predict(scaled_data_X_test)\n"
   ]
  },
  {
   "cell_type": "code",
   "execution_count": 42,
   "id": "1a966de9",
   "metadata": {},
   "outputs": [],
   "source": [
    "ridge_predict=ridge.predict(scaled_data_X_test)"
   ]
  },
  {
   "cell_type": "code",
   "execution_count": 43,
   "id": "67ba121e",
   "metadata": {},
   "outputs": [
    {
     "name": "stdout",
     "output_type": "stream",
     "text": [
      "0.9179972203628644\n",
      "0.9175847315316916\n"
     ]
    }
   ],
   "source": [
    "from sklearn.metrics import r2_score\n",
    "score=r2_score(y_test,ridge_predict)\n",
    "print(score)\n",
    "\n",
    "#display adjusted R-squared\n",
    "print(1 - (1-score)*(len(y_test)-1)/(len(y_test)-X_test.shape[1]-1))"
   ]
  },
  {
   "cell_type": "code",
   "execution_count": 44,
   "id": "a1d16760",
   "metadata": {},
   "outputs": [],
   "source": [
    "##lasso regression\n",
    "from sklearn.linear_model import Lasso\n",
    "lasso=Lasso()\n",
    "lasso.fit(scaled_data_X_train,y_train)\n",
    "lasso_predict=lasso.predict(scaled_data_X_test)\n"
   ]
  },
  {
   "cell_type": "code",
   "execution_count": 45,
   "id": "5ead5e55",
   "metadata": {},
   "outputs": [
    {
     "name": "stdout",
     "output_type": "stream",
     "text": [
      "0.9179972521079874\n",
      "0.9175847634364984\n"
     ]
    }
   ],
   "source": [
    "from sklearn.metrics import r2_score\n",
    "score=r2_score(y_test,lasso_predict)\n",
    "print(score)\n",
    "\n",
    "#display adjusted R-squared\n",
    "print(1 - (1-score)*(len(y_test)-1)/(len(y_test)-X_test.shape[1]-1))"
   ]
  },
  {
   "cell_type": "code",
   "execution_count": 46,
   "id": "97523e84",
   "metadata": {},
   "outputs": [],
   "source": [
    "from sklearn.svm import SVR\n",
    "svr=SVR()\n",
    "svr.fit(scaled_data_X_train,y_train)\n",
    "svr_predict=svr.predict(scaled_data_X_test)\n"
   ]
  },
  {
   "cell_type": "code",
   "execution_count": 47,
   "id": "4b449f33",
   "metadata": {},
   "outputs": [
    {
     "name": "stdout",
     "output_type": "stream",
     "text": [
      "-0.0010365122532220994\n",
      "-0.006071907184073355\n"
     ]
    }
   ],
   "source": [
    "from sklearn.metrics import r2_score\n",
    "score=r2_score(y_test,svr_predict)\n",
    "print(score)\n",
    "\n",
    "#display adjusted R-squared\n",
    "print(1 - (1-score)*(len(y_test)-1)/(len(y_test)-X_test.shape[1]-1))"
   ]
  },
  {
   "cell_type": "code",
   "execution_count": 48,
   "id": "1450b9ef",
   "metadata": {},
   "outputs": [],
   "source": [
    "#no benefit of hypertuning too bad model"
   ]
  },
  {
   "cell_type": "markdown",
   "id": "509ad344",
   "metadata": {},
   "source": [
    "# Decision Tree Regressor"
   ]
  },
  {
   "cell_type": "code",
   "execution_count": 49,
   "id": "59942cf1",
   "metadata": {},
   "outputs": [],
   "source": [
    "from sklearn.tree import DecisionTreeRegressor  \n",
    "  \n",
    "# create a regressor object \n",
    "dt_regressor = DecisionTreeRegressor()  \n",
    "  \n",
    "# fit the regressor with X and Y data \n",
    "dt_regressor.fit(scaled_data_X_train,y_train)\n",
    "dt_predict=dt_regressor.predict(scaled_data_X_test)\n"
   ]
  },
  {
   "cell_type": "code",
   "execution_count": 50,
   "id": "faa13e5a",
   "metadata": {},
   "outputs": [
    {
     "name": "stdout",
     "output_type": "stream",
     "text": [
      "0.737244838629525\n",
      "0.735923132586414\n"
     ]
    }
   ],
   "source": [
    "from sklearn.metrics import r2_score\n",
    "score=r2_score(y_test,dt_predict)\n",
    "print(score)\n",
    "\n",
    "#display adjusted R-squared\n",
    "print(1 - (1-score)*(len(y_test)-1)/(len(y_test)-X_test.shape[1]-1))"
   ]
  },
  {
   "cell_type": "markdown",
   "id": "05adfde8",
   "metadata": {},
   "source": [
    "Hyperparameter tuning in DTR"
   ]
  },
  {
   "cell_type": "code",
   "execution_count": 51,
   "id": "9dd7369d",
   "metadata": {},
   "outputs": [
    {
     "ename": "SyntaxError",
     "evalue": "invalid syntax (3387160909.py, line 1)",
     "output_type": "error",
     "traceback": [
      "\u001b[1;36m  File \u001b[1;32m\"C:\\Users\\mussingh\\AppData\\Local\\Temp\\ipykernel_51364\\3387160909.py\"\u001b[1;36m, line \u001b[1;32m1\u001b[0m\n\u001b[1;33m    grid_params='criterion': ['gini', 'entropy'],\u001b[0m\n\u001b[1;37m                           ^\u001b[0m\n\u001b[1;31mSyntaxError\u001b[0m\u001b[1;31m:\u001b[0m invalid syntax\n"
     ]
    }
   ],
   "source": [
    " grid_params='criterion': ['gini', 'entropy'],\n",
    "    'max_depth' : range(2,10,1),\n",
    "    'min_samples_leaf' : range(1,8,1),\n",
    "    'min_samples_split': range(2,8,1),\n",
    "    'splitter' : ['best', 'random']"
   ]
  },
  {
   "cell_type": "markdown",
   "id": "411b704a",
   "metadata": {},
   "source": [
    "# RANDOM FOREST\n",
    "\n"
   ]
  },
  {
   "cell_type": "code",
   "execution_count": null,
   "id": "a9c1c887",
   "metadata": {},
   "outputs": [],
   "source": [
    "\n",
    "# importing random forest classifier from assemble module\n",
    "from sklearn.ensemble import RandomForestRegressor\n",
    "rand_regressor= RandomForestRegressor()\n",
    "rand_regressor.fit(scaled_data_X_train,y_train)\n",
    "rand_predict=rand_regressor.predict(scaled_data_X_test)"
   ]
  },
  {
   "cell_type": "code",
   "execution_count": null,
   "id": "6b340e65",
   "metadata": {},
   "outputs": [],
   "source": [
    "from sklearn.metrics import r2_score\n",
    "score=r2_score(y_test,rand_predict)\n",
    "print(score)\n",
    "\n",
    "#display adjusted R-squared\n",
    "print(1 - (1-score)*(len(y_test)-1)/(len(y_test)-X_test.shape[1]-1))"
   ]
  },
  {
   "cell_type": "markdown",
   "id": "f1ff0e4b",
   "metadata": {},
   "source": [
    "ADABOOST\n"
   ]
  },
  {
   "cell_type": "code",
   "execution_count": null,
   "id": "b2d8c712",
   "metadata": {},
   "outputs": [],
   "source": [
    "from sklearn.ensemble import AdaBoostRegressor\n",
    "ADA_regressor= AdaBoostRegressor()\n",
    "ADA_regressor.fit(scaled_data_X_train,y_train)\n",
    "ADA_predict=ADA_regressor.predict(scaled_data_X_test)"
   ]
  },
  {
   "cell_type": "code",
   "execution_count": null,
   "id": "bdb17d61",
   "metadata": {},
   "outputs": [],
   "source": [
    "from sklearn.metrics import r2_score\n",
    "score=r2_score(y_test,ADA_predict)\n",
    "print(score)\n",
    "\n",
    "#display adjusted R-squared\n",
    "print(1 - (1-score)*(len(y_test)-1)/(len(y_test)-X_test.shape[1]-1))"
   ]
  },
  {
   "cell_type": "markdown",
   "id": "934a9bfc",
   "metadata": {},
   "source": [
    "GRADIENT BOOST"
   ]
  },
  {
   "cell_type": "code",
   "execution_count": null,
   "id": "a33c10cf",
   "metadata": {},
   "outputs": [],
   "source": [
    "from sklearn.ensemble import GradientBoostingRegressor\n",
    "Gradient_regressor= GradientBoostingRegressor()\n",
    "Gradient_regressor.fit(scaled_data_X_train,y_train)\n",
    "Gradient_predict= Gradient_regressor.predict(scaled_data_X_test)"
   ]
  },
  {
   "cell_type": "code",
   "execution_count": null,
   "id": "20b7437f",
   "metadata": {},
   "outputs": [],
   "source": [
    "from sklearn.metrics import r2_score\n",
    "score=r2_score(y_test,Gradient_predict)\n",
    "print(score)\n",
    "\n",
    "#display adjusted R-squared\n",
    "print(1 - (1-score)*(len(y_test)-1)/(len(y_test)-X_test.shape[1]-1))"
   ]
  },
  {
   "cell_type": "code",
   "execution_count": null,
   "id": "ded6dedb",
   "metadata": {},
   "outputs": [],
   "source": []
  },
  {
   "cell_type": "code",
   "execution_count": null,
   "id": "a6424387",
   "metadata": {},
   "outputs": [],
   "source": [
    "XGBBOOST"
   ]
  },
  {
   "cell_type": "code",
   "execution_count": 52,
   "id": "b629cd50",
   "metadata": {},
   "outputs": [],
   "source": [
    "import xgboost"
   ]
  },
  {
   "cell_type": "code",
   "execution_count": 53,
   "id": "29217da5",
   "metadata": {},
   "outputs": [],
   "source": [
    "xgb=xgboost.XGBRegressor()"
   ]
  },
  {
   "cell_type": "code",
   "execution_count": 54,
   "id": "df8077f7",
   "metadata": {},
   "outputs": [
    {
     "data": {
      "text/plain": [
       "XGBRegressor(base_score=0.5, booster='gbtree', callbacks=None,\n",
       "             colsample_bylevel=1, colsample_bynode=1, colsample_bytree=1,\n",
       "             early_stopping_rounds=None, enable_categorical=False,\n",
       "             eval_metric=None, gamma=0, gpu_id=-1, grow_policy='depthwise',\n",
       "             importance_type=None, interaction_constraints='',\n",
       "             learning_rate=0.300000012, max_bin=256, max_cat_to_onehot=4,\n",
       "             max_delta_step=0, max_depth=6, max_leaves=0, min_child_weight=1,\n",
       "             missing=nan, monotone_constraints='()', n_estimators=100, n_jobs=0,\n",
       "             num_parallel_tree=1, predictor='auto', random_state=0, reg_alpha=0,\n",
       "             reg_lambda=1, ...)"
      ]
     },
     "execution_count": 54,
     "metadata": {},
     "output_type": "execute_result"
    }
   ],
   "source": [
    "xgb.fit(scaled_data_X_train,y_train)"
   ]
  },
  {
   "cell_type": "code",
   "execution_count": 55,
   "id": "664bce33",
   "metadata": {},
   "outputs": [],
   "source": [
    "xgb_predict= xgb.predict(scaled_data_X_test)"
   ]
  },
  {
   "cell_type": "code",
   "execution_count": 56,
   "id": "ff15ae36",
   "metadata": {},
   "outputs": [
    {
     "name": "stdout",
     "output_type": "stream",
     "text": [
      "0.8843894666148114\n",
      "0.8838079246963748\n"
     ]
    }
   ],
   "source": [
    "from sklearn.metrics import r2_score\n",
    "score=r2_score(y_test,xgb_predict)\n",
    "print(score)\n",
    "\n",
    "#display adjusted R-squared\n",
    "print(1 - (1-score)*(len(y_test)-1)/(len(y_test)-X_test.shape[1]-1))"
   ]
  },
  {
   "cell_type": "code",
   "execution_count": null,
   "id": "496eac90",
   "metadata": {},
   "outputs": [],
   "source": []
  }
 ],
 "metadata": {
  "kernelspec": {
   "display_name": "Python 3 (ipykernel)",
   "language": "python",
   "name": "python3"
  },
  "language_info": {
   "codemirror_mode": {
    "name": "ipython",
    "version": 3
   },
   "file_extension": ".py",
   "mimetype": "text/x-python",
   "name": "python",
   "nbconvert_exporter": "python",
   "pygments_lexer": "ipython3",
   "version": "3.7.0"
  }
 },
 "nbformat": 4,
 "nbformat_minor": 5
}
